{
 "cells": [
  {
   "cell_type": "markdown",
   "metadata": {},
   "source": [
    "# Purpose of the notebook\n",
    "1. In this notebook two tables from MIMIC-III dataset are merged and cleaned. \n",
    "    * Tables merged - ADMISSIONS, PATIENTS\n",
    "2. Qualifying hospital dmission data are defined and extracted.\n",
    "3. 30-day readmission label (0 or 1) are calculated for all qualifying hospital admissions. Note the classification will be carried ou\n",
    "\n",
    "Note: see data/README.md for important info about access to data."
   ]
  },
  {
   "cell_type": "code",
   "execution_count": 1,
   "metadata": {},
   "outputs": [
    {
     "name": "stdout",
     "output_type": "stream",
     "text": [
      "58976\n",
      "Index(['ROW_ID', 'HADM_ID', 'ADMITTIME', 'DISCHTIME', 'DEATHTIME',\n",
      "       'ADMISSION_TYPE', 'ADMISSION_LOCATION', 'DISCHARGE_LOCATION',\n",
      "       'INSURANCE', 'LANGUAGE', 'RELIGION', 'MARITAL_STATUS', 'ETHNICITY',\n",
      "       'EDREGTIME', 'EDOUTTIME', 'DIAGNOSIS', 'HOSPITAL_EXPIRE_FLAG',\n",
      "       'HAS_CHARTEVENTS_DATA'],\n",
      "      dtype='object')\n"
     ]
    }
   ],
   "source": [
    "import pandas as pd\n",
    "pd.options.mode.chained_assignment = None\n",
    "# load the admissions table, count the number of rows and display column names\n",
    "admissions=pd.read_csv('../../data/raw/ADMISSIONS.csv', index_col=['SUBJECT_ID']).sort_index()\n",
    "print(len(admissions))\n",
    "print(admissions.columns)"
   ]
  },
  {
   "cell_type": "code",
   "execution_count": 2,
   "metadata": {},
   "outputs": [
    {
     "name": "stdout",
     "output_type": "stream",
     "text": [
      "<class 'pandas.core.frame.DataFrame'>\n",
      "Int64Index: 58976 entries, 2 to 99999\n",
      "Data columns (total 18 columns):\n",
      " #   Column                Non-Null Count  Dtype \n",
      "---  ------                --------------  ----- \n",
      " 0   ROW_ID                58976 non-null  int64 \n",
      " 1   HADM_ID               58976 non-null  int64 \n",
      " 2   ADMITTIME             58976 non-null  object\n",
      " 3   DISCHTIME             58976 non-null  object\n",
      " 4   DEATHTIME             5854 non-null   object\n",
      " 5   ADMISSION_TYPE        58976 non-null  object\n",
      " 6   ADMISSION_LOCATION    58976 non-null  object\n",
      " 7   DISCHARGE_LOCATION    58976 non-null  object\n",
      " 8   INSURANCE             58976 non-null  object\n",
      " 9   LANGUAGE              33644 non-null  object\n",
      " 10  RELIGION              58518 non-null  object\n",
      " 11  MARITAL_STATUS        48848 non-null  object\n",
      " 12  ETHNICITY             58976 non-null  object\n",
      " 13  EDREGTIME             30877 non-null  object\n",
      " 14  EDOUTTIME             30877 non-null  object\n",
      " 15  DIAGNOSIS             58951 non-null  object\n",
      " 16  HOSPITAL_EXPIRE_FLAG  58976 non-null  int64 \n",
      " 17  HAS_CHARTEVENTS_DATA  58976 non-null  int64 \n",
      "dtypes: int64(4), object(14)\n",
      "memory usage: 8.5+ MB\n"
     ]
    }
   ],
   "source": [
    "admissions.info()"
   ]
  },
  {
   "cell_type": "markdown",
   "metadata": {},
   "source": [
    "### Description of the columns\n",
    "Detailed description is available at https://mimic.physionet.org/mimictables/admissions/\n",
    "\n",
    "* ROW_ID, HADM_ID - unique identifiers\n",
    "* ADMITTIME, DISCHTIME, DEATHTIME, EDREGTIME, EDOUTTIME - time of various events associated with admission\n",
    "    * ADMITTIME and DISCHTIME for the same patient enable calculation of the 30-day readmission label (output label)\n",
    "    * ADMITTIME and DISCHTIME for the same patient enable determination of prior admissions (new engineered feature)\n",
    "    * The other time features will not be used\n",
    "* ADMISSION_TYPE - elective (planned) or urgent/emergency unplanned admission type\n",
    "    * ADMISSION_TYPE affects 30-day readmission calculation, only unplanned admissions within 30 days count\n",
    "    * newborn admissions do not qualify and will be filtered out\n",
    "* ADMISSION_LOCATION, DISCHARGE_LOCATION, INSURANCE, LANGUAGE, RELIGION, MARITAL_STATUS - mostly demographic data, explanatory variables\n",
    "* DIAGNOSIS - non-systematic diagnosis at admission, will not be used for this analysis\n",
    "* HOSPITAL_EXPIRE_FLAG - Since this feature cannot be generalized to new data, we will not use it in the analysis\n",
    "* HAS_CHARTEVENTS_DATA - will not be used in this analysis\n",
    "\n",
    "Next steps:\n",
    "1. filter out newborn admissions\n",
    "2. calculate 30-day readmission label, prior admissions, length of stay in days"
   ]
  },
  {
   "cell_type": "code",
   "execution_count": 3,
   "metadata": {},
   "outputs": [
    {
     "name": "stdout",
     "output_type": "stream",
     "text": [
      "ADMISSION_TYPE\n",
      "EMERGENCY    42071\n",
      "NEWBORN       7863\n",
      "ELECTIVE      7706\n",
      "URGENT        1336\n",
      "Name: HADM_ID, dtype: int64\n"
     ]
    }
   ],
   "source": [
    "# Count the number of admissions based on categories\n",
    "patient_category_count = admissions.groupby('ADMISSION_TYPE')['HADM_ID'].count()\n",
    "patient_category_count = patient_category_count.sort_values(ascending = False)\n",
    "print(patient_category_count)"
   ]
  },
  {
   "cell_type": "code",
   "execution_count": 4,
   "metadata": {},
   "outputs": [
    {
     "name": "stdout",
     "output_type": "stream",
     "text": [
      "After filtering the number of admissions went down to  51113 from  58976\n"
     ]
    }
   ],
   "source": [
    "orig_adm_num = len(admissions)\n",
    "admissions = admissions[admissions.ADMISSION_TYPE!='NEWBORN']\n",
    "filt_adm_num = len(admissions)\n",
    "print(\"After filtering the number of admissions went down to \", filt_adm_num, \"from \", orig_adm_num)"
   ]
  },
  {
   "cell_type": "code",
   "execution_count": 5,
   "metadata": {},
   "outputs": [],
   "source": [
    "# 2.calculate 30-day readmission label, prior admissions, length of stay in days\n",
    "# convert ADMIDTIME and DISCHTIME to datetime objects\n",
    "admissions['ADMITTIME'] = pd.to_datetime(admissions['ADMITTIME'])\n",
    "admissions['DISCHTIME'] = pd.to_datetime(admissions['DISCHTIME'])\n",
    "\n",
    "# sort by subject_ID and admission date\n",
    "admissions = admissions.sort_values(['SUBJECT_ID','ADMITTIME'])\n",
    "\n",
    "# Create a column \"PREV_DISCHTIME\" and get the date of previous discharge\n",
    "admissions['PREV_DISCHTIME'] = admissions.groupby('SUBJECT_ID').DISCHTIME.shift(1)"
   ]
  },
  {
   "cell_type": "code",
   "execution_count": 6,
   "metadata": {},
   "outputs": [],
   "source": [
    "# combine urgent and emergency admissions\n",
    "admissions.loc[admissions['ADMISSION_TYPE']=='URGENT', 'ADMISSION_TYPE'] = 'EMERGENCY'\n",
    "\n",
    "# filter out ELECTIVE admissions from current admission\n",
    "admissions = admissions[admissions['ADMISSION_TYPE']=='EMERGENCY']\n",
    "\n",
    "# Create a column \"NEXT_ADMITTIME\" and get the date of next admission\n",
    "admissions['NEXT_ADMITTIME'] = admissions.groupby('SUBJECT_ID').ADMITTIME.shift(-1)\n",
    "\n",
    "# create a new calumn calculating the number of days from previous discharge\n",
    "admissions['TIME_FROM_PREV_DICH'] = (admissions['ADMITTIME'].dt.date-admissions['PREV_DISCHTIME'].dt.date).dt.days\n",
    "\n",
    "# create a new calumn calculating the number of days to next admission\n",
    "admissions['TIME_TO_NEXT_ADMIT'] = (admissions['NEXT_ADMITTIME'].dt.date-admissions['DISCHTIME'].dt.date).dt.days\n",
    "\n",
    "# create 2 new columns: 1. - OUTPUT_LABEL (0-not readmitted within 30 days, 1- readmitted within 30 days), 1. - 1Y_PRIOR_ADM (0-No, 1-Yes)\n",
    "admissions.loc[admissions['TIME_TO_NEXT_ADMIT'] <= 30, 'OUTPUT_LABEL'] = 1\n",
    "admissions.loc[admissions['TIME_FROM_PREV_DICH'] < 365, '1Y_PRIOR_ADM'] = 1\n",
    "admissions['OUTPUT_LABEL'] = admissions['OUTPUT_LABEL'].fillna(0)\n",
    "admissions['1Y_PRIOR_ADM'] = admissions['1Y_PRIOR_ADM'].fillna(0)\n",
    "\n",
    "# calculate length of stay in days\n",
    "admissions['LENGTH_OF_STAY_DAYS'] = (admissions['DISCHTIME'].dt.date-admissions['ADMITTIME'].dt.date).dt.days"
   ]
  },
  {
   "cell_type": "code",
   "execution_count": 7,
   "metadata": {},
   "outputs": [
    {
     "name": "stdout",
     "output_type": "stream",
     "text": [
      "<class 'pandas.core.frame.DataFrame'>\n",
      "Int64Index: 46520 entries, 2 to 99999\n",
      "Data columns (total 7 columns):\n",
      " #   Column       Non-Null Count  Dtype         \n",
      "---  ------       --------------  -----         \n",
      " 0   ROW_ID       46520 non-null  int64         \n",
      " 1   GENDER       46520 non-null  object        \n",
      " 2   DOB          46520 non-null  datetime64[ns]\n",
      " 3   DOD          15759 non-null  object        \n",
      " 4   DOD_HOSP     9974 non-null   object        \n",
      " 5   DOD_SSN      13378 non-null  object        \n",
      " 6   EXPIRE_FLAG  46520 non-null  int64         \n",
      "dtypes: datetime64[ns](1), int64(2), object(4)\n",
      "memory usage: 2.8+ MB\n"
     ]
    }
   ],
   "source": [
    "# To get more demographic information about patients we need the PATIENTS.csv table\n",
    "patients_df = pd.read_csv('../../data/raw/PATIENTS.csv', index_col=['SUBJECT_ID'], parse_dates= ['DOB'], encoding='utf-8-sig').sort_index()\n",
    "patients_df.info()"
   ]
  },
  {
   "cell_type": "markdown",
   "metadata": {},
   "source": [
    "## Columns to use\n",
    "* Gender - demographic info\n",
    "* DOB - necessary to calculate the age of patients\n",
    "* Remaining columns mortality data not useful"
   ]
  },
  {
   "cell_type": "code",
   "execution_count": 8,
   "metadata": {},
   "outputs": [
    {
     "name": "stdout",
     "output_type": "stream",
     "text": [
      "<class 'pandas.core.frame.DataFrame'>\n",
      "Int64Index: 43407 entries, 3 to 99992\n",
      "Data columns (total 28 columns):\n",
      " #   Column                Non-Null Count  Dtype         \n",
      "---  ------                --------------  -----         \n",
      " 0   ROW_ID                43407 non-null  int64         \n",
      " 1   HADM_ID               43407 non-null  int64         \n",
      " 2   ADMITTIME             43407 non-null  datetime64[ns]\n",
      " 3   DISCHTIME             43407 non-null  datetime64[ns]\n",
      " 4   DEATHTIME             5595 non-null   object        \n",
      " 5   ADMISSION_TYPE        43407 non-null  object        \n",
      " 6   ADMISSION_LOCATION    43407 non-null  object        \n",
      " 7   DISCHARGE_LOCATION    43407 non-null  object        \n",
      " 8   INSURANCE             43407 non-null  object        \n",
      " 9   LANGUAGE              28349 non-null  object        \n",
      " 10  RELIGION              42976 non-null  object        \n",
      " 11  MARITAL_STATUS        40962 non-null  object        \n",
      " 12  ETHNICITY             43407 non-null  object        \n",
      " 13  EDREGTIME             30865 non-null  object        \n",
      " 14  EDOUTTIME             30865 non-null  object        \n",
      " 15  DIAGNOSIS             43395 non-null  object        \n",
      " 16  HOSPITAL_EXPIRE_FLAG  43407 non-null  int64         \n",
      " 17  HAS_CHARTEVENTS_DATA  43407 non-null  int64         \n",
      " 18  PREV_DISCHTIME        10819 non-null  datetime64[ns]\n",
      " 19  NEXT_ADMITTIME        9816 non-null   datetime64[ns]\n",
      " 20  TIME_FROM_PREV_DICH   10819 non-null  float64       \n",
      " 21  TIME_TO_NEXT_ADMIT    9816 non-null   float64       \n",
      " 22  OUTPUT_LABEL          43407 non-null  float64       \n",
      " 23  1Y_PRIOR_ADM          43407 non-null  float64       \n",
      " 24  LENGTH_OF_STAY_DAYS   43407 non-null  int64         \n",
      " 25  GENDER                43407 non-null  object        \n",
      " 26  DOB                   43407 non-null  datetime64[ns]\n",
      " 27  AGE                   43407 non-null  int64         \n",
      "dtypes: datetime64[ns](5), float64(4), int64(6), object(13)\n",
      "memory usage: 9.6+ MB\n"
     ]
    }
   ],
   "source": [
    "admissions = admissions.merge(patients_df[['GENDER', 'DOB']],left_index=True, right_index=True)\n",
    "# calculate the age by subtracting date of birth from admission date (MIMIC documentation)\n",
    "admissions['AGE'] = admissions['ADMITTIME'].dt.year - admissions['DOB'].dt.year\n",
    "# Note, as part of patient deidentification, the age of patients over 89 has been set to 300.\n",
    "# Reset the age of patients over 89 (coded as 300) to 91 (median age before transformation)\n",
    "admissions.loc[admissions['AGE'] > 89, 'AGE'] = 91\n",
    "admissions.info()"
   ]
  },
  {
   "cell_type": "markdown",
   "metadata": {},
   "source": [
    "### Remaining steps\n",
    "3. eliminate unused columns\n",
    "4. fill out missing values with the mode of the column"
   ]
  },
  {
   "cell_type": "code",
   "execution_count": 9,
   "metadata": {},
   "outputs": [
    {
     "data": {
      "text/plain": [
       "Index(['ROW_ID', 'HADM_ID', 'ADMITTIME', 'DISCHTIME', 'DEATHTIME',\n",
       "       'ADMISSION_TYPE', 'ADMISSION_LOCATION', 'DISCHARGE_LOCATION',\n",
       "       'INSURANCE', 'LANGUAGE', 'RELIGION', 'MARITAL_STATUS', 'ETHNICITY',\n",
       "       'EDREGTIME', 'EDOUTTIME', 'DIAGNOSIS', 'HOSPITAL_EXPIRE_FLAG',\n",
       "       'HAS_CHARTEVENTS_DATA', 'PREV_DISCHTIME', 'NEXT_ADMITTIME',\n",
       "       'TIME_FROM_PREV_DICH', 'TIME_TO_NEXT_ADMIT', 'OUTPUT_LABEL',\n",
       "       '1Y_PRIOR_ADM', 'LENGTH_OF_STAY_DAYS', 'GENDER', 'DOB', 'AGE'],\n",
       "      dtype='object')"
      ]
     },
     "execution_count": 9,
     "metadata": {},
     "output_type": "execute_result"
    }
   ],
   "source": [
    "admissions.columns"
   ]
  },
  {
   "cell_type": "code",
   "execution_count": 10,
   "metadata": {},
   "outputs": [],
   "source": [
    "# 3. eliminate unused columns\n",
    "cols_to_delete = ['ROW_ID', 'ADMITTIME', 'DISCHTIME', 'DEATHTIME',\n",
    "       'ADMISSION_TYPE', 'INSURANCE', 'LANGUAGE', 'RELIGION', 'MARITAL_STATUS',\n",
    "       'EDREGTIME', 'EDOUTTIME', 'DIAGNOSIS', 'HOSPITAL_EXPIRE_FLAG',\n",
    "       'HAS_CHARTEVENTS_DATA', 'PREV_DISCHTIME', 'NEXT_ADMITTIME',\n",
    "       'TIME_FROM_PREV_DICH', 'TIME_TO_NEXT_ADMIT', 'DOB']\n",
    "admissions.drop(columns=cols_to_delete, inplace=True)"
   ]
  },
  {
   "cell_type": "code",
   "execution_count": 11,
   "metadata": {},
   "outputs": [
    {
     "name": "stdout",
     "output_type": "stream",
     "text": [
      "<class 'pandas.core.frame.DataFrame'>\n",
      "Int64Index: 43407 entries, 3 to 99992\n",
      "Data columns (total 9 columns):\n",
      " #   Column               Non-Null Count  Dtype  \n",
      "---  ------               --------------  -----  \n",
      " 0   HADM_ID              43407 non-null  int64  \n",
      " 1   ADMISSION_LOCATION   43407 non-null  object \n",
      " 2   DISCHARGE_LOCATION   43407 non-null  object \n",
      " 3   ETHNICITY            43407 non-null  object \n",
      " 4   OUTPUT_LABEL         43407 non-null  float64\n",
      " 5   1Y_PRIOR_ADM         43407 non-null  float64\n",
      " 6   LENGTH_OF_STAY_DAYS  43407 non-null  int64  \n",
      " 7   GENDER               43407 non-null  object \n",
      " 8   AGE                  43407 non-null  int64  \n",
      "dtypes: float64(2), int64(3), object(4)\n",
      "memory usage: 3.3+ MB\n"
     ]
    }
   ],
   "source": [
    "admissions.info()"
   ]
  },
  {
   "cell_type": "code",
   "execution_count": 12,
   "metadata": {},
   "outputs": [
    {
     "name": "stdout",
     "output_type": "stream",
     "text": [
      "Uniqie categories and counts for ADMISSION_LOCATION\n",
      "EMERGENCY ROOM ADMIT         22754\n",
      "CLINIC REFERRAL/PREMATURE    10020\n",
      "TRANSFER FROM HOSP/EXTRAM     8414\n",
      "PHYS REFERRAL/NORMAL DELI     1880\n",
      "TRANSFER FROM SKILLED NUR      260\n",
      "TRANSFER FROM OTHER HEALT       68\n",
      "** INFO NOT AVAILABLE **         5\n",
      "TRSF WITHIN THIS FACILITY        5\n",
      "HMO REFERRAL/SICK                1\n",
      "Name: ADMISSION_LOCATION, dtype: int64\n"
     ]
    }
   ],
   "source": [
    "# The resulting dataset has no missing values, let's see if some columns can be further processed e.g. to \n",
    "# reduce cardinality\n",
    "print(\"Uniqie categories and counts for ADMISSION_LOCATION\")\n",
    "print(admissions.ADMISSION_LOCATION.value_counts())"
   ]
  },
  {
   "cell_type": "code",
   "execution_count": 13,
   "metadata": {},
   "outputs": [
    {
     "name": "stdout",
     "output_type": "stream",
     "text": [
      "Uniqie categories and counts for ADMISSION_LOCATION, after transformation\n",
      "EMERGENCY ROOM ADMIT         22833\n",
      "CLINIC REFERRAL/PREMATURE    10020\n",
      "TRANSFER FROM HOSP/EXTRAM     8414\n",
      "PHYS REFERRAL/NORMAL DELI     1880\n",
      "TRANSFER FROM SKILLED NUR      260\n",
      "Name: ADMISSION_LOCATION, dtype: int64\n"
     ]
    }
   ],
   "source": [
    "# Merge categories with fewer than 0.5% samples into the largest category\n",
    "admissions.loc[admissions['ADMISSION_LOCATION']=='** INFO NOT AVAILABLE **', 'ADMISSION_LOCATION']='EMERGENCY ROOM ADMIT'\n",
    "admissions.loc[admissions['ADMISSION_LOCATION']=='HMO REFERRAL/SICK', 'ADMISSION_LOCATION']='EMERGENCY ROOM ADMIT'\n",
    "admissions.loc[admissions['ADMISSION_LOCATION']=='TRANSFER FROM OTHER HEALT', 'ADMISSION_LOCATION']='EMERGENCY ROOM ADMIT'\n",
    "admissions.loc[admissions['ADMISSION_LOCATION']=='TRSF WITHIN THIS FACILITY', 'ADMISSION_LOCATION']='EMERGENCY ROOM ADMIT'\n",
    "print(\"Uniqie categories and counts for ADMISSION_LOCATION, after transformation\")\n",
    "print(admissions.ADMISSION_LOCATION.value_counts())"
   ]
  },
  {
   "cell_type": "code",
   "execution_count": 14,
   "metadata": {},
   "outputs": [
    {
     "name": "stdout",
     "output_type": "stream",
     "text": [
      "Uniqie categories and counts for DISCHARGE_LOCATION\n",
      "HOME                         11462\n",
      "HOME HEALTH CARE              9232\n",
      "SNF                           6631\n",
      "REHAB/DISTINCT PART HOSP      5712\n",
      "DEAD/EXPIRED                  5595\n",
      "LONG TERM CARE HOSPITAL       2148\n",
      "DISC-TRAN CANCER/CHLDRN H      601\n",
      "SHORT TERM HOSPITAL            508\n",
      "DISCH-TRAN TO PSYCH HOSP       446\n",
      "HOSPICE-HOME                   392\n",
      "LEFT AGAINST MEDICAL ADVI      353\n",
      "HOSPICE-MEDICAL FACILITY       150\n",
      "OTHER FACILITY                  60\n",
      "HOME WITH HOME IV PROVIDR       59\n",
      "ICF                             47\n",
      "DISC-TRAN TO FEDERAL HC         10\n",
      "SNF-MEDICAID ONLY CERTIF         1\n",
      "Name: DISCHARGE_LOCATION, dtype: int64\n"
     ]
    }
   ],
   "source": [
    "print(\"Uniqie categories and counts for DISCHARGE_LOCATION\")\n",
    "print(admissions.DISCHARGE_LOCATION.value_counts())"
   ]
  },
  {
   "cell_type": "code",
   "execution_count": 15,
   "metadata": {},
   "outputs": [
    {
     "name": "stdout",
     "output_type": "stream",
     "text": [
      "Uniqie categories and counts for DISCHARGE_LOCATION after transformation\n",
      "HOME                         11789\n",
      "HOME HEALTH CARE              9232\n",
      "SNF                           6631\n",
      "REHAB/DISTINCT PART HOSP      5712\n",
      "DEAD/EXPIRED                  5595\n",
      "LONG TERM CARE HOSPITAL       2148\n",
      "DISC-TRAN CANCER/CHLDRN H      601\n",
      "SHORT TERM HOSPITAL            508\n",
      "DISCH-TRAN TO PSYCH HOSP       446\n",
      "HOSPICE-HOME                   392\n",
      "LEFT AGAINST MEDICAL ADVI      353\n",
      "Name: DISCHARGE_LOCATION, dtype: int64\n"
     ]
    }
   ],
   "source": [
    "# Most discharge categories are different from the expected fraction, so I will only merge categories with < 0.5% samples\n",
    "admissions.loc[admissions['DISCHARGE_LOCATION']=='DISC-TRAN TO FEDERAL HC', 'DISCHARGE_LOCATION']='HOME'\n",
    "admissions.loc[admissions['DISCHARGE_LOCATION']=='HOME WITH HOME IV PROVIDR', 'DISCHARGE_LOCATION']='HOME'\n",
    "admissions.loc[admissions['DISCHARGE_LOCATION']=='HOSPICE-MEDICAL FACILITY', 'DISCHARGE_LOCATION']='HOME'\n",
    "admissions.loc[admissions['DISCHARGE_LOCATION']=='ICF', 'DISCHARGE_LOCATION']='HOME'\n",
    "admissions.loc[admissions['DISCHARGE_LOCATION']=='OTHER FACILITY', 'DISCHARGE_LOCATION']='HOME'\n",
    "admissions.loc[admissions['DISCHARGE_LOCATION']=='SNF-MEDICAID ONLY CERTIF', 'DISCHARGE_LOCATION']='HOME'\n",
    "print(\"Uniqie categories and counts for DISCHARGE_LOCATION after transformation\")\n",
    "print(admissions.DISCHARGE_LOCATION.value_counts())"
   ]
  },
  {
   "cell_type": "code",
   "execution_count": 16,
   "metadata": {},
   "outputs": [
    {
     "name": "stdout",
     "output_type": "stream",
     "text": [
      "Uniqie categories and counts for ETHNICITY\n",
      "WHITE                                                       30300\n",
      "BLACK/AFRICAN AMERICAN                                       4230\n",
      "UNKNOWN/NOT SPECIFIED                                        3554\n",
      "HISPANIC OR LATINO                                           1171\n",
      "OTHER                                                         965\n",
      "UNABLE TO OBTAIN                                              702\n",
      "ASIAN                                                         696\n",
      "PATIENT DECLINED TO ANSWER                                    296\n",
      "HISPANIC/LATINO - PUERTO RICAN                                204\n",
      "ASIAN - CHINESE                                               189\n",
      "BLACK/CAPE VERDEAN                                            148\n",
      "WHITE - RUSSIAN                                               145\n",
      "BLACK/HAITIAN                                                  93\n",
      "MULTI RACE ETHNICITY                                           89\n",
      "HISPANIC/LATINO - DOMINICAN                                    66\n",
      "ASIAN - ASIAN INDIAN                                           66\n",
      "PORTUGUESE                                                     50\n",
      "WHITE - OTHER EUROPEAN                                         47\n",
      "WHITE - BRAZILIAN                                              46\n",
      "ASIAN - VIETNAMESE                                             38\n",
      "BLACK/AFRICAN                                                  37\n",
      "HISPANIC/LATINO - GUATEMALAN                                   35\n",
      "MIDDLE EASTERN                                                 35\n",
      "ASIAN - FILIPINO                                               22\n",
      "AMERICAN INDIAN/ALASKA NATIVE                                  22\n",
      "HISPANIC/LATINO - CUBAN                                        19\n",
      "ASIAN - CAMBODIAN                                              17\n",
      "WHITE - EASTERN EUROPEAN                                       17\n",
      "HISPANIC/LATINO - SALVADORAN                                   16\n",
      "NATIVE HAWAIIAN OR OTHER PACIFIC ISLANDER                      13\n",
      "ASIAN - KOREAN                                                 11\n",
      "HISPANIC/LATINO - CENTRAL AMERICAN (OTHER)                     11\n",
      "ASIAN - OTHER                                                  11\n",
      "HISPANIC/LATINO - MEXICAN                                      10\n",
      "SOUTH AMERICAN                                                  7\n",
      "CARIBBEAN ISLAND                                                7\n",
      "HISPANIC/LATINO - COLOMBIAN                                     7\n",
      "ASIAN - JAPANESE                                                5\n",
      "HISPANIC/LATINO - HONDURAN                                      4\n",
      "AMERICAN INDIAN/ALASKA NATIVE FEDERALLY RECOGNIZED TRIBE        3\n",
      "ASIAN - THAI                                                    3\n",
      "Name: ETHNICITY, dtype: int64\n"
     ]
    }
   ],
   "source": [
    "print(\"Uniqie categories and counts for ETHNICITY\")\n",
    "print(admissions.ETHNICITY.value_counts())"
   ]
  },
  {
   "cell_type": "code",
   "execution_count": 17,
   "metadata": {},
   "outputs": [
    {
     "name": "stdout",
     "output_type": "stream",
     "text": [
      "Uniqie categories and counts for ETHNICITY after transformation\n",
      "WHITE       30555\n",
      "OTHER        5743\n",
      "BLACK        4508\n",
      "HISPANIC     1543\n",
      "ASIAN        1058\n",
      "Name: ETHNICITY, dtype: int64\n"
     ]
    }
   ],
   "source": [
    "# Most of the categories are related to 5 major groups - Asian, Black, Hispanic, White and other, merge the categories\n",
    "admissions['ETHNICITY'] = admissions['ETHNICITY'].str.split(\"/|\\s\").str.get(0)\n",
    "ethnicity_list = ['ASIAN','BLACK','HISPANIC','WHITE']\n",
    "admissions.loc[~admissions['ETHNICITY'].isin(ethnicity_list),'ETHNICITY'] = 'OTHER'\n",
    "print(\"Uniqie categories and counts for ETHNICITY after transformation\")\n",
    "print(admissions.ETHNICITY.value_counts())"
   ]
  },
  {
   "cell_type": "code",
   "execution_count": 18,
   "metadata": {},
   "outputs": [],
   "source": [
    "# Lastly encode all categorical variables with dummy columns\n",
    "dummy_cols = ['ADMISSION_LOCATION', 'DISCHARGE_LOCATION', 'ETHNICITY', 'GENDER']\n",
    "admissions = pd.get_dummies(admissions, prefix=dummy_cols, prefix_sep='_', columns=dummy_cols, sparse=False, drop_first=True)"
   ]
  },
  {
   "cell_type": "code",
   "execution_count": 19,
   "metadata": {},
   "outputs": [
    {
     "data": {
      "text/plain": [
       "Index(['HADM_ID', 'OUTPUT_LABEL', '1Y_PRIOR_ADM', 'LENGTH_OF_STAY_DAYS', 'AGE',\n",
       "       'ADMISSION_LOCATION_EMERGENCY ROOM ADMIT',\n",
       "       'ADMISSION_LOCATION_PHYS REFERRAL/NORMAL DELI',\n",
       "       'ADMISSION_LOCATION_TRANSFER FROM HOSP/EXTRAM',\n",
       "       'ADMISSION_LOCATION_TRANSFER FROM SKILLED NUR',\n",
       "       'DISCHARGE_LOCATION_DISC-TRAN CANCER/CHLDRN H',\n",
       "       'DISCHARGE_LOCATION_DISCH-TRAN TO PSYCH HOSP',\n",
       "       'DISCHARGE_LOCATION_HOME', 'DISCHARGE_LOCATION_HOME HEALTH CARE',\n",
       "       'DISCHARGE_LOCATION_HOSPICE-HOME',\n",
       "       'DISCHARGE_LOCATION_LEFT AGAINST MEDICAL ADVI',\n",
       "       'DISCHARGE_LOCATION_LONG TERM CARE HOSPITAL',\n",
       "       'DISCHARGE_LOCATION_REHAB/DISTINCT PART HOSP',\n",
       "       'DISCHARGE_LOCATION_SHORT TERM HOSPITAL', 'DISCHARGE_LOCATION_SNF',\n",
       "       'ETHNICITY_BLACK', 'ETHNICITY_HISPANIC', 'ETHNICITY_OTHER',\n",
       "       'ETHNICITY_WHITE', 'GENDER_M'],\n",
       "      dtype='object')"
      ]
     },
     "execution_count": 19,
     "metadata": {},
     "output_type": "execute_result"
    }
   ],
   "source": [
    "admissions.columns"
   ]
  },
  {
   "cell_type": "code",
   "execution_count": 20,
   "metadata": {},
   "outputs": [],
   "source": [
    "# the index of the table SUBJECT_ID will not be used anymore, from this point forward all the merges will happen \n",
    "# HADM_ID, so delete the index\n",
    "# Save the intermediate table with patient demographic\n",
    "admissions.to_csv('../../data/intermediate/inter022920a.csv')"
   ]
  },
  {
   "cell_type": "code",
   "execution_count": null,
   "metadata": {},
   "outputs": [],
   "source": []
  }
 ],
 "metadata": {
  "kernelspec": {
   "display_name": "MIMIC-III-readmission-prediction",
   "language": "python",
   "name": "mimic-iii-readmission-prediction"
  },
  "language_info": {
   "codemirror_mode": {
    "name": "ipython",
    "version": 3
   },
   "file_extension": ".py",
   "mimetype": "text/x-python",
   "name": "python",
   "nbconvert_exporter": "python",
   "pygments_lexer": "ipython3",
   "version": "3.7.3"
  }
 },
 "nbformat": 4,
 "nbformat_minor": 4
}
