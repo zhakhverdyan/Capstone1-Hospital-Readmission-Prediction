{
 "cells": [
  {
   "cell_type": "markdown",
   "metadata": {},
   "source": [
    "# Purpose of the notebook\n",
    "1. In this notebook two tables from MIMIC-III dataset are merged and cleaned. \n",
    "    * Tables merged - ADMISSIONS, PATIENTS\n",
    "2. Qualifying hospital dmission data are defined and extracted.\n",
    "3. 30-day readmission label (0 or 1) are calculated for all qualifying hospital admissions. Note the classification will be carried ou\n",
    "\n",
    "Note: see data/README.md for important info about access to data."
   ]
  },
  {
   "cell_type": "code",
   "execution_count": 53,
   "metadata": {},
   "outputs": [
    {
     "name": "stdout",
     "output_type": "stream",
     "text": [
      "58976\n",
      "Index(['ROW_ID', 'HADM_ID', 'ADMITTIME', 'DISCHTIME', 'DEATHTIME',\n",
      "       'ADMISSION_TYPE', 'ADMISSION_LOCATION', 'DISCHARGE_LOCATION',\n",
      "       'INSURANCE', 'LANGUAGE', 'RELIGION', 'MARITAL_STATUS', 'ETHNICITY',\n",
      "       'EDREGTIME', 'EDOUTTIME', 'DIAGNOSIS', 'HOSPITAL_EXPIRE_FLAG',\n",
      "       'HAS_CHARTEVENTS_DATA'],\n",
      "      dtype='object')\n"
     ]
    }
   ],
   "source": [
    "import pandas as pd\n",
    "pd.options.mode.chained_assignment = None\n",
    "# load the admissions table, count the number of rows and display column names\n",
    "admissions=pd.read_csv('../../data/raw/ADMISSIONS.csv', index_col=['SUBJECT_ID']).sort_index()\n",
    "print(len(admissions))\n",
    "print(admissions.columns)"
   ]
  },
  {
   "cell_type": "code",
   "execution_count": 54,
   "metadata": {},
   "outputs": [
    {
     "name": "stdout",
     "output_type": "stream",
     "text": [
      "<class 'pandas.core.frame.DataFrame'>\n",
      "Int64Index: 58976 entries, 2 to 99999\n",
      "Data columns (total 18 columns):\n",
      " #   Column                Non-Null Count  Dtype \n",
      "---  ------                --------------  ----- \n",
      " 0   ROW_ID                58976 non-null  int64 \n",
      " 1   HADM_ID               58976 non-null  int64 \n",
      " 2   ADMITTIME             58976 non-null  object\n",
      " 3   DISCHTIME             58976 non-null  object\n",
      " 4   DEATHTIME             5854 non-null   object\n",
      " 5   ADMISSION_TYPE        58976 non-null  object\n",
      " 6   ADMISSION_LOCATION    58976 non-null  object\n",
      " 7   DISCHARGE_LOCATION    58976 non-null  object\n",
      " 8   INSURANCE             58976 non-null  object\n",
      " 9   LANGUAGE              33644 non-null  object\n",
      " 10  RELIGION              58518 non-null  object\n",
      " 11  MARITAL_STATUS        48848 non-null  object\n",
      " 12  ETHNICITY             58976 non-null  object\n",
      " 13  EDREGTIME             30877 non-null  object\n",
      " 14  EDOUTTIME             30877 non-null  object\n",
      " 15  DIAGNOSIS             58951 non-null  object\n",
      " 16  HOSPITAL_EXPIRE_FLAG  58976 non-null  int64 \n",
      " 17  HAS_CHARTEVENTS_DATA  58976 non-null  int64 \n",
      "dtypes: int64(4), object(14)\n",
      "memory usage: 8.5+ MB\n"
     ]
    }
   ],
   "source": [
    "admissions.info()"
   ]
  },
  {
   "cell_type": "markdown",
   "metadata": {},
   "source": [
    "### Description of the columns\n",
    "Detailed description is available at https://mimic.physionet.org/mimictables/admissions/\n",
    "\n",
    "* ROW_ID, HADM_ID - unique identifiers\n",
    "* ADMITTIME, DISCHTIME, DEATHTIME, EDREGTIME, EDOUTTIME - time of various events associated with admission\n",
    "    * ADMITTIME and DISCHTIME for the same patient enable calculation of the 30-day readmission label (output label)\n",
    "    * ADMITTIME and DISCHTIME for the same patient enable determination of prior admissions (new engineered feature)\n",
    "    * The other time features will not be used\n",
    "* ADMISSION_TYPE - elective (planned) or urgent/emergency unplanned admission type\n",
    "    * ADMISSION_TYPE affects 30-day readmission calculation, only unplanned admissions within 30 days count\n",
    "    * newborn admissions do not qualify and will be filtered out\n",
    "* ADMISSION_LOCATION, DISCHARGE_LOCATION, INSURANCE, LANGUAGE, RELIGION, MARITAL_STATUS - mostly demographic data, explanatory variables\n",
    "* DIAGNOSIS - non-systematic diagnosis at admission, will not be used for this analysis\n",
    "* HOSPITAL_EXPIRE_FLAG - admissions resulting in patient death will be filtered out as non-qialifying\n",
    "* HAS_CHARTEVENTS_DATA - will not be used in this analysis\n",
    "\n",
    "Next steps:\n",
    "1. filter out admissions resulting in patient death and newbor admissions\n",
    "2. calculate 30-day readmission label, prior admissions, length of stay in days"
   ]
  },
  {
   "cell_type": "code",
   "execution_count": 55,
   "metadata": {},
   "outputs": [
    {
     "name": "stdout",
     "output_type": "stream",
     "text": [
      "HOSPITAL_EXPIRE_FLAG\n",
      "0    53122\n",
      "1     5854\n",
      "Name: HADM_ID, dtype: int64\n",
      "ADMISSION_TYPE\n",
      "EMERGENCY    42071\n",
      "NEWBORN       7863\n",
      "ELECTIVE      7706\n",
      "URGENT        1336\n",
      "Name: HADM_ID, dtype: int64\n"
     ]
    }
   ],
   "source": [
    "# 1. filter out admissions resulting in patient death and newborn admissions\n",
    "# Count the number of admissions based on hospital expire flag\n",
    "patient_flag_count = admissions.groupby('HOSPITAL_EXPIRE_FLAG')['HADM_ID'].count()\n",
    "patient_flag_count = patient_flag_count.sort_values(ascending = False)\n",
    "print(patient_flag_count)\n",
    "# Count the number of admissions based on categories\n",
    "patient_category_count = admissions.groupby('ADMISSION_TYPE')['HADM_ID'].count()\n",
    "patient_category_count = patient_category_count.sort_values(ascending = False)\n",
    "print(patient_category_count)"
   ]
  },
  {
   "cell_type": "code",
   "execution_count": 56,
   "metadata": {},
   "outputs": [
    {
     "name": "stdout",
     "output_type": "stream",
     "text": [
      "After filtering the number of admissions went down to  45321 from  58976\n"
     ]
    }
   ],
   "source": [
    "orig_adm_num = len(admissions)\n",
    "admissions = admissions[admissions.HOSPITAL_EXPIRE_FLAG==0]\n",
    "admissions = admissions[admissions.ADMISSION_TYPE!='NEWBORN']\n",
    "filt_adm_num = len(admissions)\n",
    "print(\"After filtering the number of admissions went down to \", filt_adm_num, \"from \", orig_adm_num)"
   ]
  },
  {
   "cell_type": "code",
   "execution_count": 57,
   "metadata": {},
   "outputs": [],
   "source": [
    "# 2.calculate 30-day readmission label, prior admissions, length of stay in days\n",
    "# convert ADMIDTIME and DISCHTIME to datetime objects\n",
    "admissions['ADMITTIME'] = pd.to_datetime(admissions['ADMITTIME'])\n",
    "admissions['DISCHTIME'] = pd.to_datetime(admissions['DISCHTIME'])\n",
    "\n",
    "# sort by subject_ID and admission date\n",
    "admissions = admissions.sort_values(['SUBJECT_ID','ADMITTIME'])\n",
    "\n",
    "# Create a column \"PREV_DISCHTIME\" and get the date of previous discharge\n",
    "admissions['PREV_DISCHTIME'] = admissions.groupby('SUBJECT_ID').DISCHTIME.shift(1)"
   ]
  },
  {
   "cell_type": "code",
   "execution_count": 58,
   "metadata": {},
   "outputs": [],
   "source": [
    "# combine urgent and emergency admissions\n",
    "admissions.loc[admissions['ADMISSION_TYPE']=='URGENT', 'ADMISSION_TYPE'] = 'EMERGENCY'\n",
    "\n",
    "# filter out ELECTIVE admissions from current admission\n",
    "admissions = admissions[admissions['ADMISSION_TYPE']=='EMERGENCY']\n",
    "\n",
    "# Create a column \"NEXT_ADMITTIME\" and get the date of next admission\n",
    "admissions['NEXT_ADMITTIME'] = admissions.groupby('SUBJECT_ID').ADMITTIME.shift(-1)\n",
    "\n",
    "# create a new calumn calculating the number of days from previous discharge\n",
    "admissions['TIME_FROM_PREV_DICH'] = (admissions['ADMITTIME'].dt.date-admissions['PREV_DISCHTIME'].dt.date).dt.days\n",
    "\n",
    "# create a new calumn calculating the number of days to next admission\n",
    "admissions['TIME_TO_NEXT_ADMIT'] = (admissions['NEXT_ADMITTIME'].dt.date-admissions['DISCHTIME'].dt.date).dt.days\n",
    "\n",
    "# create 2 new columns: 1. - OUTPUT_LABEL (0-not readmitted within 30 days, 1- readmitted within 30 days), 1. - 1Y_PRIOR_ADM (0-No, 1-Yes)\n",
    "admissions.loc[admissions['TIME_TO_NEXT_ADMIT'] <= 30, 'OUTPUT_LABEL'] = 1\n",
    "admissions.loc[admissions['TIME_FROM_PREV_DICH'] < 365, '1Y_PRIOR_ADM'] = 1\n",
    "admissions['OUTPUT_LABEL'] = admissions['OUTPUT_LABEL'].fillna(0)\n",
    "admissions['1Y_PRIOR_ADM'] = admissions['1Y_PRIOR_ADM'].fillna(0)\n",
    "\n",
    "# calculate length of stay in days\n",
    "admissions['LENGTH_OF_STAY_DAYS'] = (admissions['DISCHTIME'].dt.date-admissions['ADMITTIME'].dt.date).dt.days"
   ]
  },
  {
   "cell_type": "code",
   "execution_count": 59,
   "metadata": {},
   "outputs": [
    {
     "name": "stdout",
     "output_type": "stream",
     "text": [
      "<class 'pandas.core.frame.DataFrame'>\n",
      "Int64Index: 46520 entries, 2 to 99999\n",
      "Data columns (total 7 columns):\n",
      " #   Column       Non-Null Count  Dtype         \n",
      "---  ------       --------------  -----         \n",
      " 0   ROW_ID       46520 non-null  int64         \n",
      " 1   GENDER       46520 non-null  object        \n",
      " 2   DOB          46520 non-null  datetime64[ns]\n",
      " 3   DOD          15759 non-null  object        \n",
      " 4   DOD_HOSP     9974 non-null   object        \n",
      " 5   DOD_SSN      13378 non-null  object        \n",
      " 6   EXPIRE_FLAG  46520 non-null  int64         \n",
      "dtypes: datetime64[ns](1), int64(2), object(4)\n",
      "memory usage: 2.8+ MB\n"
     ]
    }
   ],
   "source": [
    "# To get more demographic information about patients we need the PATIENTS.csv table\n",
    "patients_df = pd.read_csv('../../data/raw/PATIENTS.csv', index_col=['SUBJECT_ID'], parse_dates= ['DOB'], encoding='utf-8-sig').sort_index()\n",
    "patients_df.info()"
   ]
  },
  {
   "cell_type": "markdown",
   "metadata": {},
   "source": [
    "## Columns to use\n",
    "* Gender - demographic info\n",
    "* DOB - necessary to calculate the age of patients\n",
    "* Remaining columns mortality data not useful"
   ]
  },
  {
   "cell_type": "code",
   "execution_count": 60,
   "metadata": {},
   "outputs": [
    {
     "name": "stdout",
     "output_type": "stream",
     "text": [
      "<class 'pandas.core.frame.DataFrame'>\n",
      "Int64Index: 37812 entries, 3 to 99992\n",
      "Data columns (total 28 columns):\n",
      " #   Column                Non-Null Count  Dtype         \n",
      "---  ------                --------------  -----         \n",
      " 0   ROW_ID                37812 non-null  int64         \n",
      " 1   HADM_ID               37812 non-null  int64         \n",
      " 2   ADMITTIME             37812 non-null  datetime64[ns]\n",
      " 3   DISCHTIME             37812 non-null  datetime64[ns]\n",
      " 4   DEATHTIME             0 non-null      object        \n",
      " 5   ADMISSION_TYPE        37812 non-null  object        \n",
      " 6   ADMISSION_LOCATION    37812 non-null  object        \n",
      " 7   DISCHARGE_LOCATION    37812 non-null  object        \n",
      " 8   INSURANCE             37812 non-null  object        \n",
      " 9   LANGUAGE              25398 non-null  object        \n",
      " 10  RELIGION              37476 non-null  object        \n",
      " 11  MARITAL_STATUS        35964 non-null  object        \n",
      " 12  ETHNICITY             37812 non-null  object        \n",
      " 13  EDREGTIME             26780 non-null  object        \n",
      " 14  EDOUTTIME             26780 non-null  object        \n",
      " 15  DIAGNOSIS             37801 non-null  object        \n",
      " 16  HOSPITAL_EXPIRE_FLAG  37812 non-null  int64         \n",
      " 17  HAS_CHARTEVENTS_DATA  37812 non-null  int64         \n",
      " 18  PREV_DISCHTIME        9399 non-null   datetime64[ns]\n",
      " 19  NEXT_ADMITTIME        8521 non-null   datetime64[ns]\n",
      " 20  TIME_FROM_PREV_DICH   9399 non-null   float64       \n",
      " 21  TIME_TO_NEXT_ADMIT    8521 non-null   float64       \n",
      " 22  OUTPUT_LABEL          37812 non-null  float64       \n",
      " 23  1Y_PRIOR_ADM          37812 non-null  float64       \n",
      " 24  LENGTH_OF_STAY_DAYS   37812 non-null  int64         \n",
      " 25  GENDER                37812 non-null  object        \n",
      " 26  DOB                   37812 non-null  datetime64[ns]\n",
      " 27  AGE                   37812 non-null  int64         \n",
      "dtypes: datetime64[ns](5), float64(4), int64(6), object(13)\n",
      "memory usage: 8.4+ MB\n"
     ]
    }
   ],
   "source": [
    "admissions = admissions.merge(patients_df[['GENDER', 'DOB']],left_index=True, right_index=True)\n",
    "# calculate the age by subtracting date of birth from admission date (MIMIC documentation)\n",
    "admissions['AGE'] = admissions['ADMITTIME'].dt.year - admissions['DOB'].dt.year\n",
    "# Note, as part of patient deidentification, the age of patients over 89 has been set to 300.\n",
    "# Reset the age of patients over 89 (coded as 300) to 91 (median age before transformation)\n",
    "admissions.loc[admissions['AGE'] > 89, 'AGE'] = 91\n",
    "admissions.info()"
   ]
  },
  {
   "cell_type": "markdown",
   "metadata": {},
   "source": [
    "### Remaining steps\n",
    "3. eliminate unused columns\n",
    "4. fill out missing values with the mode of the column"
   ]
  },
  {
   "cell_type": "code",
   "execution_count": 61,
   "metadata": {},
   "outputs": [
    {
     "data": {
      "text/plain": [
       "Index(['ROW_ID', 'HADM_ID', 'ADMITTIME', 'DISCHTIME', 'DEATHTIME',\n",
       "       'ADMISSION_TYPE', 'ADMISSION_LOCATION', 'DISCHARGE_LOCATION',\n",
       "       'INSURANCE', 'LANGUAGE', 'RELIGION', 'MARITAL_STATUS', 'ETHNICITY',\n",
       "       'EDREGTIME', 'EDOUTTIME', 'DIAGNOSIS', 'HOSPITAL_EXPIRE_FLAG',\n",
       "       'HAS_CHARTEVENTS_DATA', 'PREV_DISCHTIME', 'NEXT_ADMITTIME',\n",
       "       'TIME_FROM_PREV_DICH', 'TIME_TO_NEXT_ADMIT', 'OUTPUT_LABEL',\n",
       "       '1Y_PRIOR_ADM', 'LENGTH_OF_STAY_DAYS', 'GENDER', 'DOB', 'AGE'],\n",
       "      dtype='object')"
      ]
     },
     "execution_count": 61,
     "metadata": {},
     "output_type": "execute_result"
    }
   ],
   "source": [
    "admissions.columns"
   ]
  },
  {
   "cell_type": "code",
   "execution_count": 62,
   "metadata": {},
   "outputs": [],
   "source": [
    "# 3. eliminate unused columns\n",
    "cols_to_delete = ['ROW_ID', 'ADMITTIME', 'DISCHTIME', 'DEATHTIME',\n",
    "       'ADMISSION_TYPE',\n",
    "       'EDREGTIME', 'EDOUTTIME', 'DIAGNOSIS', 'HOSPITAL_EXPIRE_FLAG',\n",
    "       'HAS_CHARTEVENTS_DATA', 'PREV_DISCHTIME', 'NEXT_ADMITTIME',\n",
    "       'TIME_FROM_PREV_DICH', 'TIME_TO_NEXT_ADMIT', 'DOB']\n",
    "admissions.drop(columns=cols_to_delete, inplace=True)"
   ]
  },
  {
   "cell_type": "code",
   "execution_count": 63,
   "metadata": {},
   "outputs": [
    {
     "name": "stdout",
     "output_type": "stream",
     "text": [
      "<class 'pandas.core.frame.DataFrame'>\n",
      "Int64Index: 37812 entries, 3 to 99992\n",
      "Data columns (total 13 columns):\n",
      " #   Column               Non-Null Count  Dtype  \n",
      "---  ------               --------------  -----  \n",
      " 0   HADM_ID              37812 non-null  int64  \n",
      " 1   ADMISSION_LOCATION   37812 non-null  object \n",
      " 2   DISCHARGE_LOCATION   37812 non-null  object \n",
      " 3   INSURANCE            37812 non-null  object \n",
      " 4   LANGUAGE             37812 non-null  object \n",
      " 5   RELIGION             37812 non-null  object \n",
      " 6   MARITAL_STATUS       37812 non-null  object \n",
      " 7   ETHNICITY            37812 non-null  object \n",
      " 8   OUTPUT_LABEL         37812 non-null  float64\n",
      " 9   1Y_PRIOR_ADM         37812 non-null  float64\n",
      " 10  LENGTH_OF_STAY_DAYS  37812 non-null  int64  \n",
      " 11  GENDER               37812 non-null  object \n",
      " 12  AGE                  37812 non-null  int64  \n",
      "dtypes: float64(2), int64(3), object(8)\n",
      "memory usage: 4.0+ MB\n"
     ]
    }
   ],
   "source": [
    "# 4.fill out missing values with the mode of the column\n",
    "for column in admissions.columns:\n",
    "    admissions[column].fillna(admissions[column].mode()[0], inplace=True)\n",
    "admissions.info()"
   ]
  },
  {
   "cell_type": "code",
   "execution_count": 64,
   "metadata": {},
   "outputs": [],
   "source": [
    "# the index of the table SUBJECT_ID will not be used anymore, from this point forward all the merges will happen \n",
    "# HADM_ID, so delete the index\n",
    "admissions.reset_index(inplace=True)\n",
    "admissions.drop('SUBJECT_ID', axis=1, inplace=True)\n",
    "# Save the intermediate table with patient demographic\n",
    "admissions.to_csv('../../data/intermediate/inter022020.csv')"
   ]
  },
  {
   "cell_type": "code",
   "execution_count": null,
   "metadata": {},
   "outputs": [],
   "source": []
  }
 ],
 "metadata": {
  "kernelspec": {
   "display_name": "MIMIC-III-readmission-prediction",
   "language": "python",
   "name": "mimic-iii-readmission-prediction"
  },
  "language_info": {
   "codemirror_mode": {
    "name": "ipython",
    "version": 3
   },
   "file_extension": ".py",
   "mimetype": "text/x-python",
   "name": "python",
   "nbconvert_exporter": "python",
   "pygments_lexer": "ipython3",
   "version": "3.7.3"
  }
 },
 "nbformat": 4,
 "nbformat_minor": 4
}
