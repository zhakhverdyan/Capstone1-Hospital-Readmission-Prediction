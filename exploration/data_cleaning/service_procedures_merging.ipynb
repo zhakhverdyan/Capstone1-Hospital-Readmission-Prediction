{
 "cells": [
  {
   "cell_type": "markdown",
   "metadata": {},
   "source": [
    "## Purpose of this notebook\n",
    "Merge the SERVICES and CPTEVENTS table, which contain the services and procedures for which the patients were billed, respectively."
   ]
  },
  {
   "cell_type": "code",
   "execution_count": 20,
   "metadata": {},
   "outputs": [
    {
     "name": "stdout",
     "output_type": "stream",
     "text": [
      "<class 'pandas.core.frame.DataFrame'>\n",
      "RangeIndex: 73343 entries, 0 to 73342\n",
      "Data columns (total 6 columns):\n",
      " #   Column        Non-Null Count  Dtype \n",
      "---  ------        --------------  ----- \n",
      " 0   ROW_ID        73343 non-null  int64 \n",
      " 1   SUBJECT_ID    73343 non-null  int64 \n",
      " 2   HADM_ID       73343 non-null  int64 \n",
      " 3   TRANSFERTIME  73343 non-null  object\n",
      " 4   PREV_SERVICE  14668 non-null  object\n",
      " 5   CURR_SERVICE  73343 non-null  object\n",
      "dtypes: int64(3), object(3)\n",
      "memory usage: 3.4+ MB\n"
     ]
    }
   ],
   "source": [
    "import pandas as pd\n",
    "# load the services table\n",
    "services_df = pd.read_csv('../../data/raw/SERVICES.csv')\n",
    "services_df.info()"
   ]
  },
  {
   "cell_type": "code",
   "execution_count": 21,
   "metadata": {},
   "outputs": [
    {
     "data": {
      "text/plain": [
       "CURR_SERVICE\n",
       "MED      24866\n",
       "CMED      9135\n",
       "CSURG     7911\n",
       "NB        7806\n",
       "SURG      5514\n",
       "NSURG     4100\n",
       "TRAUM     3137\n",
       "NMED      2957\n",
       "OMED      2286\n",
       "VSURG     1455\n",
       "TSURG     1338\n",
       "ORTHO     1101\n",
       "GU         436\n",
       "NBB        346\n",
       "GYN        306\n",
       "PSURG      283\n",
       "ENT        247\n",
       "OBS        113\n",
       "DENT         5\n",
       "PSYCH        1\n",
       "Name: ROW_ID, dtype: int64"
      ]
     },
     "execution_count": 21,
     "metadata": {},
     "output_type": "execute_result"
    }
   ],
   "source": [
    "# the column we need is the CURR_SERVICE, let's see how many categories are there\n",
    "service_count = services_df.groupby('CURR_SERVICE')['ROW_ID'].count()\n",
    "service_count = service_count.sort_values(ascending = False)\n",
    "service_count"
   ]
  },
  {
   "cell_type": "code",
   "execution_count": 22,
   "metadata": {},
   "outputs": [
    {
     "data": {
      "text/plain": [
       "58926"
      ]
     },
     "execution_count": 22,
     "metadata": {},
     "output_type": "execute_result"
    }
   ],
   "source": [
    "# Note, some services were very infrequent, so most likely will not have any effect. I will keep them for now and\n",
    "# eliminate all columns with few entries once I have the whole dataset compiled.\n",
    "# Since the number of services rows is greater than the number of admissions, it follows that some admissions \n",
    "# correspond to multiple services. Crosstabulate hospital admission ids and services\n",
    "crosstab_serv = pd.crosstab(services_df['HADM_ID'], services_df['CURR_SERVICE'])\n",
    "len(crosstab_serv)"
   ]
  },
  {
   "cell_type": "code",
   "execution_count": 23,
   "metadata": {},
   "outputs": [
    {
     "data": {
      "text/plain": [
       "Index(['CMED', 'CSURG', 'DENT', 'ENT', 'GU', 'GYN', 'MED', 'NB', 'NBB', 'NMED',\n",
       "       'NSURG', 'OBS', 'OMED', 'ORTHO', 'PSURG', 'PSYCH', 'SURG', 'TRAUM',\n",
       "       'TSURG', 'VSURG'],\n",
       "      dtype='object', name='CURR_SERVICE')"
      ]
     },
     "execution_count": 23,
     "metadata": {},
     "output_type": "execute_result"
    }
   ],
   "source": [
    "crosstab_serv.columns"
   ]
  },
  {
   "cell_type": "code",
   "execution_count": 24,
   "metadata": {},
   "outputs": [
    {
     "data": {
      "text/plain": [
       "['CURR_SERVICE_CMED',\n",
       " 'CURR_SERVICE_CSURG',\n",
       " 'CURR_SERVICE_DENT',\n",
       " 'CURR_SERVICE_ENT',\n",
       " 'CURR_SERVICE_GU',\n",
       " 'CURR_SERVICE_GYN',\n",
       " 'CURR_SERVICE_MED',\n",
       " 'CURR_SERVICE_NB',\n",
       " 'CURR_SERVICE_NBB',\n",
       " 'CURR_SERVICE_NMED',\n",
       " 'CURR_SERVICE_NSURG',\n",
       " 'CURR_SERVICE_OBS',\n",
       " 'CURR_SERVICE_OMED',\n",
       " 'CURR_SERVICE_ORTHO',\n",
       " 'CURR_SERVICE_PSURG',\n",
       " 'CURR_SERVICE_PSYCH',\n",
       " 'CURR_SERVICE_SURG',\n",
       " 'CURR_SERVICE_TRAUM',\n",
       " 'CURR_SERVICE_TSURG',\n",
       " 'CURR_SERVICE_VSURG']"
      ]
     },
     "execution_count": 24,
     "metadata": {},
     "output_type": "execute_result"
    }
   ],
   "source": [
    "# It would be better to keep track of which categorical variables belong together\n",
    "serv_new_colnames = ['CURR_SERVICE_' + column for column in crosstab_serv.columns]\n",
    "serv_new_colnames"
   ]
  },
  {
   "cell_type": "code",
   "execution_count": 25,
   "metadata": {},
   "outputs": [
    {
     "data": {
      "text/plain": [
       "Index(['CURR_SERVICE_CMED', 'CURR_SERVICE_CSURG', 'CURR_SERVICE_DENT',\n",
       "       'CURR_SERVICE_ENT', 'CURR_SERVICE_GU', 'CURR_SERVICE_GYN',\n",
       "       'CURR_SERVICE_MED', 'CURR_SERVICE_NB', 'CURR_SERVICE_NBB',\n",
       "       'CURR_SERVICE_NMED', 'CURR_SERVICE_NSURG', 'CURR_SERVICE_OBS',\n",
       "       'CURR_SERVICE_OMED', 'CURR_SERVICE_ORTHO', 'CURR_SERVICE_PSURG',\n",
       "       'CURR_SERVICE_PSYCH', 'CURR_SERVICE_SURG', 'CURR_SERVICE_TRAUM',\n",
       "       'CURR_SERVICE_TSURG', 'CURR_SERVICE_VSURG'],\n",
       "      dtype='object')"
      ]
     },
     "execution_count": 25,
     "metadata": {},
     "output_type": "execute_result"
    }
   ],
   "source": [
    "# now rename the columns\n",
    "crosstab_serv.columns = serv_new_colnames\n",
    "crosstab_serv.columns"
   ]
  },
  {
   "cell_type": "code",
   "execution_count": 28,
   "metadata": {},
   "outputs": [
    {
     "name": "stdout",
     "output_type": "stream",
     "text": [
      "<class 'pandas.core.frame.DataFrame'>\n",
      "RangeIndex: 573146 entries, 0 to 573145\n",
      "Data columns (total 12 columns):\n",
      " #   Column            Non-Null Count   Dtype  \n",
      "---  ------            --------------   -----  \n",
      " 0   ROW_ID            573146 non-null  int64  \n",
      " 1   SUBJECT_ID        573146 non-null  int64  \n",
      " 2   HADM_ID           573146 non-null  int64  \n",
      " 3   COSTCENTER        573146 non-null  object \n",
      " 4   CHARTDATE         101545 non-null  object \n",
      " 5   CPT_CD            573146 non-null  object \n",
      " 6   CPT_NUMBER        573128 non-null  float64\n",
      " 7   CPT_SUFFIX        22 non-null      object \n",
      " 8   TICKET_ID_SEQ     471601 non-null  float64\n",
      " 9   SECTIONHEADER     573125 non-null  object \n",
      " 10  SUBSECTIONHEADER  573125 non-null  object \n",
      " 11  DESCRIPTION       101545 non-null  object \n",
      "dtypes: float64(2), int64(3), object(7)\n",
      "memory usage: 52.5+ MB\n"
     ]
    }
   ],
   "source": [
    "# load the procedures column\n",
    "cpt_df = pd.read_csv('../../data/raw/CPTEVENTS.csv', low_memory=False)\n",
    "cpt_df.info()"
   ]
  },
  {
   "cell_type": "code",
   "execution_count": 29,
   "metadata": {},
   "outputs": [
    {
     "data": {
      "text/plain": [
       "Index(['SECTIONHEADER_Anesthesia', 'SECTIONHEADER_Emerging technology',\n",
       "       'SECTIONHEADER_Evaluation and management', 'SECTIONHEADER_Medicine',\n",
       "       'SECTIONHEADER_Pathology and laboratory', 'SECTIONHEADER_Radiology',\n",
       "       'SECTIONHEADER_Surgery'],\n",
       "      dtype='object')"
      ]
     },
     "execution_count": 29,
     "metadata": {},
     "output_type": "execute_result"
    }
   ],
   "source": [
    "# the columns we need are sectionheader (higher level procedure category) and subsectionheader (more detailed \n",
    "# procedure category). The two variables are redundant, however, since we don't know at the moment which will be \n",
    "# useful, extract both columns.\n",
    "# crosstabulate as with services\n",
    "crosstab_cpt_sect = pd.crosstab(cpt_df['HADM_ID'], cpt_df['SECTIONHEADER'])\n",
    "crosstab_cpt_sect.columns = ['SECTIONHEADER_' + column for column in crosstab_cpt_sect.columns]\n",
    "crosstab_cpt_sect.columns"
   ]
  },
  {
   "cell_type": "code",
   "execution_count": 30,
   "metadata": {},
   "outputs": [
    {
     "data": {
      "text/plain": [
       "Index(['SUBSECTIONHEADER_Bone/joint studies',\n",
       "       'SUBSECTIONHEADER_Cardiovascular',\n",
       "       'SUBSECTIONHEADER_Cardiovascular system',\n",
       "       'SUBSECTIONHEADER_Case management services',\n",
       "       'SUBSECTIONHEADER_Central nervous system assessments/tests (neuro-cognitive, mental status, speech testing)',\n",
       "       'SUBSECTIONHEADER_Chemistry',\n",
       "       'SUBSECTIONHEADER_Confirmatory consultation for a new or established patient (deleted codes)',\n",
       "       'SUBSECTIONHEADER_Conscious sedation (deleted codes)',\n",
       "       'SUBSECTIONHEADER_Consultations',\n",
       "       'SUBSECTIONHEADER_Critical care services',\n",
       "       'SUBSECTIONHEADER_Diagnostic imaging',\n",
       "       'SUBSECTIONHEADER_Diagnostic ultrasound', 'SUBSECTIONHEADER_Dialysis',\n",
       "       'SUBSECTIONHEADER_Digestive system',\n",
       "       'SUBSECTIONHEADER_End-Stage Renal Disease Services (deleted codes)',\n",
       "       'SUBSECTIONHEADER_Endocrine system',\n",
       "       'SUBSECTIONHEADER_Eye and ocular adnexa',\n",
       "       'SUBSECTIONHEADER_Female genital system',\n",
       "       'SUBSECTIONHEADER_Follow-up inpatient consultations (deleted codes)',\n",
       "       'SUBSECTIONHEADER_General',\n",
       "       'SUBSECTIONHEADER_Hematology and coagulation',\n",
       "       'SUBSECTIONHEADER_Hemic and lymphatic systems',\n",
       "       'SUBSECTIONHEADER_Hospital inpatient services',\n",
       "       'SUBSECTIONHEADER_Hospital observation services',\n",
       "       'SUBSECTIONHEADER_Hydration, therapeutic, prophylactic, diagnostic injections and infusions, and chemotherapy and other highly complex drug or highly complex biologic agent administration',\n",
       "       'SUBSECTIONHEADER_Integumentary system',\n",
       "       'SUBSECTIONHEADER_Laparoscopy, Surgical; Cholecystectomy (deleted code)',\n",
       "       'SUBSECTIONHEADER_Male genital system',\n",
       "       'SUBSECTIONHEADER_Maternity care and delivery',\n",
       "       'SUBSECTIONHEADER_Mediastinum and diaphragm',\n",
       "       'SUBSECTIONHEADER_Moderate (conscious) sedation',\n",
       "       'SUBSECTIONHEADER_Musculoskeletal system',\n",
       "       'SUBSECTIONHEADER_Nervous system',\n",
       "       'SUBSECTIONHEADER_Neurology and neuromuscular procedures',\n",
       "       'SUBSECTIONHEADER_Non-face-to-face nonphysician services',\n",
       "       'SUBSECTIONHEADER_Non-face-to-face physician services',\n",
       "       'SUBSECTIONHEADER_Noninvasive vascular diagnostic studies',\n",
       "       'SUBSECTIONHEADER_Office/other outpatient services',\n",
       "       'SUBSECTIONHEADER_Operating microscope (deleted code)',\n",
       "       'SUBSECTIONHEADER_Ophthalmology', 'SUBSECTIONHEADER_Other procedures',\n",
       "       'SUBSECTIONHEADER_Photodynamic therapy',\n",
       "       'SUBSECTIONHEADER_Physical medicine and rehabilitation',\n",
       "       'SUBSECTIONHEADER_Preventive medicine services',\n",
       "       'SUBSECTIONHEADER_Prolonged services', 'SUBSECTIONHEADER_Psychiatry',\n",
       "       'SUBSECTIONHEADER_Pulmonary', 'SUBSECTIONHEADER_Radiologic guidance',\n",
       "       'SUBSECTIONHEADER_Respiratory system',\n",
       "       'SUBSECTIONHEADER_Special services, procedures and reports',\n",
       "       'SUBSECTIONHEADER_Team Conferences (deleted codes)',\n",
       "       'SUBSECTIONHEADER_Telephone care (deleted codes)',\n",
       "       'SUBSECTIONHEADER_Temporary codes', 'SUBSECTIONHEADER_Urinary system'],\n",
       "      dtype='object')"
      ]
     },
     "execution_count": 30,
     "metadata": {},
     "output_type": "execute_result"
    }
   ],
   "source": [
    "crosstab_cpt_subsect = pd.crosstab(cpt_df['HADM_ID'], cpt_df['SUBSECTIONHEADER'])\n",
    "crosstab_cpt_subsect.columns = ['SUBSECTIONHEADER_' + column for column in crosstab_cpt_subsect.columns]\n",
    "crosstab_cpt_subsect.columns"
   ]
  },
  {
   "cell_type": "code",
   "execution_count": 31,
   "metadata": {},
   "outputs": [
    {
     "name": "stdout",
     "output_type": "stream",
     "text": [
      "The shape of crosstabulated services is  (58926, 20)\n",
      "The shape of crosstabulated procedure sectionheaders is  (44148, 7)\n",
      "The shape of crosstabulated procedure subsectionheaders is  (44148, 54)\n"
     ]
    }
   ],
   "source": [
    "import numpy as np\n",
    "# first look at the shape of each dataframe\n",
    "print(\"The shape of crosstabulated services is \", crosstab_serv.values.shape)\n",
    "print(\"The shape of crosstabulated procedure sectionheaders is \", crosstab_cpt_sect.values.shape)\n",
    "print(\"The shape of crosstabulated procedure subsectionheaders is \", crosstab_cpt_subsect.values.shape)"
   ]
  },
  {
   "cell_type": "code",
   "execution_count": 33,
   "metadata": {},
   "outputs": [],
   "source": [
    "# some admissions are missing procedures information, combine the dataframes for now\n",
    "crosstab_serv = pd.merge(crosstab_serv, crosstab_cpt_sect, left_index=True, right_index=True, how='left')\n",
    "crosstab_serv = pd.merge(crosstab_serv, crosstab_cpt_subsect, left_index=True, right_index=True, how='left')\n",
    "assert crosstab_serv.values.shape == (58926, 81), \"something went wrong\""
   ]
  },
  {
   "cell_type": "code",
   "execution_count": 19,
   "metadata": {},
   "outputs": [
    {
     "data": {
      "text/plain": [
       "(58926, 81)"
      ]
     },
     "execution_count": 19,
     "metadata": {},
     "output_type": "execute_result"
    }
   ],
   "source": [
    "crosstab_serv.reset_index(inplace=True)\n",
    "# save the intermediate dataset\n",
    "crosstab_serv.to_csv('../../data/intermediate/)"
   ]
  },
  {
   "cell_type": "code",
   "execution_count": null,
   "metadata": {},
   "outputs": [],
   "source": []
  }
 ],
 "metadata": {
  "kernelspec": {
   "display_name": "MIMIC-III-readmission-prediction",
   "language": "python",
   "name": "mimic-iii-readmission-prediction"
  },
  "language_info": {
   "codemirror_mode": {
    "name": "ipython",
    "version": 3
   },
   "file_extension": ".py",
   "mimetype": "text/x-python",
   "name": "python",
   "nbconvert_exporter": "python",
   "pygments_lexer": "ipython3",
   "version": "3.7.3"
  }
 },
 "nbformat": 4,
 "nbformat_minor": 4
}
