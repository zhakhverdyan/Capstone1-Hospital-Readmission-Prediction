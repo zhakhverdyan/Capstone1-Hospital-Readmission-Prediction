{
 "cells": [
  {
   "cell_type": "markdown",
   "metadata": {},
   "source": [
    "## Purpose of this notebook\n",
    "Merge the SERVICES and CPTEVENTS table, which contain the services and procedures for which the patients were billed, respectively."
   ]
  },
  {
   "cell_type": "code",
   "execution_count": 73,
   "metadata": {},
   "outputs": [
    {
     "name": "stdout",
     "output_type": "stream",
     "text": [
      "<class 'pandas.core.frame.DataFrame'>\n",
      "RangeIndex: 73343 entries, 0 to 73342\n",
      "Data columns (total 6 columns):\n",
      " #   Column        Non-Null Count  Dtype \n",
      "---  ------        --------------  ----- \n",
      " 0   ROW_ID        73343 non-null  int64 \n",
      " 1   SUBJECT_ID    73343 non-null  int64 \n",
      " 2   HADM_ID       73343 non-null  int64 \n",
      " 3   TRANSFERTIME  73343 non-null  object\n",
      " 4   PREV_SERVICE  14668 non-null  object\n",
      " 5   CURR_SERVICE  73343 non-null  object\n",
      "dtypes: int64(3), object(3)\n",
      "memory usage: 3.4+ MB\n"
     ]
    }
   ],
   "source": [
    "import pandas as pd\n",
    "# load the services table\n",
    "services_df = pd.read_csv('../../data/raw/SERVICES.csv')\n",
    "services_df.info()"
   ]
  },
  {
   "cell_type": "code",
   "execution_count": 74,
   "metadata": {},
   "outputs": [
    {
     "data": {
      "text/plain": [
       "MED      24276\n",
       "CMED      8643\n",
       "CSURG     4482\n",
       "SURG      4410\n",
       "NSURG     3226\n",
       "TRAUM     3127\n",
       "NMED      2905\n",
       "OMED      2159\n",
       "VSURG      944\n",
       "TSURG      690\n",
       "ORTHO      684\n",
       "NBB        243\n",
       "GU         174\n",
       "GYN        172\n",
       "ENT        127\n",
       "PSURG      121\n",
       "OBS        112\n",
       "DENT         5\n",
       "PSYCH        1\n",
       "Name: CURR_SERVICE, dtype: int64"
      ]
     },
     "execution_count": 74,
     "metadata": {},
     "output_type": "execute_result"
    }
   ],
   "source": [
    "# filter the table with qualifying hospital admission ids\n",
    "hadmid = pd.read_csv('../../data/intermediate/inter022620a.csv')\n",
    "services_df = services_df.merge(hadmid['HADM_ID'], left_on='HADM_ID', right_on='HADM_ID', how='right')\n",
    "service_count = services_df.CURR_SERVICE.value_counts()\n",
    "service_count"
   ]
  },
  {
   "cell_type": "code",
   "execution_count": 48,
   "metadata": {},
   "outputs": [
    {
     "data": {
      "text/plain": [
       "MED      25007\n",
       "CMED      8643\n",
       "CSURG     4482\n",
       "SURG      4410\n",
       "NSURG     3226\n",
       "TRAUM     3127\n",
       "NMED      2905\n",
       "OMED      2159\n",
       "VSURG      944\n",
       "TSURG      690\n",
       "ORTHO      684\n",
       "Name: CURR_SERVICE, dtype: int64"
      ]
     },
     "execution_count": 48,
     "metadata": {},
     "output_type": "execute_result"
    }
   ],
   "source": [
    "# top 12 account for the majority of services\n",
    "# Note NBB (newborn baby) services should not be here, need to filter out very young patients\n",
    "# replace remaining services with MED\n",
    "services_df = services_df[services_df.CURR_SERVICE!='NBB']\n",
    "\n",
    "top11 = service_count.index[0:11].tolist()\n",
    "\n",
    "services_df.loc[~services_df['CURR_SERVICE'].isin(top11),'CURR_SERVICE'] = 'MED'\n",
    "service_count = services_df.CURR_SERVICE.value_counts()\n",
    "service_count"
   ]
  },
  {
   "cell_type": "code",
   "execution_count": 49,
   "metadata": {},
   "outputs": [
    {
     "name": "stdout",
     "output_type": "stream",
     "text": [
      "The number of qulifying admisions with services is  43164\n"
     ]
    }
   ],
   "source": [
    "# Since the number of services rows is greater than the number of admissions, it follows that some admissions \n",
    "# correspond to multiple services. Crosstabulate hospital admission ids and services\n",
    "crosstab_serv = pd.crosstab(services_df['HADM_ID'], services_df['CURR_SERVICE'])\n",
    "print(\"The number of qulifying admisions with services is \", len(crosstab_serv))"
   ]
  },
  {
   "cell_type": "code",
   "execution_count": 50,
   "metadata": {},
   "outputs": [
    {
     "data": {
      "text/plain": [
       "Index(['CMED', 'CSURG', 'MED', 'NMED', 'NSURG', 'OMED', 'ORTHO', 'SURG',\n",
       "       'TRAUM', 'TSURG', 'VSURG'],\n",
       "      dtype='object', name='CURR_SERVICE')"
      ]
     },
     "execution_count": 50,
     "metadata": {},
     "output_type": "execute_result"
    }
   ],
   "source": [
    "crosstab_serv.columns"
   ]
  },
  {
   "cell_type": "code",
   "execution_count": 51,
   "metadata": {},
   "outputs": [
    {
     "data": {
      "text/plain": [
       "['CURR_SERVICE_CMED',\n",
       " 'CURR_SERVICE_CSURG',\n",
       " 'CURR_SERVICE_MED',\n",
       " 'CURR_SERVICE_NMED',\n",
       " 'CURR_SERVICE_NSURG',\n",
       " 'CURR_SERVICE_OMED',\n",
       " 'CURR_SERVICE_ORTHO',\n",
       " 'CURR_SERVICE_SURG',\n",
       " 'CURR_SERVICE_TRAUM',\n",
       " 'CURR_SERVICE_TSURG',\n",
       " 'CURR_SERVICE_VSURG']"
      ]
     },
     "execution_count": 51,
     "metadata": {},
     "output_type": "execute_result"
    }
   ],
   "source": [
    "# It would be better to keep track of which categorical variables belong together\n",
    "serv_new_colnames = ['CURR_SERVICE_' + column for column in crosstab_serv.columns]\n",
    "serv_new_colnames"
   ]
  },
  {
   "cell_type": "code",
   "execution_count": 52,
   "metadata": {},
   "outputs": [
    {
     "data": {
      "text/plain": [
       "Index(['CURR_SERVICE_CMED', 'CURR_SERVICE_CSURG', 'CURR_SERVICE_MED',\n",
       "       'CURR_SERVICE_NMED', 'CURR_SERVICE_NSURG', 'CURR_SERVICE_OMED',\n",
       "       'CURR_SERVICE_ORTHO', 'CURR_SERVICE_SURG', 'CURR_SERVICE_TRAUM',\n",
       "       'CURR_SERVICE_TSURG', 'CURR_SERVICE_VSURG'],\n",
       "      dtype='object')"
      ]
     },
     "execution_count": 52,
     "metadata": {},
     "output_type": "execute_result"
    }
   ],
   "source": [
    "# now rename the columns\n",
    "crosstab_serv.columns = serv_new_colnames\n",
    "crosstab_serv.columns"
   ]
  },
  {
   "cell_type": "code",
   "execution_count": 53,
   "metadata": {},
   "outputs": [],
   "source": [
    "# as an additional feature calculate the total number of services performed during each admission\n",
    "crosstab_serv['CURR_SERVICE_TOTAL'] = crosstab_serv.sum(axis=1)"
   ]
  },
  {
   "cell_type": "code",
   "execution_count": 54,
   "metadata": {},
   "outputs": [
    {
     "name": "stdout",
     "output_type": "stream",
     "text": [
      "<class 'pandas.core.frame.DataFrame'>\n",
      "RangeIndex: 573146 entries, 0 to 573145\n",
      "Data columns (total 12 columns):\n",
      " #   Column            Non-Null Count   Dtype  \n",
      "---  ------            --------------   -----  \n",
      " 0   ROW_ID            573146 non-null  int64  \n",
      " 1   SUBJECT_ID        573146 non-null  int64  \n",
      " 2   HADM_ID           573146 non-null  int64  \n",
      " 3   COSTCENTER        573146 non-null  object \n",
      " 4   CHARTDATE         101545 non-null  object \n",
      " 5   CPT_CD            573146 non-null  object \n",
      " 6   CPT_NUMBER        573128 non-null  float64\n",
      " 7   CPT_SUFFIX        22 non-null      object \n",
      " 8   TICKET_ID_SEQ     471601 non-null  float64\n",
      " 9   SECTIONHEADER     573125 non-null  object \n",
      " 10  SUBSECTIONHEADER  573125 non-null  object \n",
      " 11  DESCRIPTION       101545 non-null  object \n",
      "dtypes: float64(2), int64(3), object(7)\n",
      "memory usage: 52.5+ MB\n"
     ]
    }
   ],
   "source": [
    "# load the procedures column\n",
    "cpt_df = pd.read_csv('../../data/raw/CPTEVENTS.csv', low_memory=False)\n",
    "cpt_df.info()"
   ]
  },
  {
   "cell_type": "code",
   "execution_count": 55,
   "metadata": {},
   "outputs": [
    {
     "name": "stdout",
     "output_type": "stream",
     "text": [
      "<class 'pandas.core.frame.DataFrame'>\n",
      "Int64Index: 531065 entries, 0 to 531064\n",
      "Data columns (total 12 columns):\n",
      " #   Column            Non-Null Count   Dtype  \n",
      "---  ------            --------------   -----  \n",
      " 0   ROW_ID            525870 non-null  float64\n",
      " 1   SUBJECT_ID        525870 non-null  float64\n",
      " 2   HADM_ID           531065 non-null  int64  \n",
      " 3   COSTCENTER        525870 non-null  object \n",
      " 4   CHARTDATE         90465 non-null   object \n",
      " 5   CPT_CD            525870 non-null  object \n",
      " 6   CPT_NUMBER        525855 non-null  float64\n",
      " 7   CPT_SUFFIX        5 non-null       object \n",
      " 8   TICKET_ID_SEQ     435405 non-null  float64\n",
      " 9   SECTIONHEADER     525854 non-null  object \n",
      " 10  SUBSECTIONHEADER  525854 non-null  object \n",
      " 11  DESCRIPTION       90465 non-null   object \n",
      "dtypes: float64(4), int64(1), object(7)\n",
      "memory usage: 52.7+ MB\n"
     ]
    }
   ],
   "source": [
    "# the column we need is subsectionheader (procedure category)\n",
    "cpt_df = cpt_df.merge(hadmid['HADM_ID'], left_on='HADM_ID', right_on='HADM_ID', how='right')\n",
    "cpt_df.info()"
   ]
  },
  {
   "cell_type": "code",
   "execution_count": 56,
   "metadata": {},
   "outputs": [
    {
     "data": {
      "text/plain": [
       "525854"
      ]
     },
     "execution_count": 56,
     "metadata": {},
     "output_type": "execute_result"
    }
   ],
   "source": [
    "# since number of HADM_ID values > SUBSECTIONHEADER values, it follows some admission do not have procedures performed\n",
    "cpt_df = cpt_df[~cpt_df.SUBSECTIONHEADER.isna()]\n",
    "len(cpt_df)"
   ]
  },
  {
   "cell_type": "code",
   "execution_count": 57,
   "metadata": {},
   "outputs": [
    {
     "data": {
      "text/plain": [
       "Hospital inpatient services                                                                                                                                                  255150\n",
       "Critical care services                                                                                                                                                       100292\n",
       "Pulmonary                                                                                                                                                                     90480\n",
       "Consultations                                                                                                                                                                 23968\n",
       "Cardiovascular system                                                                                                                                                         14733\n",
       "Dialysis                                                                                                                                                                       8966\n",
       "Respiratory system                                                                                                                                                             8800\n",
       "Musculoskeletal system                                                                                                                                                         5362\n",
       "Digestive system                                                                                                                                                               3819\n",
       "Nervous system                                                                                                                                                                 2683\n",
       "Diagnostic ultrasound                                                                                                                                                          1943\n",
       "Follow-up inpatient consultations (deleted codes)                                                                                                                              1933\n",
       "Integumentary system                                                                                                                                                           1504\n",
       "Prolonged services                                                                                                                                                             1041\n",
       "Cardiovascular                                                                                                                                                                  763\n",
       "Diagnostic imaging                                                                                                                                                              648\n",
       "Physical medicine and rehabilitation                                                                                                                                            447\n",
       "Special services, procedures and reports                                                                                                                                        385\n",
       "Psychiatry                                                                                                                                                                      383\n",
       "Noninvasive vascular diagnostic studies                                                                                                                                         362\n",
       "Hemic and lymphatic systems                                                                                                                                                     359\n",
       "Urinary system                                                                                                                                                                  310\n",
       "Operating microscope (deleted code)                                                                                                                                             238\n",
       "Hospital observation services                                                                                                                                                   176\n",
       "Case management services                                                                                                                                                        157\n",
       "Other procedures                                                                                                                                                                129\n",
       "Hydration, therapeutic, prophylactic, diagnostic injections and infusions, and chemotherapy and other highly complex drug or highly complex biologic agent administration        98\n",
       "Confirmatory consultation for a new or established patient (deleted codes)                                                                                                       79\n",
       "Female genital system                                                                                                                                                            76\n",
       "Moderate (conscious) sedation                                                                                                                                                    73\n",
       "Bone/joint studies                                                                                                                                                               72\n",
       "Mediastinum and diaphragm                                                                                                                                                        61\n",
       "Hematology and coagulation                                                                                                                                                       41\n",
       "Office/other outpatient services                                                                                                                                                 41\n",
       "Conscious sedation (deleted codes)                                                                                                                                               37\n",
       "Maternity care and delivery                                                                                                                                                      33\n",
       "Non-face-to-face nonphysician services                                                                                                                                           28\n",
       "Ophthalmology                                                                                                                                                                    24\n",
       "Central nervous system assessments/tests (neuro-cognitive, mental status, speech testing)                                                                                        19\n",
       "Eye and ocular adnexa                                                                                                                                                            18\n",
       "Male genital system                                                                                                                                                              17\n",
       "Team Conferences (deleted codes)                                                                                                                                                 16\n",
       "Radiologic guidance                                                                                                                                                              15\n",
       "End-Stage Renal Disease Services (deleted codes)                                                                                                                                 14\n",
       "Preventive medicine services                                                                                                                                                     13\n",
       "Chemistry                                                                                                                                                                        11\n",
       "Neurology and neuromuscular procedures                                                                                                                                           10\n",
       "Endocrine system                                                                                                                                                                  9\n",
       "Photodynamic therapy                                                                                                                                                              6\n",
       "Temporary codes                                                                                                                                                                   5\n",
       "Telephone care (deleted codes)                                                                                                                                                    4\n",
       "Non-face-to-face physician services                                                                                                                                               2\n",
       "General                                                                                                                                                                           1\n",
       "Name: SUBSECTIONHEADER, dtype: int64"
      ]
     },
     "execution_count": 57,
     "metadata": {},
     "output_type": "execute_result"
    }
   ],
   "source": [
    "# Let's see the unique value counts\n",
    "cpt_df.SUBSECTIONHEADER.value_counts()"
   ]
  },
  {
   "cell_type": "code",
   "execution_count": 58,
   "metadata": {},
   "outputs": [
    {
     "data": {
      "text/plain": [
       "53"
      ]
     },
     "execution_count": 58,
     "metadata": {},
     "output_type": "execute_result"
    }
   ],
   "source": [
    "len(cpt_df.SUBSECTIONHEADER.value_counts())"
   ]
  },
  {
   "cell_type": "code",
   "execution_count": 59,
   "metadata": {},
   "outputs": [
    {
     "data": {
      "text/plain": [
       "Index(['Hospital observation services', 'Case management services',\n",
       "       'Other procedures',\n",
       "       'Hydration, therapeutic, prophylactic, diagnostic injections and infusions, and chemotherapy and other highly complex drug or highly complex biologic agent administration',\n",
       "       'Confirmatory consultation for a new or established patient (deleted codes)',\n",
       "       'Female genital system', 'Moderate (conscious) sedation',\n",
       "       'Bone/joint studies', 'Mediastinum and diaphragm',\n",
       "       'Hematology and coagulation', 'Office/other outpatient services',\n",
       "       'Conscious sedation (deleted codes)', 'Maternity care and delivery',\n",
       "       'Non-face-to-face nonphysician services', 'Ophthalmology',\n",
       "       'Central nervous system assessments/tests (neuro-cognitive, mental status, speech testing)',\n",
       "       'Eye and ocular adnexa', 'Male genital system',\n",
       "       'Team Conferences (deleted codes)', 'Radiologic guidance',\n",
       "       'End-Stage Renal Disease Services (deleted codes)',\n",
       "       'Preventive medicine services', 'Chemistry',\n",
       "       'Neurology and neuromuscular procedures', 'Endocrine system',\n",
       "       'Photodynamic therapy', 'Temporary codes',\n",
       "       'Telephone care (deleted codes)', 'Non-face-to-face physician services',\n",
       "       'General'],\n",
       "      dtype='object')"
      ]
     },
     "execution_count": 59,
     "metadata": {},
     "output_type": "execute_result"
    }
   ],
   "source": [
    "# There are 53 procedures, however procedures under 200 count are a minority, merge with the top serveice\n",
    "proc_count = cpt_df.SUBSECTIONHEADER.value_counts()\n",
    "minority_proc = proc_count[proc_count<200].index\n",
    "minority_proc"
   ]
  },
  {
   "cell_type": "code",
   "execution_count": 60,
   "metadata": {},
   "outputs": [
    {
     "data": {
      "text/plain": [
       "Hospital inpatient services                          256435\n",
       "Critical care services                               100292\n",
       "Pulmonary                                             90480\n",
       "Consultations                                         23968\n",
       "Cardiovascular system                                 14733\n",
       "Dialysis                                               8966\n",
       "Respiratory system                                     8800\n",
       "Musculoskeletal system                                 5362\n",
       "Digestive system                                       3819\n",
       "Nervous system                                         2683\n",
       "Diagnostic ultrasound                                  1943\n",
       "Follow-up inpatient consultations (deleted codes)      1933\n",
       "Integumentary system                                   1504\n",
       "Prolonged services                                     1041\n",
       "Cardiovascular                                          763\n",
       "Diagnostic imaging                                      648\n",
       "Physical medicine and rehabilitation                    447\n",
       "Special services, procedures and reports                385\n",
       "Psychiatry                                              383\n",
       "Noninvasive vascular diagnostic studies                 362\n",
       "Hemic and lymphatic systems                             359\n",
       "Urinary system                                          310\n",
       "Operating microscope (deleted code)                     238\n",
       "Name: SUBSECTIONHEADER, dtype: int64"
      ]
     },
     "execution_count": 60,
     "metadata": {},
     "output_type": "execute_result"
    }
   ],
   "source": [
    "cpt_df.loc[cpt_df.SUBSECTIONHEADER.isin(minority_proc), 'SUBSECTIONHEADER'] = 'Hospital inpatient services'\n",
    "cpt_df.SUBSECTIONHEADER.value_counts()"
   ]
  },
  {
   "cell_type": "code",
   "execution_count": 61,
   "metadata": {},
   "outputs": [
    {
     "data": {
      "text/plain": [
       "Index(['SUBSECTIONHEADER_Cardiovascular',\n",
       "       'SUBSECTIONHEADER_Cardiovascular system',\n",
       "       'SUBSECTIONHEADER_Consultations',\n",
       "       'SUBSECTIONHEADER_Critical care services',\n",
       "       'SUBSECTIONHEADER_Diagnostic imaging',\n",
       "       'SUBSECTIONHEADER_Diagnostic ultrasound', 'SUBSECTIONHEADER_Dialysis',\n",
       "       'SUBSECTIONHEADER_Digestive system',\n",
       "       'SUBSECTIONHEADER_Follow-up inpatient consultations (deleted codes)',\n",
       "       'SUBSECTIONHEADER_Hemic and lymphatic systems',\n",
       "       'SUBSECTIONHEADER_Hospital inpatient services',\n",
       "       'SUBSECTIONHEADER_Integumentary system',\n",
       "       'SUBSECTIONHEADER_Musculoskeletal system',\n",
       "       'SUBSECTIONHEADER_Nervous system',\n",
       "       'SUBSECTIONHEADER_Noninvasive vascular diagnostic studies',\n",
       "       'SUBSECTIONHEADER_Operating microscope (deleted code)',\n",
       "       'SUBSECTIONHEADER_Physical medicine and rehabilitation',\n",
       "       'SUBSECTIONHEADER_Prolonged services', 'SUBSECTIONHEADER_Psychiatry',\n",
       "       'SUBSECTIONHEADER_Pulmonary', 'SUBSECTIONHEADER_Respiratory system',\n",
       "       'SUBSECTIONHEADER_Special services, procedures and reports',\n",
       "       'SUBSECTIONHEADER_Urinary system'],\n",
       "      dtype='object')"
      ]
     },
     "execution_count": 61,
     "metadata": {},
     "output_type": "execute_result"
    }
   ],
   "source": [
    "# crosstabulate and rename the columns\n",
    "crosstab_cpt = pd.crosstab(cpt_df['HADM_ID'], cpt_df['SUBSECTIONHEADER'])\n",
    "crosstab_cpt.columns = ['SUBSECTIONHEADER_' + column for column in crosstab_cpt.columns]\n",
    "crosstab_cpt.columns"
   ]
  },
  {
   "cell_type": "code",
   "execution_count": 62,
   "metadata": {},
   "outputs": [],
   "source": [
    "# add a feature with the total number of columns\n",
    "crosstab_cpt['SUBSECTIONHEADER_TOTAL'] = crosstab_cpt.sum(axis=1)"
   ]
  },
  {
   "cell_type": "code",
   "execution_count": 63,
   "metadata": {},
   "outputs": [
    {
     "data": {
      "text/plain": [
       "38211"
      ]
     },
     "execution_count": 63,
     "metadata": {},
     "output_type": "execute_result"
    }
   ],
   "source": [
    "# let's merge crosstabulated services and procedures data frames\n",
    "crosstab_serv = crosstab_serv.merge(crosstab_cpt, left_index=True, right_index=True)\n",
    "len(crosstab_serv)"
   ]
  },
  {
   "cell_type": "code",
   "execution_count": 64,
   "metadata": {},
   "outputs": [
    {
     "data": {
      "text/plain": [
       "CURR_SERVICE_CMED                                                     0\n",
       "CURR_SERVICE_CSURG                                                    0\n",
       "CURR_SERVICE_MED                                                      0\n",
       "CURR_SERVICE_NMED                                                     0\n",
       "CURR_SERVICE_NSURG                                                    0\n",
       "CURR_SERVICE_OMED                                                     0\n",
       "CURR_SERVICE_ORTHO                                                    0\n",
       "CURR_SERVICE_SURG                                                     0\n",
       "CURR_SERVICE_TRAUM                                                    0\n",
       "CURR_SERVICE_TSURG                                                    0\n",
       "CURR_SERVICE_VSURG                                                    0\n",
       "CURR_SERVICE_TOTAL                                                    0\n",
       "SUBSECTIONHEADER_Cardiovascular                                       0\n",
       "SUBSECTIONHEADER_Cardiovascular system                                0\n",
       "SUBSECTIONHEADER_Consultations                                        0\n",
       "SUBSECTIONHEADER_Critical care services                               0\n",
       "SUBSECTIONHEADER_Diagnostic imaging                                   0\n",
       "SUBSECTIONHEADER_Diagnostic ultrasound                                0\n",
       "SUBSECTIONHEADER_Dialysis                                             0\n",
       "SUBSECTIONHEADER_Digestive system                                     0\n",
       "SUBSECTIONHEADER_Follow-up inpatient consultations (deleted codes)    0\n",
       "SUBSECTIONHEADER_Hemic and lymphatic systems                          0\n",
       "SUBSECTIONHEADER_Hospital inpatient services                          0\n",
       "SUBSECTIONHEADER_Integumentary system                                 0\n",
       "SUBSECTIONHEADER_Musculoskeletal system                               0\n",
       "SUBSECTIONHEADER_Nervous system                                       0\n",
       "SUBSECTIONHEADER_Noninvasive vascular diagnostic studies              0\n",
       "SUBSECTIONHEADER_Operating microscope (deleted code)                  0\n",
       "SUBSECTIONHEADER_Physical medicine and rehabilitation                 0\n",
       "SUBSECTIONHEADER_Prolonged services                                   0\n",
       "SUBSECTIONHEADER_Psychiatry                                           0\n",
       "SUBSECTIONHEADER_Pulmonary                                            0\n",
       "SUBSECTIONHEADER_Respiratory system                                   0\n",
       "SUBSECTIONHEADER_Special services, procedures and reports             0\n",
       "SUBSECTIONHEADER_Urinary system                                       0\n",
       "SUBSECTIONHEADER_TOTAL                                                0\n",
       "dtype: int64"
      ]
     },
     "execution_count": 64,
     "metadata": {},
     "output_type": "execute_result"
    }
   ],
   "source": [
    "#check for missing values\n",
    "import numpy as np\n",
    "# check if there are missing values\n",
    "np.isnan(crosstab_serv).sum()"
   ]
  },
  {
   "cell_type": "code",
   "execution_count": 65,
   "metadata": {},
   "outputs": [
    {
     "data": {
      "text/plain": [
       "SUBJECT_ID                                                      0\n",
       "HADM_ID                                                         0\n",
       "HOSPITAL_EXPIRE_FLAG                                            0\n",
       "OUTPUT_LABEL                                                    0\n",
       "1Y_PRIOR_ADM                                                    0\n",
       "                                                             ... \n",
       "SUBSECTIONHEADER_Pulmonary                                   5196\n",
       "SUBSECTIONHEADER_Respiratory system                          5196\n",
       "SUBSECTIONHEADER_Special services, procedures and reports    5196\n",
       "SUBSECTIONHEADER_Urinary system                              5196\n",
       "SUBSECTIONHEADER_TOTAL                                       5196\n",
       "Length: 61, dtype: int64"
      ]
     },
     "execution_count": 65,
     "metadata": {},
     "output_type": "execute_result"
    }
   ],
   "source": [
    "# let's merge admissions table\n",
    "crosstab_serv.reset_index(inplace=True)\n",
    "hadmid = hadmid.merge(crosstab_serv, left_on='HADM_ID', right_on='HADM_ID', how='left')\n",
    "np.isnan(hadmid).sum()"
   ]
  },
  {
   "cell_type": "code",
   "execution_count": 66,
   "metadata": {},
   "outputs": [
    {
     "data": {
      "text/plain": [
       "OUTPUT_LABEL\n",
       "0.0    5005\n",
       "1.0     191\n",
       "Name: HADM_ID, dtype: int64"
      ]
     },
     "execution_count": 66,
     "metadata": {},
     "output_type": "execute_result"
    }
   ],
   "source": [
    "# 5196 admissions are missing info on procedures and services\n",
    "# check to see what fraction is in the positive label, otherwize if the majority is in the negative label \n",
    "# we can eliminate those samples, since we have an excess of negative label\n",
    "hadmid.drop('SUBJECT_ID', axis=1, inplace=True)\n",
    "hadmid[hadmid.SUBSECTIONHEADER_TOTAL.isna()].groupby('OUTPUT_LABEL')['HADM_ID'].count()"
   ]
  },
  {
   "cell_type": "code",
   "execution_count": 67,
   "metadata": {},
   "outputs": [
    {
     "data": {
      "text/plain": [
       "38211"
      ]
     },
     "execution_count": 67,
     "metadata": {},
     "output_type": "execute_result"
    }
   ],
   "source": [
    "# The majority is in the negative class, so we can delete those samples\n",
    "hadmid=hadmid[~hadmid.SUBSECTIONHEADER_TOTAL.isna()]\n",
    "len(hadmid)"
   ]
  },
  {
   "cell_type": "code",
   "execution_count": 68,
   "metadata": {},
   "outputs": [
    {
     "data": {
      "text/plain": [
       "0"
      ]
     },
     "execution_count": 68,
     "metadata": {},
     "output_type": "execute_result"
    }
   ],
   "source": [
    "# final check for missing values\n",
    "np.isnan(hadmid).sum().sum()"
   ]
  },
  {
   "cell_type": "code",
   "execution_count": 71,
   "metadata": {},
   "outputs": [
    {
     "data": {
      "text/plain": [
       "['HADM_ID',\n",
       " 'HOSPITAL_EXPIRE_FLAG',\n",
       " 'OUTPUT_LABEL',\n",
       " '1Y_PRIOR_ADM',\n",
       " 'LENGTH_OF_STAY_DAYS',\n",
       " 'AGE',\n",
       " 'ADMISSION_LOCATION_EMERGENCY ROOM ADMIT',\n",
       " 'ADMISSION_LOCATION_PHYS REFERRAL/NORMAL DELI',\n",
       " 'ADMISSION_LOCATION_TRANSFER FROM HOSP/EXTRAM',\n",
       " 'DISCHARGE_LOCATION_DISC-TRAN CANCER/CHLDRN H',\n",
       " 'DISCHARGE_LOCATION_DISCH-TRAN TO PSYCH HOSP',\n",
       " 'DISCHARGE_LOCATION_HOME',\n",
       " 'DISCHARGE_LOCATION_HOME HEALTH CARE',\n",
       " 'DISCHARGE_LOCATION_HOSPICE-HOME',\n",
       " 'DISCHARGE_LOCATION_LEFT AGAINST MEDICAL ADVI',\n",
       " 'DISCHARGE_LOCATION_LONG TERM CARE HOSPITAL',\n",
       " 'DISCHARGE_LOCATION_REHAB/DISTINCT PART HOSP',\n",
       " 'DISCHARGE_LOCATION_SHORT TERM HOSPITAL',\n",
       " 'DISCHARGE_LOCATION_SNF',\n",
       " 'ETHNICITY_BLACK',\n",
       " 'ETHNICITY_HISPANIC',\n",
       " 'ETHNICITY_OTHER',\n",
       " 'ETHNICITY_WHITE',\n",
       " 'GENDER_M',\n",
       " 'CURR_SERVICE_CMED',\n",
       " 'CURR_SERVICE_CSURG',\n",
       " 'CURR_SERVICE_MED',\n",
       " 'CURR_SERVICE_NMED',\n",
       " 'CURR_SERVICE_NSURG',\n",
       " 'CURR_SERVICE_OMED',\n",
       " 'CURR_SERVICE_ORTHO',\n",
       " 'CURR_SERVICE_SURG',\n",
       " 'CURR_SERVICE_TRAUM',\n",
       " 'CURR_SERVICE_TSURG',\n",
       " 'CURR_SERVICE_VSURG',\n",
       " 'CURR_SERVICE_TOTAL',\n",
       " 'SUBSECTIONHEADER_Cardiovascular',\n",
       " 'SUBSECTIONHEADER_Cardiovascular system',\n",
       " 'SUBSECTIONHEADER_Consultations',\n",
       " 'SUBSECTIONHEADER_Critical care services',\n",
       " 'SUBSECTIONHEADER_Diagnostic imaging',\n",
       " 'SUBSECTIONHEADER_Diagnostic ultrasound',\n",
       " 'SUBSECTIONHEADER_Dialysis',\n",
       " 'SUBSECTIONHEADER_Digestive system',\n",
       " 'SUBSECTIONHEADER_Follow-up inpatient consultations (deleted codes)',\n",
       " 'SUBSECTIONHEADER_Hemic and lymphatic systems',\n",
       " 'SUBSECTIONHEADER_Hospital inpatient services',\n",
       " 'SUBSECTIONHEADER_Integumentary system',\n",
       " 'SUBSECTIONHEADER_Musculoskeletal system',\n",
       " 'SUBSECTIONHEADER_Nervous system',\n",
       " 'SUBSECTIONHEADER_Noninvasive vascular diagnostic studies',\n",
       " 'SUBSECTIONHEADER_Operating microscope (deleted code)',\n",
       " 'SUBSECTIONHEADER_Physical medicine and rehabilitation',\n",
       " 'SUBSECTIONHEADER_Prolonged services',\n",
       " 'SUBSECTIONHEADER_Psychiatry',\n",
       " 'SUBSECTIONHEADER_Pulmonary',\n",
       " 'SUBSECTIONHEADER_Respiratory system',\n",
       " 'SUBSECTIONHEADER_Special services, procedures and reports',\n",
       " 'SUBSECTIONHEADER_Urinary system',\n",
       " 'SUBSECTIONHEADER_TOTAL']"
      ]
     },
     "execution_count": 71,
     "metadata": {},
     "output_type": "execute_result"
    }
   ],
   "source": [
    "# inspect the columns\n",
    "hadmid.columns.tolist()"
   ]
  },
  {
   "cell_type": "code",
   "execution_count": 72,
   "metadata": {},
   "outputs": [],
   "source": [
    "# No missing values, save the intermediate dataset\n",
    "hadmid.to_csv('../../data/intermediate/inter022620b.csv')"
   ]
  },
  {
   "cell_type": "code",
   "execution_count": null,
   "metadata": {},
   "outputs": [],
   "source": []
  }
 ],
 "metadata": {
  "kernelspec": {
   "display_name": "MIMIC-III-readmission-prediction",
   "language": "python",
   "name": "mimic-iii-readmission-prediction"
  },
  "language_info": {
   "codemirror_mode": {
    "name": "ipython",
    "version": 3
   },
   "file_extension": ".py",
   "mimetype": "text/x-python",
   "name": "python",
   "nbconvert_exporter": "python",
   "pygments_lexer": "ipython3",
   "version": "3.7.3"
  }
 },
 "nbformat": 4,
 "nbformat_minor": 4
}
