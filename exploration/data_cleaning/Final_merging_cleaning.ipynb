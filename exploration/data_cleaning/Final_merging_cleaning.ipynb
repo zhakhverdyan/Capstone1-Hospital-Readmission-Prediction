{
 "cells": [
  {
   "cell_type": "markdown",
   "metadata": {},
   "source": [
    "## Purpose of this notebook\n",
    "In this notebook we will merge the 3 intermediate tables, delete rows and columns with majority missing entries and prepare the data for EDA."
   ]
  },
  {
   "cell_type": "code",
   "execution_count": 1,
   "metadata": {},
   "outputs": [
    {
     "name": "stdout",
     "output_type": "stream",
     "text": [
      "(38211, 61)\n",
      "(53791, 1039)\n",
      "(58890, 205)\n"
     ]
    }
   ],
   "source": [
    "import pandas as pd\n",
    "import numpy as np\n",
    "adm_serv_cpt_df = pd.read_csv('../../data/intermediate/inter022920b.csv')\n",
    "lab_df = pd.read_csv('../../data/intermediate/inter022020b.csv')\n",
    "diag_df = pd.read_csv('../../data/intermediate/inter022120.csv')\n",
    "print(adm_serv_cpt_df.values.shape)\n",
    "print(lab_df.values.shape)\n",
    "print(diag_df.values.shape)"
   ]
  },
  {
   "cell_type": "code",
   "execution_count": 2,
   "metadata": {},
   "outputs": [
    {
     "name": "stdout",
     "output_type": "stream",
     "text": [
      "After merging we should have 38211 rows and  1303  columns.\n"
     ]
    }
   ],
   "source": [
    "print(\"After merging we should have 38211 rows and \", 61+1039+205-2, \" columns.\") # -2 is for index column"
   ]
  },
  {
   "cell_type": "code",
   "execution_count": 3,
   "metadata": {},
   "outputs": [],
   "source": [
    "combined_df = adm_serv_cpt_df.merge(lab_df, left_on='HADM_ID', right_on='HADM_ID', how='left')\n",
    "combined_df = combined_df.merge(diag_df, left_on='HADM_ID', right_on='HADM_ID', how='left')\n",
    "assert combined_df.values.shape == (38211, 1303), \"something doesn't add up\""
   ]
  },
  {
   "cell_type": "code",
   "execution_count": 4,
   "metadata": {},
   "outputs": [
    {
     "data": {
      "text/plain": [
       "Text(0.5, 1.0, 'Dataframe missing values survey')"
      ]
     },
     "execution_count": 4,
     "metadata": {},
     "output_type": "execute_result"
    },
    {
     "data": {
      "image/png": "[encoded data removed]",
      "text/plain": [
       "<Figure size 432x288 with 1 Axes>"
      ]
     },
     "metadata": {
      "needs_background": "light"
     },
     "output_type": "display_data"
    }
   ],
   "source": [
    "import matplotlib.pyplot as plt\n",
    "# next we need to quantify the number of missing values for each column\n",
    "missing_val_array = combined_df.isnull().sum()\n",
    "num_cols = len(combined_df.columns.tolist())\n",
    "plt.scatter(range(num_cols), missing_val_array)\n",
    "plt.xlabel(\"Dataframe columns\")\n",
    "plt.ylabel(\"Number of missing values per column\")\n",
    "plt.title(\"Dataframe missing values survey\")"
   ]
  },
  {
   "cell_type": "code",
   "execution_count": 5,
   "metadata": {},
   "outputs": [
    {
     "name": "stdout",
     "output_type": "stream",
     "text": [
      "The size of the remaining dataframe is  (38211, 334)\n"
     ]
    }
   ],
   "source": [
    "# let's set a threshold at 20%, i.e. we will impute 1/5th of the values, this is certainly one of the \n",
    "# parameters to alter. Drop any columns that are missing > 1/5 of values\n",
    "list_of_cols = combined_df.columns.tolist()\n",
    "cols_to_drop = [column for column in list_of_cols if missing_val_array[list_of_cols.index(column)]>len(combined_df)/5]\n",
    "combined_df.drop(columns=cols_to_drop, inplace=True)\n",
    "print(\"The size of the remaining dataframe is \", combined_df.values.shape)"
   ]
  },
  {
   "cell_type": "code",
   "execution_count": 6,
   "metadata": {
    "scrolled": false
   },
   "outputs": [
    {
     "data": {
      "text/plain": [
       "['Unnamed: 0_x',\n",
       " 'HADM_ID',\n",
       " 'OUTPUT_LABEL',\n",
       " '1Y_PRIOR_ADM',\n",
       " 'LENGTH_OF_STAY_DAYS',\n",
       " 'AGE',\n",
       " 'ADMISSION_LOCATION_EMERGENCY ROOM ADMIT',\n",
       " 'ADMISSION_LOCATION_PHYS REFERRAL/NORMAL DELI',\n",
       " 'ADMISSION_LOCATION_TRANSFER FROM HOSP/EXTRAM',\n",
       " 'ADMISSION_LOCATION_TRANSFER FROM SKILLED NUR',\n",
       " 'DISCHARGE_LOCATION_DISC-TRAN CANCER/CHLDRN H',\n",
       " 'DISCHARGE_LOCATION_DISCH-TRAN TO PSYCH HOSP',\n",
       " 'DISCHARGE_LOCATION_HOME',\n",
       " 'DISCHARGE_LOCATION_HOME HEALTH CARE',\n",
       " 'DISCHARGE_LOCATION_HOSPICE-HOME',\n",
       " 'DISCHARGE_LOCATION_LEFT AGAINST MEDICAL ADVI',\n",
       " 'DISCHARGE_LOCATION_LONG TERM CARE HOSPITAL',\n",
       " 'DISCHARGE_LOCATION_REHAB/DISTINCT PART HOSP',\n",
       " 'DISCHARGE_LOCATION_SHORT TERM HOSPITAL',\n",
       " 'DISCHARGE_LOCATION_SNF',\n",
       " 'ETHNICITY_BLACK',\n",
       " 'ETHNICITY_HISPANIC',\n",
       " 'ETHNICITY_OTHER',\n",
       " 'ETHNICITY_WHITE',\n",
       " 'GENDER_M',\n",
       " 'CURR_SERVICE_CMED',\n",
       " 'CURR_SERVICE_CSURG',\n",
       " 'CURR_SERVICE_MED',\n",
       " 'CURR_SERVICE_NMED',\n",
       " 'CURR_SERVICE_NSURG',\n",
       " 'CURR_SERVICE_OMED',\n",
       " 'CURR_SERVICE_ORTHO',\n",
       " 'CURR_SERVICE_SURG',\n",
       " 'CURR_SERVICE_TRAUM',\n",
       " 'CURR_SERVICE_TSURG',\n",
       " 'CURR_SERVICE_VSURG',\n",
       " 'CURR_SERVICE_TOTAL',\n",
       " 'SUBSECTIONHEADER_Cardiovascular',\n",
       " 'SUBSECTIONHEADER_Cardiovascular system',\n",
       " 'SUBSECTIONHEADER_Consultations',\n",
       " 'SUBSECTIONHEADER_Critical care services',\n",
       " 'SUBSECTIONHEADER_Diagnostic imaging',\n",
       " 'SUBSECTIONHEADER_Diagnostic ultrasound',\n",
       " 'SUBSECTIONHEADER_Dialysis',\n",
       " 'SUBSECTIONHEADER_Digestive system',\n",
       " 'SUBSECTIONHEADER_Follow-up inpatient consultations (deleted codes)',\n",
       " 'SUBSECTIONHEADER_Hemic and lymphatic systems',\n",
       " 'SUBSECTIONHEADER_Hospital inpatient services',\n",
       " 'SUBSECTIONHEADER_Integumentary system',\n",
       " 'SUBSECTIONHEADER_Musculoskeletal system',\n",
       " 'SUBSECTIONHEADER_Nervous system',\n",
       " 'SUBSECTIONHEADER_Noninvasive vascular diagnostic studies',\n",
       " 'SUBSECTIONHEADER_Operating microscope (deleted code)',\n",
       " 'SUBSECTIONHEADER_Physical medicine and rehabilitation',\n",
       " 'SUBSECTIONHEADER_Prolonged services',\n",
       " 'SUBSECTIONHEADER_Psychiatry',\n",
       " 'SUBSECTIONHEADER_Pulmonary',\n",
       " 'SUBSECTIONHEADER_Respiratory system',\n",
       " 'SUBSECTIONHEADER_Special services, procedures and reports',\n",
       " 'SUBSECTIONHEADER_Urinary system',\n",
       " 'SUBSECTIONHEADER_TOTAL',\n",
       " 'Count_Anion Gap',\n",
       " 'Count_Bicarbonate',\n",
       " 'Count_Calcium, Total',\n",
       " 'Count_Chloride',\n",
       " 'Count_Creatinine',\n",
       " 'Count_Glucose',\n",
       " 'Count_Hematocrit',\n",
       " 'Count_Hemoglobin',\n",
       " 'Count_INR(PT)',\n",
       " 'Count_MCH',\n",
       " 'Count_MCHC',\n",
       " 'Count_MCV',\n",
       " 'Count_Magnesium',\n",
       " 'Count_PT',\n",
       " 'Count_PTT',\n",
       " 'Count_Phosphate',\n",
       " 'Count_Platelet Count',\n",
       " 'Count_Potassium',\n",
       " 'Count_RDW',\n",
       " 'Count_Red Blood Cells',\n",
       " 'Count_Sodium',\n",
       " 'Count_Urea Nitrogen',\n",
       " 'Count_White Blood Cells',\n",
       " 'Mean_Anion Gap',\n",
       " 'Mean_Bicarbonate',\n",
       " 'Mean_Calcium, Total',\n",
       " 'Mean_Chloride',\n",
       " 'Mean_Creatinine',\n",
       " 'Mean_Glucose',\n",
       " 'Mean_Hematocrit',\n",
       " 'Mean_Hemoglobin',\n",
       " 'Mean_INR(PT)',\n",
       " 'Mean_MCH',\n",
       " 'Mean_MCHC',\n",
       " 'Mean_MCV',\n",
       " 'Mean_Magnesium',\n",
       " 'Mean_PT',\n",
       " 'Mean_PTT',\n",
       " 'Mean_Phosphate',\n",
       " 'Mean_Platelet Count',\n",
       " 'Mean_Potassium',\n",
       " 'Mean_RDW',\n",
       " 'Mean_Red Blood Cells',\n",
       " 'Mean_Sodium',\n",
       " 'Mean_Urea Nitrogen',\n",
       " 'Mean_White Blood Cells',\n",
       " 'Var_Anion Gap',\n",
       " 'Var_Bicarbonate',\n",
       " 'Var_Calcium, Total',\n",
       " 'Var_Chloride',\n",
       " 'Var_Creatinine',\n",
       " 'Var_Glucose',\n",
       " 'Var_Hematocrit',\n",
       " 'Var_Hemoglobin',\n",
       " 'Var_INR(PT)',\n",
       " 'Var_MCH',\n",
       " 'Var_MCHC',\n",
       " 'Var_MCV',\n",
       " 'Var_Magnesium',\n",
       " 'Var_PT',\n",
       " 'Var_PTT',\n",
       " 'Var_Phosphate',\n",
       " 'Var_Platelet Count',\n",
       " 'Var_Potassium',\n",
       " 'Var_RDW',\n",
       " 'Var_Red Blood Cells',\n",
       " 'Var_Sodium',\n",
       " 'Var_Urea Nitrogen',\n",
       " 'Var_White Blood Cells',\n",
       " 'Unnamed: 0_y',\n",
       " 'DESCRIPTION',\n",
       " 'DRG_SEVERITY',\n",
       " 'DRG_MORTALITY',\n",
       " 'abdomin',\n",
       " 'abus',\n",
       " 'acut',\n",
       " 'age',\n",
       " 'agent',\n",
       " 'alcohol',\n",
       " 'aliv',\n",
       " 'ami',\n",
       " 'anomali',\n",
       " 'anoth',\n",
       " 'arrhythmia',\n",
       " 'arteri',\n",
       " 'back',\n",
       " 'biliari',\n",
       " 'birthwt',\n",
       " 'blood',\n",
       " 'bowel',\n",
       " 'bwt',\n",
       " 'bypass',\n",
       " 'card',\n",
       " 'cardiac',\n",
       " 'cardiothorac',\n",
       " 'cardiovasc',\n",
       " 'cardiovascular',\n",
       " 'care',\n",
       " 'cath',\n",
       " 'cathet',\n",
       " 'catheter',\n",
       " 'cc',\n",
       " 'ccmcc',\n",
       " 'cerebr',\n",
       " 'chest',\n",
       " 'chronic',\n",
       " 'circ',\n",
       " 'circulatori',\n",
       " 'cirrhosi',\n",
       " 'coma',\n",
       " 'comorbid',\n",
       " 'complex',\n",
       " 'complic',\n",
       " 'condit',\n",
       " 'conduct',\n",
       " 'connect',\n",
       " 'coronari',\n",
       " 'craniotomi',\n",
       " 'cva',\n",
       " 'defibril',\n",
       " 'depend',\n",
       " 'devic',\n",
       " 'diabet',\n",
       " 'diagnos',\n",
       " 'diagnosi',\n",
       " 'die',\n",
       " 'digest',\n",
       " 'discharg',\n",
       " 'diseas',\n",
       " 'disord',\n",
       " 'dissemin',\n",
       " 'dist',\n",
       " 'distress',\n",
       " 'drug',\n",
       " 'drugelut',\n",
       " 'duoden',\n",
       " 'ecmo',\n",
       " 'edema',\n",
       " 'effect',\n",
       " 'embol',\n",
       " 'endovascular',\n",
       " 'esophag',\n",
       " 'exc',\n",
       " 'except',\n",
       " 'extens',\n",
       " 'extracrani',\n",
       " 'extrem',\n",
       " 'face',\n",
       " 'facil',\n",
       " 'failur',\n",
       " 'femur',\n",
       " 'full',\n",
       " 'fusion',\n",
       " 'gastriti',\n",
       " 'gastrointestin',\n",
       " 'gi',\n",
       " 'head',\n",
       " 'heart',\n",
       " 'hemorrhag',\n",
       " 'hepat',\n",
       " 'hepatobiliari',\n",
       " 'hip',\n",
       " 'hiv',\n",
       " 'hour',\n",
       " 'hr',\n",
       " 'hrs',\n",
       " 'immatur',\n",
       " 'implant',\n",
       " 'includ',\n",
       " 'infarct',\n",
       " 'infect',\n",
       " 'infecti',\n",
       " 'inflamm',\n",
       " 'injuri',\n",
       " 'intracrani',\n",
       " 'ischem',\n",
       " 'joint',\n",
       " 'kidney',\n",
       " 'larg',\n",
       " 'leukemia',\n",
       " 'liver',\n",
       " 'long',\n",
       " 'lower',\n",
       " 'maj',\n",
       " 'major',\n",
       " 'malfunct',\n",
       " 'malign',\n",
       " 'mcc',\n",
       " 'mcv',\n",
       " 'mechan',\n",
       " 'medicin',\n",
       " 'minor',\n",
       " 'mouth',\n",
       " 'multipl',\n",
       " 'musculoskelet',\n",
       " 'mv',\n",
       " 'myocardi',\n",
       " 'neck',\n",
       " 'neonat',\n",
       " 'neoplasm',\n",
       " 'nervous',\n",
       " 'newborn',\n",
       " 'normal',\n",
       " 'obstruct',\n",
       " 'occulus',\n",
       " 'oper',\n",
       " 'oth',\n",
       " 'pacemak',\n",
       " 'pancrea',\n",
       " 'parasit',\n",
       " 'pdx',\n",
       " 'peptic',\n",
       " 'perc',\n",
       " 'percutan',\n",
       " 'peripher',\n",
       " 'periton',\n",
       " 'pleurisi',\n",
       " 'pneumonia',\n",
       " 'poison',\n",
       " 'precerebr',\n",
       " 'prematur',\n",
       " 'princip',\n",
       " 'problem',\n",
       " 'proc',\n",
       " 'procedur',\n",
       " 'pulmonari',\n",
       " 'reaction',\n",
       " 'relat',\n",
       " 'renal',\n",
       " 'replac',\n",
       " 'resp',\n",
       " 'respiratori',\n",
       " 'room',\n",
       " 'seizur',\n",
       " 'sepsi',\n",
       " 'septicemia',\n",
       " 'sever',\n",
       " 'shock',\n",
       " 'shunt',\n",
       " 'sign',\n",
       " 'signific',\n",
       " 'simpl',\n",
       " 'skin',\n",
       " 'small',\n",
       " 'spinal',\n",
       " 'stent',\n",
       " 'stomach',\n",
       " 'stupor',\n",
       " 'support',\n",
       " 'symptom',\n",
       " 'syndoth',\n",
       " 'syndrom',\n",
       " 'system',\n",
       " 'term',\n",
       " 'tissu',\n",
       " 'toxic',\n",
       " 'trach',\n",
       " 'tracheostomi',\n",
       " 'tract',\n",
       " 'transfer',\n",
       " 'transplant',\n",
       " 'trauma',\n",
       " 'traumat',\n",
       " 'treatment',\n",
       " 'ulcer',\n",
       " 'unrel',\n",
       " 'unspecifi',\n",
       " 'urinari',\n",
       " 'valv',\n",
       " 'vascular',\n",
       " 'ventil',\n",
       " 'without',\n",
       " 'wo']"
      ]
     },
     "execution_count": 6,
     "metadata": {},
     "output_type": "execute_result"
    }
   ],
   "source": [
    "# impute the rest of the valeus with the median value\n",
    "combined_df = combined_df.fillna(combined_df.median())\n",
    "\n",
    "# lets inspect the columns\n",
    "combined_df.columns.tolist()"
   ]
  },
  {
   "cell_type": "code",
   "execution_count": 7,
   "metadata": {},
   "outputs": [
    {
     "data": {
      "text/plain": [
       "['Unnamed: 0_x', 'Unnamed: 0_y']"
      ]
     },
     "execution_count": 7,
     "metadata": {},
     "output_type": "execute_result"
    }
   ],
   "source": [
    "# looks like some index columns have been preserved, delete the columns starting with \"unnamed\"\n",
    "cols_to_drop = [column for column in combined_df.columns.tolist() if column.startswith('Unnamed')]\n",
    "cols_to_drop"
   ]
  },
  {
   "cell_type": "code",
   "execution_count": 9,
   "metadata": {},
   "outputs": [
    {
     "data": {
      "text/plain": [
       "(38211, 331)"
      ]
     },
     "execution_count": 9,
     "metadata": {},
     "output_type": "execute_result"
    }
   ],
   "source": [
    "# 'DESCRIPTION' - the concatenated diagnosis description should also be droped\n",
    "cols_to_drop.append('DESCRIPTION')\n",
    "combined_df.drop(columns=cols_to_drop, inplace=True)\n",
    "combined_df.values.shape"
   ]
  },
  {
   "cell_type": "code",
   "execution_count": 10,
   "metadata": {},
   "outputs": [],
   "source": [
    "combined_df.to_csv('../../data/processed/processed_for_eda_022920.csv')"
   ]
  },
  {
   "cell_type": "code",
   "execution_count": null,
   "metadata": {},
   "outputs": [],
   "source": []
  }
 ],
 "metadata": {
  "kernelspec": {
   "display_name": "MIMIC-III-readmission-prediction",
   "language": "python",
   "name": "mimic-iii-readmission-prediction"
  },
  "language_info": {
   "codemirror_mode": {
    "name": "ipython",
    "version": 3
   },
   "file_extension": ".py",
   "mimetype": "text/x-python",
   "name": "python",
   "nbconvert_exporter": "python",
   "pygments_lexer": "ipython3",
   "version": "3.7.3"
  }
 },
 "nbformat": 4,
 "nbformat_minor": 4
}
