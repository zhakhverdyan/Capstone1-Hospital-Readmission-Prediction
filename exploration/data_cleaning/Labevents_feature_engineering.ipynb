{
 "cells": [
  {
   "cell_type": "markdown",
   "metadata": {},
   "source": [
    "## Purpose of this notebook is to engineer lab test features from the LABEVENTS tabele\n",
    "LBAEVENTS table is 1.85GB. To avoid slow processing I will load the table in chunks."
   ]
  },
  {
   "cell_type": "code",
   "execution_count": 5,
   "metadata": {},
   "outputs": [
    {
     "data": {
      "text/plain": [
       "Index(['ROW_ID', 'SUBJECT_ID', 'HADM_ID', 'ITEMID', 'CHARTTIME', 'VALUE',\n",
       "       'VALUENUM', 'VALUEUOM', 'FLAG'],\n",
       "      dtype='object')"
      ]
     },
     "execution_count": 5,
     "metadata": {},
     "output_type": "execute_result"
    }
   ],
   "source": [
    "import pandas as pd\n",
    "# let's get the header\n",
    "lab_columns = pd.read_csv('../../data/raw/LABEVENTS.csv', nrows=0)\n",
    "lab_columns.columns"
   ]
  },
  {
   "cell_type": "markdown",
   "metadata": {},
   "source": [
    "## Useful rows\n",
    "* HADM_ID id to merge with admissions information\n",
    "* ITEMID id to merge with D_LABIMES to find the name of the lab test\n",
    "* VALUENUM - numerical value of the test result\n",
    "\n",
    "Note, some rows are missing a HADMID (outpatient services), we will filter those out. Since the lab test may have been performed multiple times during the same admission, we will calculate the summary statistic mean, variance and keep track of the counts. In the end, only the lab tests performed for the majotrity of admissions will be useful for readmission prediction. Since we don't know those from the start we will keep track of all the tests for all admissions. "
   ]
  },
  {
   "cell_type": "code",
   "execution_count": 7,
   "metadata": {},
   "outputs": [
    {
     "name": "stdout",
     "output_type": "stream",
     "text": [
      "61667\n",
      "Prossing chunk took  0:00:01.341801\n",
      "124425\n",
      "Prossing chunk took  0:00:02.605407\n",
      "189995\n",
      "Prossing chunk took  0:00:03.893482\n",
      "253624\n",
      "Prossing chunk took  0:00:05.134867\n",
      "316952\n",
      "Prossing chunk took  0:00:06.384037\n",
      "384834\n",
      "Prossing chunk took  0:00:07.946215\n",
      "451068\n",
      "Prossing chunk took  0:00:09.251154\n",
      "516716\n",
      "Prossing chunk took  0:00:10.545553\n",
      "581235\n",
      "Prossing chunk took  0:00:11.832888\n",
      "646055\n",
      "Prossing chunk took  0:00:13.136443\n",
      "710759\n",
      "Prossing chunk took  0:00:14.436015\n",
      "777453\n",
      "Prossing chunk took  0:00:15.742250\n",
      "844316\n",
      "Prossing chunk took  0:00:17.056281\n",
      "909915\n",
      "Prossing chunk took  0:00:18.705729\n",
      "977859\n",
      "Prossing chunk took  0:00:20.031913\n",
      "1043378\n",
      "Prossing chunk took  0:00:21.372867\n",
      "1111148\n",
      "Prossing chunk took  0:00:22.711146\n",
      "1183051\n",
      "Prossing chunk took  0:00:24.180860\n",
      "1257417\n",
      "Prossing chunk took  0:00:25.718282\n",
      "1333113\n",
      "Prossing chunk took  0:00:27.264443\n",
      "1425280\n",
      "Prossing chunk took  0:00:28.805513\n",
      "1516493\n",
      "Prossing chunk took  0:00:30.279463\n",
      "1607635\n",
      "Prossing chunk took  0:00:31.750113\n",
      "1701632\n",
      "Prossing chunk took  0:00:33.215799\n",
      "1796739\n",
      "Prossing chunk took  0:00:34.647369\n",
      "1888178\n",
      "Prossing chunk took  0:00:36.123590\n",
      "1984770\n",
      "Prossing chunk took  0:00:37.619621\n",
      "2061634\n",
      "Prossing chunk took  0:00:38.926671\n"
     ]
    }
   ],
   "source": [
    "cols_to_drop = ['ROW_ID', 'SUBJECT_ID', 'CHARTTIME', 'VALUE', 'VALUEUOM', 'FLAG']\n",
    "from datetime import datetime\n",
    "start_time = datetime.now()\n",
    "chunksize = 10**6\n",
    "lab_summary = pd.DataFrame()\n",
    "temp_lab_summary = pd.DataFrame()\n",
    "for chunk in pd.read_csv('../../data/raw/LABEVENTS.csv', chunksize=chunksize):\n",
    "    # drop the unused columns and empty rows\n",
    "    chunk.drop(columns = cols_to_drop, inplace=True)\n",
    "    chunk = chunk[~chunk.isna()]\n",
    "    temp_lab_summary['Mean'] = chunk.groupby(['HADM_ID','ITEMID'])['VALUENUM'].mean()\n",
    "    temp_lab_summary['Var'] = chunk.groupby(['HADM_ID','ITEMID'])['VALUENUM'].var()\n",
    "    temp_lab_summary['Count'] = chunk.groupby(['HADM_ID','ITEMID'])['VALUENUM'].count()\n",
    "    # variances will be combined in a later step, cannot have Nan values\n",
    "    temp_lab_summary = temp_lab_summary[~temp_lab_summary.Var.isna()]\n",
    "    lab_summary = pd.concat([lab_summary,temp_lab_summary], ignore_index=False)\n",
    "    temp_lab_summary = pd.DataFrame()\n",
    "    print(len(lab_summary))\n",
    "    print(\"Prossing chunk took \", datetime.now()-start_time)"
   ]
  },
  {
   "cell_type": "code",
   "execution_count": 8,
   "metadata": {},
   "outputs": [
    {
     "data": {
      "text/plain": [
       "Index(['Mean', 'Var', 'Count'], dtype='object')"
      ]
     },
     "execution_count": 8,
     "metadata": {},
     "output_type": "execute_result"
    }
   ],
   "source": [
    "lab_summary.columns"
   ]
  },
  {
   "cell_type": "code",
   "execution_count": 9,
   "metadata": {},
   "outputs": [],
   "source": [
    "# we have 2 million rows of statistical summaries of lab tests\n",
    "# write a fucntion to combine the summary statistics for the same admission and the same test\n",
    "def combined_stats(grouped_arrays):\n",
    "    \"calculate mean of means, combined variance, combined count\"\n",
    "    grouped_arrays = grouped_arrays.values\n",
    "    if grouped_arrays.shape[0]==1:\n",
    "        return pd.DataFrame({'Mean': [grouped_arrays[0,0]], 'Var': [grouped_arrays[0,1]], 'Count':[grouped_arrays[0,2]]})\n",
    "    else:\n",
    "        mean_comb = (grouped_arrays[:,0]*grouped_arrays[:,2]).sum()/grouped_arrays[:,2].sum()\n",
    "        var_comb = (grouped_arrays[:,2]*(grouped_arrays[:,1]+(grouped_arrays[:,0]-mean_comb)**2)).sum()/grouped_arrays[:,2].sum()\n",
    "        count_comb = grouped_arrays[:,2].sum()\n",
    "        return pd.DataFrame({'Mean': [mean_comb], 'Var': [var_comb], 'Count':[count_comb]})"
   ]
  },
  {
   "cell_type": "code",
   "execution_count": 11,
   "metadata": {},
   "outputs": [
    {
     "name": "stdout",
     "output_type": "stream",
     "text": [
      "The number of rows was reduced from  2061634 to 1963876\n",
      "Merging duplicate summaries took  0:52:51.633342\n"
     ]
    }
   ],
   "source": [
    "start_time = datetime.now()\n",
    "starting_size = len(lab_summary)\n",
    "lab_summary = lab_summary.groupby(['HADM_ID','ITEMID']).apply(combined_stats)\n",
    "print(\"The number of rows was reduced from \", starting_size, \"to\", len(lab_summary))\n",
    "print(\"Merging duplicate summaries took \",datetime.now()-start_time)"
   ]
  },
  {
   "cell_type": "code",
   "execution_count": 12,
   "metadata": {},
   "outputs": [
    {
     "data": {
      "text/html": [
       "<div>\n",
       "<style scoped>\n",
       "    .dataframe tbody tr th:only-of-type {\n",
       "        vertical-align: middle;\n",
       "    }\n",
       "\n",
       "    .dataframe tbody tr th {\n",
       "        vertical-align: top;\n",
       "    }\n",
       "\n",
       "    .dataframe thead th {\n",
       "        text-align: right;\n",
       "    }\n",
       "</style>\n",
       "<table border=\"1\" class=\"dataframe\">\n",
       "  <thead>\n",
       "    <tr style=\"text-align: right;\">\n",
       "      <th></th>\n",
       "      <th></th>\n",
       "      <th></th>\n",
       "      <th>Mean</th>\n",
       "      <th>Var</th>\n",
       "      <th>Count</th>\n",
       "    </tr>\n",
       "    <tr>\n",
       "      <th>HADM_ID</th>\n",
       "      <th>ITEMID</th>\n",
       "      <th></th>\n",
       "      <th></th>\n",
       "      <th></th>\n",
       "      <th></th>\n",
       "    </tr>\n",
       "  </thead>\n",
       "  <tbody>\n",
       "    <tr>\n",
       "      <th rowspan=\"5\" valign=\"top\">100001.0</th>\n",
       "      <th>50868</th>\n",
       "      <th>0</th>\n",
       "      <td>16.642857</td>\n",
       "      <td>35.170330</td>\n",
       "      <td>14.0</td>\n",
       "    </tr>\n",
       "    <tr>\n",
       "      <th>50882</th>\n",
       "      <th>0</th>\n",
       "      <td>19.714286</td>\n",
       "      <td>17.912088</td>\n",
       "      <td>14.0</td>\n",
       "    </tr>\n",
       "    <tr>\n",
       "      <th>50893</th>\n",
       "      <th>0</th>\n",
       "      <td>8.554545</td>\n",
       "      <td>0.350727</td>\n",
       "      <td>11.0</td>\n",
       "    </tr>\n",
       "    <tr>\n",
       "      <th>50902</th>\n",
       "      <th>0</th>\n",
       "      <td>107.214286</td>\n",
       "      <td>16.027473</td>\n",
       "      <td>14.0</td>\n",
       "    </tr>\n",
       "    <tr>\n",
       "      <th>50912</th>\n",
       "      <th>0</th>\n",
       "      <td>2.214286</td>\n",
       "      <td>0.047473</td>\n",
       "      <td>14.0</td>\n",
       "    </tr>\n",
       "  </tbody>\n",
       "</table>\n",
       "</div>"
      ],
      "text/plain": [
       "                         Mean        Var  Count\n",
       "HADM_ID  ITEMID                                \n",
       "100001.0 50868  0   16.642857  35.170330   14.0\n",
       "         50882  0   19.714286  17.912088   14.0\n",
       "         50893  0    8.554545   0.350727   11.0\n",
       "         50902  0  107.214286  16.027473   14.0\n",
       "         50912  0    2.214286   0.047473   14.0"
      ]
     },
     "execution_count": 12,
     "metadata": {},
     "output_type": "execute_result"
    }
   ],
   "source": [
    "lab_summary.head()"
   ]
  },
  {
   "cell_type": "code",
   "execution_count": 13,
   "metadata": {},
   "outputs": [
    {
     "data": {
      "text/plain": [
       "Index(['HADM_ID', 'ITEMID', 'level_2', 'Mean', 'Var', 'Count'], dtype='object')"
      ]
     },
     "execution_count": 13,
     "metadata": {},
     "output_type": "execute_result"
    }
   ],
   "source": [
    "lab_summary.reset_index(inplace=True)\n",
    "lab_summary.columns"
   ]
  },
  {
   "cell_type": "code",
   "execution_count": 14,
   "metadata": {},
   "outputs": [
    {
     "name": "stdout",
     "output_type": "stream",
     "text": [
      "<class 'pandas.core.frame.DataFrame'>\n",
      "RangeIndex: 753 entries, 0 to 752\n",
      "Data columns (total 6 columns):\n",
      " #   Column      Non-Null Count  Dtype \n",
      "---  ------      --------------  ----- \n",
      " 0   ROW_ID      753 non-null    int64 \n",
      " 1   ITEMID      753 non-null    int64 \n",
      " 2   LABEL       753 non-null    object\n",
      " 3   FLUID       753 non-null    object\n",
      " 4   CATEGORY    753 non-null    object\n",
      " 5   LOINC_CODE  585 non-null    object\n",
      "dtypes: int64(2), object(4)\n",
      "memory usage: 35.4+ KB\n"
     ]
    }
   ],
   "source": [
    "# load the D_LABITEM table to get the test names\n",
    "lab_item_df = pd.read_csv('../../data/raw/D_LABITEMS.csv')\n",
    "lab_item_df.info()"
   ]
  },
  {
   "cell_type": "code",
   "execution_count": 16,
   "metadata": {},
   "outputs": [
    {
     "data": {
      "text/plain": [
       "0"
      ]
     },
     "execution_count": 16,
     "metadata": {},
     "output_type": "execute_result"
    }
   ],
   "source": [
    "# merge the two dataframes on ITEMID\n",
    "lab_summary = lab_summary.merge(lab_item_df[['ITEMID', 'LABEL']], left_on='ITEMID', right_on='ITEMID', how='left')\n",
    "# make sure there are no unmatched lab tests\n",
    "lab_summary.LABEL.isna().sum()"
   ]
  },
  {
   "cell_type": "code",
   "execution_count": 23,
   "metadata": {},
   "outputs": [
    {
     "data": {
      "text/plain": [
       "(53791, 1038)"
      ]
     },
     "execution_count": 23,
     "metadata": {},
     "output_type": "execute_result"
    }
   ],
   "source": [
    "#lab_summary.drop(columns=['level_2','ITEMID'])\n",
    "# construct the cross tabulated table\n",
    "lab_crosstab = pd.pivot_table(lab_summary, values=['Mean', 'Var', 'Count'], index='HADM_ID', columns='LABEL')\n",
    "lab_crosstab.values.shape"
   ]
  },
  {
   "cell_type": "code",
   "execution_count": 24,
   "metadata": {},
   "outputs": [
    {
     "data": {
      "text/plain": [
       "MultiIndex([('Count',          '% Hemoglobin A1c'),\n",
       "            ('Count',             '24 hr Calcium'),\n",
       "            ('Count',          '24 hr Creatinine'),\n",
       "            ('Count',             '24 hr Protein'),\n",
       "            ('Count',           '25-OH Vitamin D'),\n",
       "            ('Count',                 '<Albumin>'),\n",
       "            ('Count',        'Absolute CD3 Count'),\n",
       "            ('Count',        'Absolute CD4 Count'),\n",
       "            ('Count',        'Absolute CD8 Count'),\n",
       "            ('Count', 'Absolute Lymphocyte Count'),\n",
       "            ...\n",
       "            (  'Var',              'WBC, Pleural'),\n",
       "            (  'Var',         'White Blood Cells'),\n",
       "            (  'Var',                     'Yeast'),\n",
       "            (  'Var',               'Young Cells'),\n",
       "            (  'Var',                      'pCO2'),\n",
       "            (  'Var',          'pCO2, Body Fluid'),\n",
       "            (  'Var',                        'pH'),\n",
       "            (  'Var',                       'pO2'),\n",
       "            (  'Var',           'pO2, Body Fluid'),\n",
       "            (  'Var',                   'tacroFK')],\n",
       "           names=[None, 'LABEL'], length=1038)"
      ]
     },
     "execution_count": 24,
     "metadata": {},
     "output_type": "execute_result"
    }
   ],
   "source": [
    "lab_crosstab.columns"
   ]
  },
  {
   "cell_type": "code",
   "execution_count": 25,
   "metadata": {},
   "outputs": [
    {
     "data": {
      "text/plain": [
       "Index(['Count_% Hemoglobin A1c', 'Count_24 hr Calcium',\n",
       "       'Count_24 hr Creatinine', 'Count_24 hr Protein',\n",
       "       'Count_25-OH Vitamin D', 'Count_<Albumin>', 'Count_Absolute CD3 Count',\n",
       "       'Count_Absolute CD4 Count', 'Count_Absolute CD8 Count',\n",
       "       'Count_Absolute Lymphocyte Count',\n",
       "       ...\n",
       "       'Var_WBC, Pleural', 'Var_White Blood Cells', 'Var_Yeast',\n",
       "       'Var_Young Cells', 'Var_pCO2', 'Var_pCO2, Body Fluid', 'Var_pH',\n",
       "       'Var_pO2', 'Var_pO2, Body Fluid', 'Var_tacroFK'],\n",
       "      dtype='object', length=1038)"
      ]
     },
     "execution_count": 25,
     "metadata": {},
     "output_type": "execute_result"
    }
   ],
   "source": [
    "# we have a multiindex column, the first level identifies the statistic and the second level the lab test\n",
    "# combine the two levels\n",
    "lab_crosstab.columns = lab_crosstab.columns.map('_'.join).str.strip('_')\n",
    "lab_crosstab.columns"
   ]
  },
  {
   "cell_type": "code",
   "execution_count": 26,
   "metadata": {},
   "outputs": [],
   "source": [
    "# save the intermediate analysis\n",
    "lab_crosstab.to_csv('../../data/intermediate/inter022020b.csv')"
   ]
  },
  {
   "cell_type": "code",
   "execution_count": null,
   "metadata": {},
   "outputs": [],
   "source": []
  }
 ],
 "metadata": {
  "kernelspec": {
   "display_name": "MIMIC-III-readmission-prediction",
   "language": "python",
   "name": "mimic-iii-readmission-prediction"
  },
  "language_info": {
   "codemirror_mode": {
    "name": "ipython",
    "version": 3
   },
   "file_extension": ".py",
   "mimetype": "text/x-python",
   "name": "python",
   "nbconvert_exporter": "python",
   "pygments_lexer": "ipython3",
   "version": "3.7.3"
  }
 },
 "nbformat": 4,
 "nbformat_minor": 4
}
