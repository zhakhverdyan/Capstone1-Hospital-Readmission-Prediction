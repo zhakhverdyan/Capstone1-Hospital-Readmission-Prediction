{
 "cells": [
  {
   "cell_type": "markdown",
   "metadata": {},
   "source": [
    "# Purpose of this notebook\n",
    "\n",
    "Select the most important features. First step is to split all the columns into two groups (numercial, categorical). Next perform the following steps.\n",
    "\n",
    "1. Numerical features - calculate the correlation ratio between numerical features and the output label. A correlation ratio takes values between 0 and 1 and tells us how much does the dispersion between categories contribute to overall dispersion. At 1, entire dispersion is due to dispersion between categoris, at 0, there is no dispersion between categoris. The idea behind using this metric is that a variable with a correlation ratio of 0 means that there is no difference in this measurement between positive and negative readmissions, which means this variable will not be useful in distinguishing this categories. \n",
    "\n",
    "2. Categorical features - calculate Theil's U  coefficient (uncertainty coefficient) between each categorical variable and the output label. Theil's U is an assymetrical measure of association between nominal variables and it tells us given one variable how well can we predict the category of the other variable. A value of 1 means complete association, 0 means no association. The reasoning for using this filter is the same, variables with uncertainty cofficient of 0 will not be useful for predicting the output label.\n",
    "\n",
    "3. Eliminate redundant numerical features by computing the Pearson correlation coefficient between the numerical columns. Eliminate redundant categorical features by computing Cramer's V coefficient. Eliminating redundant features, e.g. linearly correlated numerical features is necessary to simplify the model and help the interpretation of coefficients.\n",
    "\n",
    "At each step fit a logistic regression model and evalate the performance with area ander receiver operating curve and average precision."
   ]
  },
  {
   "cell_type": "code",
   "execution_count": 60,
   "metadata": {},
   "outputs": [
    {
     "data": {
      "text/plain": [
       "(38211, 316)"
      ]
     },
     "execution_count": 60,
     "metadata": {},
     "output_type": "execute_result"
    }
   ],
   "source": [
    "import pandas as pd\n",
    "import numpy as np\n",
    "import matplotlib.pyplot as plt\n",
    "%matplotlib inline\n",
    "import seaborn as sns\n",
    "import time\n",
    "df = pd.read_csv('../../data/processed/feat_select_fitting_030220.csv')\n",
    "df.values.shape"
   ]
  },
  {
   "cell_type": "code",
   "execution_count": 61,
   "metadata": {},
   "outputs": [
    {
     "data": {
      "text/plain": [
       "['Unnamed: 0', 'OUTPUT_LABEL', '1Y_PRIOR_ADM', 'LENGTH_OF_STAY_DAYS', 'AGE']"
      ]
     },
     "execution_count": 61,
     "metadata": {},
     "output_type": "execute_result"
    }
   ],
   "source": [
    "df.columns.tolist()[:5]"
   ]
  },
  {
   "cell_type": "code",
   "execution_count": 62,
   "metadata": {},
   "outputs": [
    {
     "data": {
      "text/plain": [
       "(38211, 315)"
      ]
     },
     "execution_count": 62,
     "metadata": {},
     "output_type": "execute_result"
    }
   ],
   "source": [
    "df.drop('Unnamed: 0', axis=1, inplace=True)\n",
    "df.values.shape"
   ]
  },
  {
   "cell_type": "markdown",
   "metadata": {},
   "source": [
    "### Feature analysis\n",
    "1. split the features into 2 groups: numerical, categorical\n",
    "2. compute correlation ratios between each numerical feature and output variable (readmission positive or negaticve)\n",
    "3. compute the uncertainty coefficient or Theil's U betwewn each categorical feature and the output label"
   ]
  },
  {
   "cell_type": "code",
   "execution_count": 63,
   "metadata": {},
   "outputs": [
    {
     "data": {
      "text/plain": [
       "['OUTPUT_LABEL',\n",
       " '1Y_PRIOR_ADM',\n",
       " 'LENGTH_OF_STAY_DAYS',\n",
       " 'AGE',\n",
       " 'ADMISSION_LOCATION_EMERGENCY ROOM ADMIT',\n",
       " 'ADMISSION_LOCATION_PHYS REFERRAL/NORMAL DELI',\n",
       " 'ADMISSION_LOCATION_TRANSFER FROM HOSP/EXTRAM',\n",
       " 'ADMISSION_LOCATION_TRANSFER FROM SKILLED NUR',\n",
       " 'DISCHARGE_LOCATION_DISC-TRAN CANCER/CHLDRN H',\n",
       " 'DISCHARGE_LOCATION_DISCH-TRAN TO PSYCH HOSP',\n",
       " 'DISCHARGE_LOCATION_HOME',\n",
       " 'DISCHARGE_LOCATION_HOME HEALTH CARE',\n",
       " 'DISCHARGE_LOCATION_HOSPICE-HOME',\n",
       " 'DISCHARGE_LOCATION_LEFT AGAINST MEDICAL ADVI',\n",
       " 'DISCHARGE_LOCATION_LONG TERM CARE HOSPITAL',\n",
       " 'DISCHARGE_LOCATION_REHAB/DISTINCT PART HOSP',\n",
       " 'DISCHARGE_LOCATION_SHORT TERM HOSPITAL',\n",
       " 'DISCHARGE_LOCATION_SNF',\n",
       " 'ETHNICITY_BLACK',\n",
       " 'ETHNICITY_HISPANIC',\n",
       " 'ETHNICITY_OTHER',\n",
       " 'ETHNICITY_WHITE',\n",
       " 'GENDER_M',\n",
       " 'CURR_SERVICE_CMED',\n",
       " 'CURR_SERVICE_CSURG',\n",
       " 'CURR_SERVICE_MED',\n",
       " 'CURR_SERVICE_NMED',\n",
       " 'CURR_SERVICE_NSURG',\n",
       " 'CURR_SERVICE_OMED',\n",
       " 'CURR_SERVICE_ORTHO',\n",
       " 'CURR_SERVICE_SURG',\n",
       " 'CURR_SERVICE_TRAUM',\n",
       " 'CURR_SERVICE_TSURG',\n",
       " 'CURR_SERVICE_VSURG',\n",
       " 'CURR_SERVICE_TOTAL',\n",
       " 'SUBSECTIONHEADER_Cardiovascular',\n",
       " 'SUBSECTIONHEADER_Cardiovascular system',\n",
       " 'SUBSECTIONHEADER_Consultations',\n",
       " 'SUBSECTIONHEADER_Critical care services',\n",
       " 'SUBSECTIONHEADER_Diagnostic imaging',\n",
       " 'SUBSECTIONHEADER_Diagnostic ultrasound',\n",
       " 'SUBSECTIONHEADER_Dialysis',\n",
       " 'SUBSECTIONHEADER_Digestive system',\n",
       " 'SUBSECTIONHEADER_Follow-up inpatient consultations (deleted codes)',\n",
       " 'SUBSECTIONHEADER_Hemic and lymphatic systems',\n",
       " 'SUBSECTIONHEADER_Hospital inpatient services',\n",
       " 'SUBSECTIONHEADER_Integumentary system',\n",
       " 'SUBSECTIONHEADER_Musculoskeletal system',\n",
       " 'SUBSECTIONHEADER_Nervous system',\n",
       " 'SUBSECTIONHEADER_Noninvasive vascular diagnostic studies',\n",
       " 'SUBSECTIONHEADER_Operating microscope (deleted code)',\n",
       " 'SUBSECTIONHEADER_Physical medicine and rehabilitation',\n",
       " 'SUBSECTIONHEADER_Prolonged services',\n",
       " 'SUBSECTIONHEADER_Psychiatry',\n",
       " 'SUBSECTIONHEADER_Pulmonary',\n",
       " 'SUBSECTIONHEADER_Respiratory system',\n",
       " 'SUBSECTIONHEADER_Special services, procedures and reports',\n",
       " 'SUBSECTIONHEADER_Urinary system',\n",
       " 'SUBSECTIONHEADER_TOTAL',\n",
       " 'Count_Anion Gap',\n",
       " 'Count_Bicarbonate',\n",
       " 'Count_Calcium, Total',\n",
       " 'Count_Chloride',\n",
       " 'Count_Creatinine',\n",
       " 'Count_Glucose',\n",
       " 'Count_Hematocrit',\n",
       " 'Count_Hemoglobin',\n",
       " 'Count_INR(PT)',\n",
       " 'Count_MCH',\n",
       " 'Count_MCHC',\n",
       " 'Count_MCV',\n",
       " 'Count_Magnesium',\n",
       " 'Count_PT',\n",
       " 'Count_PTT',\n",
       " 'Count_Phosphate',\n",
       " 'Count_Platelet Count',\n",
       " 'Count_Potassium',\n",
       " 'Count_RDW',\n",
       " 'Count_Red Blood Cells',\n",
       " 'Count_Sodium',\n",
       " 'Count_Urea Nitrogen',\n",
       " 'Count_White Blood Cells',\n",
       " 'Mean_Anion Gap',\n",
       " 'Mean_Bicarbonate',\n",
       " 'Mean_Calcium, Total',\n",
       " 'Mean_Chloride',\n",
       " 'Mean_Creatinine',\n",
       " 'Mean_Glucose',\n",
       " 'Mean_Hematocrit',\n",
       " 'Mean_Hemoglobin',\n",
       " 'Mean_INR(PT)',\n",
       " 'Mean_MCH',\n",
       " 'Mean_MCHC',\n",
       " 'Mean_MCV',\n",
       " 'Mean_Magnesium',\n",
       " 'Mean_PT',\n",
       " 'Mean_PTT',\n",
       " 'Mean_Phosphate',\n",
       " 'Mean_Platelet Count',\n",
       " 'Mean_Potassium']"
      ]
     },
     "execution_count": 63,
     "metadata": {},
     "output_type": "execute_result"
    }
   ],
   "source": [
    "df.columns.tolist()[:100]"
   ]
  },
  {
   "cell_type": "code",
   "execution_count": 64,
   "metadata": {},
   "outputs": [
    {
     "data": {
      "text/plain": [
       "59"
      ]
     },
     "execution_count": 64,
     "metadata": {},
     "output_type": "execute_result"
    }
   ],
   "source": [
    "df.columns.tolist().index('Count_Anion Gap')"
   ]
  },
  {
   "cell_type": "code",
   "execution_count": 65,
   "metadata": {},
   "outputs": [],
   "source": [
    "categorical_columns = [df.columns.tolist()[1]]\n",
    "categorical_columns+=df.columns.tolist()[4:59]"
   ]
  },
  {
   "cell_type": "code",
   "execution_count": 66,
   "metadata": {},
   "outputs": [],
   "source": [
    "numerical_columns = df.columns.tolist()[2:4]\n",
    "numerical_columns += df.columns.tolist()[59:100]"
   ]
  },
  {
   "cell_type": "code",
   "execution_count": 67,
   "metadata": {},
   "outputs": [
    {
     "data": {
      "text/plain": [
       "['Mean_RDW',\n",
       " 'Mean_Red Blood Cells',\n",
       " 'Mean_Sodium',\n",
       " 'Mean_Urea Nitrogen',\n",
       " 'Mean_White Blood Cells',\n",
       " 'Var_Anion Gap',\n",
       " 'Var_Bicarbonate',\n",
       " 'Var_Calcium, Total',\n",
       " 'Var_Chloride',\n",
       " 'Var_Creatinine',\n",
       " 'Var_Glucose',\n",
       " 'Var_Hematocrit',\n",
       " 'Var_Hemoglobin',\n",
       " 'Var_INR(PT)',\n",
       " 'Var_MCH',\n",
       " 'Var_MCHC',\n",
       " 'Var_MCV',\n",
       " 'Var_Magnesium',\n",
       " 'Var_PT',\n",
       " 'Var_PTT',\n",
       " 'Var_Phosphate',\n",
       " 'Var_Platelet Count',\n",
       " 'Var_Potassium',\n",
       " 'Var_RDW',\n",
       " 'Var_Red Blood Cells',\n",
       " 'Var_Sodium',\n",
       " 'Var_Urea Nitrogen',\n",
       " 'Var_White Blood Cells',\n",
       " 'DRG_SEVERITY',\n",
       " 'DRG_MORTALITY',\n",
       " 'abdomin',\n",
       " 'abus',\n",
       " 'acut',\n",
       " 'age',\n",
       " 'agent',\n",
       " 'alcohol',\n",
       " 'aliv',\n",
       " 'ami',\n",
       " 'anomali',\n",
       " 'arrhythmia',\n",
       " 'arteri',\n",
       " 'back',\n",
       " 'biliari',\n",
       " 'blood',\n",
       " 'bowel',\n",
       " 'bypass',\n",
       " 'card',\n",
       " 'cardiac',\n",
       " 'cardiothorac',\n",
       " 'cardiovasc',\n",
       " 'cardiovascular',\n",
       " 'cath',\n",
       " 'cathet',\n",
       " 'catheter',\n",
       " 'cc',\n",
       " 'ccmcc',\n",
       " 'cerebr',\n",
       " 'chest',\n",
       " 'chronic',\n",
       " 'circ',\n",
       " 'circulatori',\n",
       " 'cirrhosi',\n",
       " 'coma',\n",
       " 'comorbid',\n",
       " 'complex',\n",
       " 'complic',\n",
       " 'condit',\n",
       " 'conduct',\n",
       " 'connect',\n",
       " 'coronari',\n",
       " 'craniotomi',\n",
       " 'cva',\n",
       " 'defibril',\n",
       " 'depend',\n",
       " 'devic',\n",
       " 'diabet',\n",
       " 'diagnos',\n",
       " 'diagnosi',\n",
       " 'digest',\n",
       " 'discharg',\n",
       " 'diseas',\n",
       " 'disord',\n",
       " 'dissemin',\n",
       " 'drug',\n",
       " 'drugelut',\n",
       " 'duoden',\n",
       " 'ecmo',\n",
       " 'edema',\n",
       " 'effect',\n",
       " 'embol',\n",
       " 'endovascular',\n",
       " 'esophag',\n",
       " 'exc',\n",
       " 'except',\n",
       " 'extens',\n",
       " 'extracrani',\n",
       " 'extrem',\n",
       " 'face',\n",
       " 'failur',\n",
       " 'femur']"
      ]
     },
     "execution_count": 67,
     "metadata": {},
     "output_type": "execute_result"
    }
   ],
   "source": [
    "df.columns.tolist()[100:200]"
   ]
  },
  {
   "cell_type": "code",
   "execution_count": 68,
   "metadata": {},
   "outputs": [
    {
     "data": {
      "text/plain": [
       "128"
      ]
     },
     "execution_count": 68,
     "metadata": {},
     "output_type": "execute_result"
    }
   ],
   "source": [
    "df.columns.tolist().index('DRG_SEVERITY')"
   ]
  },
  {
   "cell_type": "code",
   "execution_count": 69,
   "metadata": {},
   "outputs": [],
   "source": [
    "numerical_columns += df.columns.tolist()[100:128]"
   ]
  },
  {
   "cell_type": "code",
   "execution_count": 70,
   "metadata": {},
   "outputs": [],
   "source": [
    "categorical_columns += df.columns.tolist()[128:200]"
   ]
  },
  {
   "cell_type": "code",
   "execution_count": 71,
   "metadata": {},
   "outputs": [
    {
     "data": {
      "text/plain": [
       "['full',\n",
       " 'fusion',\n",
       " 'gastriti',\n",
       " 'gastrointestin',\n",
       " 'gi',\n",
       " 'head',\n",
       " 'heart',\n",
       " 'hemorrhag',\n",
       " 'hepat',\n",
       " 'hepatobiliari',\n",
       " 'hip',\n",
       " 'hiv',\n",
       " 'hour',\n",
       " 'hr',\n",
       " 'hrs',\n",
       " 'implant',\n",
       " 'includ',\n",
       " 'infarct',\n",
       " 'infect',\n",
       " 'infecti',\n",
       " 'inflamm',\n",
       " 'injuri',\n",
       " 'intracrani',\n",
       " 'ischem',\n",
       " 'joint',\n",
       " 'kidney',\n",
       " 'larg',\n",
       " 'leukemia',\n",
       " 'liver',\n",
       " 'long',\n",
       " 'lower',\n",
       " 'maj',\n",
       " 'major',\n",
       " 'malfunct',\n",
       " 'malign',\n",
       " 'mcc',\n",
       " 'mcv',\n",
       " 'mechan',\n",
       " 'medicin',\n",
       " 'minor',\n",
       " 'mouth',\n",
       " 'multipl',\n",
       " 'musculoskelet',\n",
       " 'mv',\n",
       " 'myocardi',\n",
       " 'neck',\n",
       " 'neonat',\n",
       " 'neoplasm',\n",
       " 'nervous',\n",
       " 'obstruct',\n",
       " 'occulus',\n",
       " 'oper',\n",
       " 'oth',\n",
       " 'pacemak',\n",
       " 'pancrea',\n",
       " 'parasit',\n",
       " 'pdx',\n",
       " 'peptic',\n",
       " 'perc',\n",
       " 'percutan',\n",
       " 'peripher',\n",
       " 'periton',\n",
       " 'pleurisi',\n",
       " 'pneumonia',\n",
       " 'poison',\n",
       " 'precerebr',\n",
       " 'princip',\n",
       " 'problem',\n",
       " 'proc',\n",
       " 'procedur',\n",
       " 'pulmonari',\n",
       " 'reaction',\n",
       " 'relat',\n",
       " 'renal',\n",
       " 'replac',\n",
       " 'resp',\n",
       " 'respiratori',\n",
       " 'room',\n",
       " 'seizur',\n",
       " 'sepsi',\n",
       " 'septicemia',\n",
       " 'sever',\n",
       " 'shock',\n",
       " 'shunt',\n",
       " 'sign',\n",
       " 'signific',\n",
       " 'simpl',\n",
       " 'skin',\n",
       " 'small',\n",
       " 'spinal',\n",
       " 'stent',\n",
       " 'stomach',\n",
       " 'stupor',\n",
       " 'support',\n",
       " 'symptom',\n",
       " 'system',\n",
       " 'term',\n",
       " 'tissu',\n",
       " 'toxic',\n",
       " 'trach',\n",
       " 'tracheostomi',\n",
       " 'tract',\n",
       " 'transplant',\n",
       " 'trauma',\n",
       " 'traumat',\n",
       " 'treatment',\n",
       " 'ulcer',\n",
       " 'unrel',\n",
       " 'unspecifi',\n",
       " 'urinari',\n",
       " 'valv',\n",
       " 'vascular',\n",
       " 'ventil',\n",
       " 'without',\n",
       " 'wo']"
      ]
     },
     "execution_count": 71,
     "metadata": {},
     "output_type": "execute_result"
    }
   ],
   "source": [
    "df.columns.tolist()[200:]"
   ]
  },
  {
   "cell_type": "code",
   "execution_count": 72,
   "metadata": {},
   "outputs": [],
   "source": [
    "categorical_columns += df.columns.tolist()[200:]"
   ]
  },
  {
   "cell_type": "code",
   "execution_count": 73,
   "metadata": {},
   "outputs": [
    {
     "name": "stdout",
     "output_type": "stream",
     "text": [
      "Number of numerical features 71\n",
      "Number of categorical features 243\n",
      "Number of total features 314\n"
     ]
    }
   ],
   "source": [
    "print(\"Number of numerical features\", len(numerical_columns))\n",
    "print(\"Number of categorical features\", len(categorical_columns))\n",
    "print(\"Number of total features\", len(numerical_columns)+len(categorical_columns))"
   ]
  },
  {
   "cell_type": "markdown",
   "metadata": {},
   "source": [
    "Column assignment to categorical and numerical worked properly, the remaining column is \"OUTPUT_LABEL\""
   ]
  },
  {
   "cell_type": "markdown",
   "metadata": {},
   "source": [
    "### For numerical features compute the correlation ratio"
   ]
  },
  {
   "cell_type": "code",
   "execution_count": 16,
   "metadata": {},
   "outputs": [],
   "source": [
    "# Import the script containing the functions for calculating Cramer's V, correlation ratio, conditional entropy and \n",
    "# Theil's U\n",
    "import os\n",
    "import sys\n",
    "sys.path.insert(0, os.path.abspath('../../src/'))\n",
    "import entropy_funcs"
   ]
  },
  {
   "cell_type": "code",
   "execution_count": 17,
   "metadata": {},
   "outputs": [],
   "source": [
    "num_cor_ratio_array = []\n",
    "for column in numerical_columns:\n",
    "    num_cor_ratio = entropy_funcs.correlation_ratio(df.OUTPUT_LABEL.values, df[column].values)\n",
    "    num_cor_ratio_array.append(num_cor_ratio)"
   ]
  },
  {
   "cell_type": "code",
   "execution_count": 18,
   "metadata": {},
   "outputs": [
    {
     "data": {
      "image/png": "[encoded data removed]",
      "text/plain": [
       "<Figure size 432x288 with 1 Axes>"
      ]
     },
     "metadata": {
      "needs_background": "light"
     },
     "output_type": "display_data"
    }
   ],
   "source": [
    "plt.plot(num_cor_ratio_array, '.')\n",
    "plt.hlines(y=0.005, xmin=0, xmax=len(num_cor_ratio_array), ls='--')\n",
    "plt.xlabel('Numerical features')\n",
    "plt.ylabel('Correlation ratio')\n",
    "plt.title('Correlation ratios between numerical \\nfeatures and the output label')\n",
    "plt.annotate('Filter threshold', (0, 0.01))\n",
    "plt.savefig('../../reports/figures/corr_ratio_output_0.005.png', format='png')"
   ]
  },
  {
   "cell_type": "code",
   "execution_count": 19,
   "metadata": {},
   "outputs": [
    {
     "data": {
      "text/plain": [
       "['Count_Anion Gap',\n",
       " 'Count_Bicarbonate',\n",
       " 'Count_Calcium, Total',\n",
       " 'Count_Chloride',\n",
       " 'Count_Creatinine',\n",
       " 'Count_Glucose',\n",
       " 'Count_Magnesium',\n",
       " 'Count_Phosphate',\n",
       " 'Count_Potassium',\n",
       " 'Count_Urea Nitrogen',\n",
       " 'Mean_Hemoglobin',\n",
       " 'Mean_MCHC',\n",
       " 'Mean_RDW',\n",
       " 'Mean_Red Blood Cells']"
      ]
     },
     "execution_count": 19,
     "metadata": {},
     "output_type": "execute_result"
    }
   ],
   "source": [
    "top_num_features = [column for column in numerical_columns if num_cor_ratio_array[numerical_columns.index(column)]>0.06]\n",
    "top_num_features"
   ]
  },
  {
   "cell_type": "code",
   "execution_count": 20,
   "metadata": {},
   "outputs": [
    {
     "name": "stdout",
     "output_type": "stream",
     "text": [
      "0.07463313359702543\n",
      "0.05836116205923728\n"
     ]
    }
   ],
   "source": [
    "print(num_cor_ratio_array[numerical_columns.index('Mean_Hemoglobin')])\n",
    "print(num_cor_ratio_array[numerical_columns.index('Mean_Hematocrit')])"
   ]
  },
  {
   "cell_type": "markdown",
   "metadata": {},
   "source": [
    "Note hemoglobin is one of the important features and shuld not be excluded, although it has redundant columns hematocrit and red blood cells, the corresponding correlation ratios are smaller than that of hemoglobin. Sort the numerical columns names by the correlation ratios is a descending order, such that hematocrit and red blood cells are considered in relationship to hemoglobon and not the other way around."
   ]
  },
  {
   "cell_type": "code",
   "execution_count": 21,
   "metadata": {},
   "outputs": [
    {
     "name": "stdout",
     "output_type": "stream",
     "text": [
      "[('Mean_RDW', 0.09802611436336282), ('Mean_MCHC', 0.07703222670055314), ('Mean_Hemoglobin', 0.07463313359702543), ('Mean_Red Blood Cells', 0.06467264123639893), ('Count_Glucose', 0.06290907614596727), ('Count_Magnesium', 0.06158231192522031), ('Count_Creatinine', 0.060436589841808615), ('Count_Bicarbonate', 0.06041241002398264), ('Count_Anion Gap', 0.0603602971672171), ('Count_Urea Nitrogen', 0.060346873044214926), ('Count_Calcium, Total', 0.060281036750126395), ('Count_Chloride', 0.060224126043233225), ('Count_Potassium', 0.06010965185283715), ('Count_Phosphate', 0.06008425014335191), ('Count_RDW', 0.05853443509392651), ('Count_MCV', 0.05853011792354618), ('Count_MCH', 0.05848977862947261), ('Count_Red Blood Cells', 0.05848837519019294), ('Count_Sodium', 0.05841539620584016), ('Mean_Hematocrit', 0.05836116205923728), ('Count_MCHC', 0.05835808553059928), ('Count_White Blood Cells', 0.05823569208932981), ('Count_Hemoglobin', 0.057622176901365875), ('Count_Hematocrit', 0.05532012664998089), ('Mean_Bicarbonate', 0.054843141383140816), ('Count_Platelet Count', 0.05359251040655903), ('Mean_Urea Nitrogen', 0.05233748999478616), ('Mean_Creatinine', 0.05194108954501263), ('Count_PT', 0.05104492227751304), ('Count_INR(PT)', 0.050915283558569654), ('Count_PTT', 0.04941761673385769), ('LENGTH_OF_STAY_DAYS', 0.04879382111722772), ('Mean_Chloride', 0.042219165478351674), ('Mean_Phosphate', 0.03228771283592936), ('Var_Hematocrit', 0.028885318066329164), ('Mean_Potassium', 0.028871490335386822), ('Mean_PT', 0.027704801600950277), ('Mean_MCV', 0.023923338198321535), ('Mean_MCH', 0.01884876563616905), ('Mean_INR(PT)', 0.016930152134608), ('Var_Glucose', 0.01563614566063797), ('Var_Urea Nitrogen', 0.015369999073590986), ('Var_Red Blood Cells', 0.015164695082949181), ('Mean_Calcium, Total', 0.013772945750891958), ('Mean_Anion Gap', 0.012292287623754585), ('Var_White Blood Cells', 0.010802747079478144), ('Var_Bicarbonate', 0.010765982109719628), ('Mean_PTT', 0.010702668981803163), ('Mean_White Blood Cells', 0.010661856676342221), ('Var_Calcium, Total', 0.009241331057992916), ('Var_RDW', 0.008377721791909869), ('Mean_Sodium', 0.008028197382343), ('Var_Potassium', 0.007915175828116764), ('Var_Sodium', 0.00600063053247774), ('Mean_Glucose', 0.005816952030942681), ('Var_Phosphate', 0.0056322718238818485), ('Var_Hemoglobin', 0.004841989509377524), ('Var_Chloride', 0.0040710035200852476), ('Var_INR(PT)', 0.0038128132167156116), ('Var_PTT', 0.0037589465399908645), ('Var_MCV', 0.003331919709810241), ('Mean_Platelet Count', 0.0027506113172316615), ('AGE', 0.002717945190868329), ('Var_Platelet Count', 0.0024291225927526292), ('Var_MCH', 0.0022750502046442115), ('Var_Magnesium', 0.001880314619678912), ('Var_PT', 0.0018436080995772619), ('Var_Creatinine', 0.0013380442562877619), ('Mean_Magnesium', 0.0012319903665397374), ('Var_Anion Gap', 0.0008070934369147278), ('Var_MCHC', 0.00014790330343049572)]\n"
     ]
    }
   ],
   "source": [
    "num_name_ratio_zipped_sorted = sorted(zip(numerical_columns, num_cor_ratio_array), key=lambda tup: tup[1], reverse=True)\n",
    "print(num_name_ratio_zipped_sorted)"
   ]
  },
  {
   "cell_type": "code",
   "execution_count": 22,
   "metadata": {},
   "outputs": [
    {
     "data": {
      "text/plain": [
       "['Mean_RDW',\n",
       " 'Mean_MCHC',\n",
       " 'Mean_Hemoglobin',\n",
       " 'Mean_Red Blood Cells',\n",
       " 'Count_Glucose',\n",
       " 'Count_Magnesium',\n",
       " 'Count_Creatinine',\n",
       " 'Count_Bicarbonate',\n",
       " 'Count_Anion Gap',\n",
       " 'Count_Urea Nitrogen',\n",
       " 'Count_Calcium, Total',\n",
       " 'Count_Chloride',\n",
       " 'Count_Potassium',\n",
       " 'Count_Phosphate',\n",
       " 'Count_RDW',\n",
       " 'Count_MCV',\n",
       " 'Count_MCH',\n",
       " 'Count_Red Blood Cells',\n",
       " 'Count_Sodium',\n",
       " 'Mean_Hematocrit',\n",
       " 'Count_MCHC',\n",
       " 'Count_White Blood Cells',\n",
       " 'Count_Hemoglobin',\n",
       " 'Count_Hematocrit',\n",
       " 'Mean_Bicarbonate',\n",
       " 'Count_Platelet Count',\n",
       " 'Mean_Urea Nitrogen',\n",
       " 'Mean_Creatinine',\n",
       " 'Count_PT',\n",
       " 'Count_INR(PT)',\n",
       " 'Count_PTT',\n",
       " 'LENGTH_OF_STAY_DAYS',\n",
       " 'Mean_Chloride',\n",
       " 'Mean_Phosphate',\n",
       " 'Var_Hematocrit',\n",
       " 'Mean_Potassium',\n",
       " 'Mean_PT',\n",
       " 'Mean_MCV',\n",
       " 'Mean_MCH',\n",
       " 'Mean_INR(PT)',\n",
       " 'Var_Glucose',\n",
       " 'Var_Urea Nitrogen',\n",
       " 'Var_Red Blood Cells',\n",
       " 'Mean_Calcium, Total',\n",
       " 'Mean_Anion Gap',\n",
       " 'Var_White Blood Cells',\n",
       " 'Var_Bicarbonate',\n",
       " 'Mean_PTT',\n",
       " 'Mean_White Blood Cells',\n",
       " 'Var_Calcium, Total',\n",
       " 'Var_RDW',\n",
       " 'Mean_Sodium',\n",
       " 'Var_Potassium',\n",
       " 'Var_Sodium',\n",
       " 'Mean_Glucose',\n",
       " 'Var_Phosphate',\n",
       " 'Var_Hemoglobin',\n",
       " 'Var_Chloride',\n",
       " 'Var_INR(PT)',\n",
       " 'Var_PTT',\n",
       " 'Var_MCV',\n",
       " 'Mean_Platelet Count',\n",
       " 'AGE',\n",
       " 'Var_Platelet Count',\n",
       " 'Var_MCH',\n",
       " 'Var_Magnesium',\n",
       " 'Var_PT',\n",
       " 'Var_Creatinine',\n",
       " 'Mean_Magnesium',\n",
       " 'Var_Anion Gap',\n",
       " 'Var_MCHC']"
      ]
     },
     "execution_count": 22,
     "metadata": {},
     "output_type": "execute_result"
    }
   ],
   "source": [
    "numerical_columns_sorted = [col for col, rank in num_name_ratio_zipped_sorted]\n",
    "numerical_columns_sorted"
   ]
  },
  {
   "cell_type": "code",
   "execution_count": 33,
   "metadata": {},
   "outputs": [],
   "source": [
    "cat_theils_array = []\n",
    "for column in categorical_columns:\n",
    "    cat_cor_ratio = entropy_funcs.theils_u(df.OUTPUT_LABEL.values, df[column].values)\n",
    "    cat_theils_array.append(cat_cor_ratio)"
   ]
  },
  {
   "cell_type": "code",
   "execution_count": 34,
   "metadata": {},
   "outputs": [
    {
     "data": {
      "image/png": "[encoded data removed]",
      "text/plain": [
       "<Figure size 432x288 with 1 Axes>"
      ]
     },
     "metadata": {
      "needs_background": "light"
     },
     "output_type": "display_data"
    }
   ],
   "source": [
    "plt.plot(cat_theils_array, '.')\n",
    "plt.hlines(y=0.005, xmin=0, xmax=len(cat_theils_array), ls='--')\n",
    "plt.xlabel('Categorical features')\n",
    "plt.ylabel('Uncertainty coefficient')\n",
    "plt.title('Uncertainty coefficient between the categorical \\nfeatures and the output label')\n",
    "plt.annotate('Filter threshold', (0, 0.006))\n",
    "plt.savefig('../../reports/figures/uncertainty_coef_output_0.005.png', format='png')"
   ]
  },
  {
   "cell_type": "code",
   "execution_count": 35,
   "metadata": {},
   "outputs": [
    {
     "data": {
      "text/plain": [
       "['1Y_PRIOR_ADM', 'complic', 'major', 'mcc', 'procedur', 'wo']"
      ]
     },
     "execution_count": 35,
     "metadata": {},
     "output_type": "execute_result"
    }
   ],
   "source": [
    "top_cat_features = [column for column in categorical_columns if cat_theils_array[categorical_columns.index(column)]>0.02]\n",
    "top_cat_features"
   ]
  },
  {
   "cell_type": "code",
   "execution_count": 36,
   "metadata": {},
   "outputs": [],
   "source": [
    "# sort the categorical column names in descending order of Theil's U cofficient\n",
    "cat_name_theilu_zipped_sorted = sorted(zip(categorical_columns, cat_theils_array), key=lambda tup: tup[1], reverse=True)\n",
    "categorical_columns_sorted = [col for col, rank in cat_name_theilu_zipped_sorted]"
   ]
  },
  {
   "cell_type": "code",
   "execution_count": 38,
   "metadata": {},
   "outputs": [],
   "source": [
    "# uncoment to see the entire list with associated Theil's U coefficients\n",
    "#cat_name_zipped_sorted = sorted(zip(categorical_columns, cat_theils_array), key=lambda tup: tup[1], reverse=True)\n",
    "#print(cat_name_zipped_sorted)"
   ]
  },
  {
   "cell_type": "code",
   "execution_count": 28,
   "metadata": {},
   "outputs": [
    {
     "name": "stdout",
     "output_type": "stream",
     "text": [
      "180\n",
      "15\n"
     ]
    }
   ],
   "source": [
    "# filter columns based on a threshod of 0.005 for each of the correlation ratio and Theil's U\n",
    "cat_cols_todrop = [column for column in categorical_columns if cat_theils_array[categorical_columns.index(column)]<0.005]\n",
    "print(len(cat_cols_todrop))\n",
    "num_cols_todrop = [column for column in numerical_columns if num_cor_ratio_array[numerical_columns.index(column)]<0.005]\n",
    "print(len(num_cols_todrop))"
   ]
  },
  {
   "cell_type": "code",
   "execution_count": 29,
   "metadata": {},
   "outputs": [],
   "source": [
    "combined_cols_to_drop = cat_cols_todrop + num_cols_todrop\n",
    "df_005_005 = df.drop(columns=combined_cols_to_drop, axis=1)\n",
    "df_005_005.to_csv('../../data/processed/df_0.005_0.005.csv')"
   ]
  },
  {
   "cell_type": "code",
   "execution_count": 30,
   "metadata": {},
   "outputs": [
    {
     "name": "stdout",
     "output_type": "stream",
     "text": [
      "132\n",
      "8\n"
     ]
    }
   ],
   "source": [
    "# filter columns based on a threshod of 0.0025 for each of the correlation ratio and Theil's U\n",
    "cat_cols_todrop = [column for column in categorical_columns if cat_theils_array[categorical_columns.index(column)]<0.0025]\n",
    "print(len(cat_cols_todrop))\n",
    "num_cols_todrop = [column for column in numerical_columns if num_cor_ratio_array[numerical_columns.index(column)]<0.0025]\n",
    "print(len(num_cols_todrop))"
   ]
  },
  {
   "cell_type": "code",
   "execution_count": 31,
   "metadata": {},
   "outputs": [],
   "source": [
    "combined_cols_to_drop = cat_cols_todrop + num_cols_todrop\n",
    "df_0025_0025 = df.drop(columns=combined_cols_to_drop, axis=1)\n",
    "df_0025_0025.to_csv('../../data/processed/df_0.0025_0.0025.csv')"
   ]
  },
  {
   "cell_type": "code",
   "execution_count": 32,
   "metadata": {},
   "outputs": [
    {
     "name": "stdout",
     "output_type": "stream",
     "text": [
      "60\n",
      "2\n"
     ]
    }
   ],
   "source": [
    "# filter columns based on a threshod of 0.001 for each of the correlation ratio and Theil's U\n",
    "cat_cols_todrop = [column for column in categorical_columns if cat_theils_array[categorical_columns.index(column)]<0.001]\n",
    "print(len(cat_cols_todrop))\n",
    "num_cols_todrop = [column for column in numerical_columns if num_cor_ratio_array[numerical_columns.index(column)]<0.001]\n",
    "print(len(num_cols_todrop))"
   ]
  },
  {
   "cell_type": "code",
   "execution_count": 33,
   "metadata": {},
   "outputs": [],
   "source": [
    "combined_cols_to_drop = cat_cols_todrop + num_cols_todrop\n",
    "df_001_001 = df.drop(columns=combined_cols_to_drop, axis=1)\n",
    "df_001_001.to_csv('../../data/processed/df_0.001_0.001.csv')"
   ]
  },
  {
   "cell_type": "code",
   "execution_count": 36,
   "metadata": {},
   "outputs": [
    {
     "name": "stdout",
     "output_type": "stream",
     "text": [
      "28\n",
      "1\n"
     ]
    }
   ],
   "source": [
    "# filter columns based on a threshod of 0.0005 for each of the correlation ratio and Theil's U\n",
    "cat_cols_todrop = [column for column in categorical_columns if cat_theils_array[categorical_columns.index(column)]<0.0005]\n",
    "print(len(cat_cols_todrop))\n",
    "num_cols_todrop = [column for column in numerical_columns if num_cor_ratio_array[numerical_columns.index(column)]<0.0005]\n",
    "print(len(num_cols_todrop))"
   ]
  },
  {
   "cell_type": "code",
   "execution_count": 37,
   "metadata": {},
   "outputs": [],
   "source": [
    "combined_cols_to_drop = cat_cols_todrop + num_cols_todrop\n",
    "df_0005_0005 = df.drop(columns=combined_cols_to_drop, axis=1)\n",
    "df_0005_0005.to_csv('../../data/processed/df_0.0005_0.0005.csv')"
   ]
  },
  {
   "cell_type": "markdown",
   "metadata": {},
   "source": [
    "### eliminating columns based on correlation ratio or Theil's U was not successful, since both the AUROC and average precision went down even at a threshold of 0.0005. Next, we will look at eliminating linearly correlated numerical (Pearson's correlation) or strongly associated categorical features (Cramer's V)."
   ]
  },
  {
   "cell_type": "code",
   "execution_count": 39,
   "metadata": {},
   "outputs": [
    {
     "data": {
      "image/png": "[encoded data removed]",
      "text/plain": [
       "<Figure size 864x576 with 2 Axes>"
      ]
     },
     "metadata": {},
     "output_type": "display_data"
    }
   ],
   "source": [
    "import seaborn as sns\n",
    "\n",
    "# Calculate Pearson correlation coefficient\n",
    "num_corr_mat = np.corrcoef(df[numerical_columns].values, rowvar=False)\n",
    "\n",
    "mask = np.triu(np.ones_like(num_corr_mat, dtype=np.bool))\n",
    "sns.set(style=\"white\")\n",
    "\n",
    "# Set up the matplotlib figure\n",
    "f, ax = plt.subplots(figsize=(12, 8))\n",
    "\n",
    "ax = sns.heatmap(num_corr_mat, annot=False, mask=mask)\n",
    "ax.set_title(\"Pearson correlation coefficient between numerical columns\", fontsize=20)\n",
    "plt.savefig('../../reports/figures/pears_corr_coeff.png', format='png')"
   ]
  },
  {
   "cell_type": "code",
   "execution_count": 40,
   "metadata": {},
   "outputs": [],
   "source": [
    "from itertools import compress\n",
    "\n",
    "# Define a function for generating the array and dictionary with correlated columns\n",
    "def corr_extractor(corr_mat, cols_list, thresh):\n",
    "    \"\"\"With correlation matrix, list of columns (for which the \n",
    "    correlation matrix was calculated), and threshold (for \n",
    "    cooefficient comparison) as input return an array of \n",
    "    redundant column (to drop) and a dictionary to inspect \n",
    "    the correlations.\"\"\"\n",
    "    corr_mat_asym = np.tril(corr_mat, -1) # set the top half triangle of the matrix (including main diagonal) to 0\n",
    "    bool_mask = abs(corr_mat_asym)>=thresh # create a boolean mask for values above the threshold\n",
    "\n",
    "    corr_array = [] # initiate empty array and dictionary\n",
    "    corr_dict = {}\n",
    "    \n",
    "    for i in range(len(cols_list)): \n",
    "        # iterate through the columns in cols_array and extract the associated column names with the boolean mask\n",
    "        cors = list(compress(cols_list, bool_mask[:,i]))\n",
    "        if cors!= []:\n",
    "            corr_dict[cols_list[i]]=[]\n",
    "            # create a key value pair, key= (query) column name values = list of associated columns\n",
    "            corr_dict[cols_list[i]]+=cors\n",
    "            for elem in cors:\n",
    "                corr_array.append(elem) # create a list only with the redundant column (excluding the query)\n",
    "    \n",
    "    corr_array = list(dict.fromkeys(corr_array)) # drop duplicates\n",
    "    \n",
    "    return corr_array, corr_dict"
   ]
  },
  {
   "cell_type": "code",
   "execution_count": 43,
   "metadata": {},
   "outputs": [
    {
     "name": "stdout",
     "output_type": "stream",
     "text": [
      "The number of redundant numerical features is  23\n",
      "The number of remaining numerical features is  48\n"
     ]
    }
   ],
   "source": [
    "#determine the numerical features that have a Pearson correlation coeffient above 0.90\n",
    "num_corr_to_drop, num_corr_dict = corr_extractor(num_corr_mat, numerical_columns, 0.90)\n",
    "print(\"The number of redundant numerical features is \", len(num_corr_to_drop))\n",
    "print(\"The number of remaining numerical features is \", len(numerical_columns)-len(num_corr_to_drop))"
   ]
  },
  {
   "cell_type": "code",
   "execution_count": 44,
   "metadata": {},
   "outputs": [
    {
     "data": {
      "text/plain": [
       "['Count_Creatinine',\n",
       " 'Count_MCH',\n",
       " 'Count_MCHC',\n",
       " 'Count_MCV',\n",
       " 'Count_RDW',\n",
       " 'Count_Red Blood Cells',\n",
       " 'Count_Urea Nitrogen',\n",
       " 'Count_White Blood Cells',\n",
       " 'Count_Bicarbonate',\n",
       " 'Count_Calcium, Total',\n",
       " 'Count_Chloride',\n",
       " 'Count_Glucose',\n",
       " 'Count_Hematocrit',\n",
       " 'Count_Hemoglobin',\n",
       " 'Count_Magnesium',\n",
       " 'Count_Phosphate',\n",
       " 'Count_Platelet Count',\n",
       " 'Count_Potassium',\n",
       " 'Count_Sodium',\n",
       " 'Count_PT',\n",
       " 'Count_PTT',\n",
       " 'Mean_Hemoglobin',\n",
       " 'Var_MCV']"
      ]
     },
     "execution_count": 44,
     "metadata": {},
     "output_type": "execute_result"
    }
   ],
   "source": [
    "num_corr_to_drop"
   ]
  },
  {
   "cell_type": "code",
   "execution_count": 45,
   "metadata": {},
   "outputs": [],
   "source": [
    "# fit logistic regression without redundant columns\n",
    "df_p09 = df.drop(columns=num_corr_to_drop)\n",
    "df_p09.to_csv('../../data/processed/df_p09.csv')"
   ]
  },
  {
   "cell_type": "markdown",
   "metadata": {},
   "source": [
    "### Most redundant features are test counts, which is expected since multiple lab test are conducted at the same time, especially since we chose the most frequently administered tests. After dropping the numerical columns with Pearson correlation coefficient of 0.9 the logistic regression metrics did not change at all, hence those 23 columns are dispensible."
   ]
  },
  {
   "cell_type": "markdown",
   "metadata": {},
   "source": [
    "### let's see if first sorting the columns by descending correlation ratio and then elimating correlated columns (which have smaller correlation ratio) makes a difference. "
   ]
  },
  {
   "cell_type": "code",
   "execution_count": 47,
   "metadata": {},
   "outputs": [
    {
     "name": "stdout",
     "output_type": "stream",
     "text": [
      "The number of redundant numerical features is  24\n",
      "The number of remaining numerical features is  47\n",
      "['Mean_Hematocrit', 'Count_Magnesium', 'Count_Creatinine', 'Count_Bicarbonate', 'Count_Anion Gap', 'Count_Urea Nitrogen', 'Count_Chloride', 'Count_Sodium', 'Count_Calcium, Total', 'Count_Potassium', 'Count_Phosphate', 'Count_RDW', 'Count_MCV', 'Count_MCH', 'Count_Red Blood Cells', 'Count_MCHC', 'Count_White Blood Cells', 'Count_Hematocrit', 'Count_Platelet Count', 'Count_Hemoglobin', 'LENGTH_OF_STAY_DAYS', 'Count_INR(PT)', 'Count_PTT', 'Var_MCH']\n"
     ]
    }
   ],
   "source": [
    "# Calculate Pearson correlation coefficient for sorted columns\n",
    "num_corr_mat = np.corrcoef(df[numerical_columns_sorted].values, rowvar=False)\n",
    "\n",
    "#determine the numerical features that have a Pearson correlation coeffient above 0.90\n",
    "num_corr_to_drop, num_corr_dict = corr_extractor(num_corr_mat, numerical_columns_sorted, 0.90)\n",
    "print(\"The number of redundant numerical features is \", len(num_corr_to_drop))\n",
    "print(\"The number of remaining numerical features is \", len(numerical_columns_sorted)-len(num_corr_to_drop))\n",
    "\n",
    "# display the columns to drop\n",
    "print(num_corr_to_drop)\n",
    "\n",
    "# fit logistic regression without redundant columns\n",
    "df_p09_sorted = df.drop(columns=num_corr_to_drop)\n",
    "df_p09_sorted.to_csv('../../data/processed/df_p09_sorted.csv')"
   ]
  },
  {
   "cell_type": "markdown",
   "metadata": {},
   "source": [
    "### To measure the association of categorical variables we will compute Cramer's V coefficient, which is based on Chi squared statistic and takes values from 0 to 1. Note that Cramer's V calculation takes a long time."
   ]
  },
  {
   "cell_type": "code",
   "execution_count": 46,
   "metadata": {},
   "outputs": [
    {
     "name": "stdout",
     "output_type": "stream",
     "text": [
      "Calculation took 27.290 minutes\n"
     ]
    }
   ],
   "source": [
    "# calculate Cramer's V coefficient for all categorical features, this may take a while\n",
    "start_time = time.monotonic()\n",
    "x = df[categorical_columns]\n",
    "corr_mat_cat = np.zeros((len(x.columns), len(x.columns)))\n",
    "for i in range(len(x.columns)):\n",
    "    for j in range(len(x.columns)):\n",
    "        corr_mat_cat[i,j] = entropy_funcs.cramers_v(x.iloc[:,i], x.iloc[:,j])\n",
    "time_elapsed = (time.monotonic()-start_time)/60\n",
    "print(\"Calculation took %.3f minutes\" % time_elapsed)"
   ]
  },
  {
   "cell_type": "code",
   "execution_count": 54,
   "metadata": {},
   "outputs": [
    {
     "name": "stdout",
     "output_type": "stream",
     "text": [
      "The number of redundant categorical features is  106\n",
      "The number of remaining categorical features is  137\n"
     ]
    }
   ],
   "source": [
    "#determine the categorical features that have a Cramer's V coeffient above 0.9\n",
    "cat_corr_to_drop, cat_corr_dict = corr_extractor(corr_mat_cat, categorical_columns, 0.9)\n",
    "print(\"The number of redundant categorical features is \", len(cat_corr_to_drop))\n",
    "print(\"The number of remaining categorical features is \", len(categorical_columns)-len(cat_corr_to_drop))"
   ]
  },
  {
   "cell_type": "code",
   "execution_count": 55,
   "metadata": {},
   "outputs": [
    {
     "name": "stdout",
     "output_type": "stream",
     "text": [
      "['procedur', 'depend', 'aliv', 'discharg', 'myocardi', 'medicin', 'cirrhosi', 'infarct', 'drugelut', 'perc', 'cardiac', 'defibril', 'heart', 'conduct', 'disord', 'stent', 'problem', 'tract', 'larg', 'small', 'cath', 'coronari', 'percutan', 'cardiothorac', 'maj', 'oth', 'proc', 'valv', 'cathet', 'catheter', 'pacemak', 'mcc', 'hemorrhag', 'intracrani', 'diseas', 'obstruct', 'pulmonari', 'exc', 'hepat', 'head', 'hr', 'stupor', 'complic', 'treatment', 'hiv', 'major', 'relat', 'tissu', 'endovascular', 'occulus', 'precerebr', 'malfunct', 'reaction', 'sign', 'symptom', 'tracheostomi', 'mcv', 'support', 'unrel', 'includ', 'infecti', 'parasit', 'ischem', 'peripher', 'infect', 'septicemia', 'esophag', 'stomach', 'face', 'mouth', 'neck', 'failur', 'respiratori', 'poison', 'toxic', 'hrs', 'mv', 'trach', 'long', 'term', 'vascular', 'lower', 'mechan', 'shock', 'hip', 'neonat', 'spinal', 'peptic', 'ulcer', 'unspecifi', 'trauma', 'pancrea', 'sepsi', 'sever', 'ventil', 'pdx', 'inflamm', 'urinari', 'signific', 'system', 'room', 'wo', 'pneumonia', 'simpl', 'resp', 'shunt']\n"
     ]
    }
   ],
   "source": [
    "print(cat_corr_to_drop)"
   ]
  },
  {
   "cell_type": "code",
   "execution_count": 49,
   "metadata": {},
   "outputs": [],
   "source": [
    "df_p09_cv09 = df_p09.drop(columns=cat_corr_to_drop, axis=1)\n",
    "df_p09_cv09.to_csv('../../data/processed/df_p09_cv09.csv')\n",
    "df_p09_sorted_cv09 = df_p09_sorted.drop(columns=cat_corr_to_drop, axis=1)\n",
    "df_p09_sorted_cv09.to_csv('../../data/processed/df_p09_sorted_cv09.csv')"
   ]
  },
  {
   "cell_type": "code",
   "execution_count": 50,
   "metadata": {},
   "outputs": [
    {
     "name": "stdout",
     "output_type": "stream",
     "text": [
      "Calculation took 32.443 minutes\n"
     ]
    }
   ],
   "source": [
    "# calculate Cramer's V coefficient for all sorted categorical features, this may take a while\n",
    "start_time = time.monotonic()\n",
    "y = df[categorical_columns_sorted]\n",
    "corr_mat_cat_sorted = np.zeros((len(y.columns), len(y.columns)))\n",
    "for i in range(len(y.columns)):\n",
    "    for j in range(len(y.columns)):\n",
    "        corr_mat_cat_sorted[i,j] = entropy_funcs.cramers_v(y.iloc[:,i], y.iloc[:,j])\n",
    "time_elapsed = (time.monotonic()-start_time)/60\n",
    "print(\"Calculation took %.3f minutes\" % time_elapsed)"
   ]
  },
  {
   "cell_type": "code",
   "execution_count": 56,
   "metadata": {},
   "outputs": [
    {
     "name": "stdout",
     "output_type": "stream",
     "text": [
      "The number of redundant categorical features is  103\n",
      "The number of remaining categorical features is  140\n",
      "['percutan', 'oper', 'room', 'princip', 'tracheostomi', 'extens', 'mechan', 'bypass', 'cardiovascular', 'ecmo', 'stent', 'unrel', 'term', 'long', 'cardiovasc', 'cardiothorac', 'perc', 'bowel', 'valv', 'extracrani', 'larg', 'small', 'drugelut', 'oth', 'shunt', 'abdomin', 'duoden', 'stomach', 'arteri', 'endovascular', 'resp', 'includ', 'comorbid', 'treatment', 'condit', 'neonat', 'peripher', 'ischem', 'arrhythmia', 'conduct', 'circ', 'sign', 'symptom', 'support', 'nervous', 'cath', 'catheter', 'cathet', 'card', 'pacemak', 'defibril', 'anomali', 'mcv', 'mouth', 'face', 'mv', 'hrs', 'trach', 'hour', 'edema', 'inflamm', 'shock', 'myocardi', 'cerebr', 'precerebr', 'cva', 'aliv', 'discharg', 'occulus', 'sepsi', 'sever', 'multipl', 'signific', 'head', 'dissemin', 'unspecifi', 'chronic', 'infecti', 'parasit', 'hiv', 'reaction', 'malfunct', 'kidney', 'urinari', 'biliari', 'connect', 'medicin', 'embol', 'stupor', 'hr', 'cirrhosi', 'poison', 'toxic', 'problem', 'peptic', 'gastriti', 'fusion', 'femur', 'depend', 'extrem', 'hepatobiliari', 'pleurisi', 'simpl']\n"
     ]
    }
   ],
   "source": [
    "#determine the categorical features that have a Cramer's V coeffient above 0.9\n",
    "cat_corr_to_drop, cat_corr_dict = corr_extractor(corr_mat_cat_sorted, categorical_columns_sorted, 0.9)\n",
    "print(\"The number of redundant categorical features is \", len(cat_corr_to_drop))\n",
    "print(\"The number of remaining categorical features is \", len(categorical_columns_sorted)-len(cat_corr_to_drop))\n",
    "print(cat_corr_to_drop)"
   ]
  },
  {
   "cell_type": "code",
   "execution_count": 57,
   "metadata": {},
   "outputs": [],
   "source": [
    "df_p09_cv09_sorted = df_p09.drop(columns=cat_corr_to_drop, axis=1)\n",
    "df_p09_cv09_sorted.to_csv('../../data/processed/df_p09_cv09_sorted.csv')\n",
    "df_p09_sorted_cv09_sorted = df_p09_sorted.drop(columns=cat_corr_to_drop, axis=1)\n",
    "df_p09_sorted_cv09_sorted.to_csv('../../data/processed/df_p09_sorted_cv09_sorted.csv')"
   ]
  },
  {
   "cell_type": "markdown",
   "metadata": {},
   "source": [
    "### AUROC and AP went down a little, try a threshold of 0.95 on sorted categorical columns."
   ]
  },
  {
   "cell_type": "code",
   "execution_count": 58,
   "metadata": {},
   "outputs": [
    {
     "name": "stdout",
     "output_type": "stream",
     "text": [
      "The number of redundant categorical features is  85\n",
      "The number of remaining categorical features is  158\n",
      "['percutan', 'oper', 'room', 'extens', 'mechan', 'bypass', 'cardiovascular', 'stent', 'term', 'long', 'cardiovasc', 'extracrani', 'larg', 'small', 'drugelut', 'shunt', 'duoden', 'stomach', 'endovascular', 'resp', 'includ', 'perc', 'comorbid', 'treatment', 'neonat', 'arrhythmia', 'conduct', 'circ', 'support', 'nervous', 'cath', 'catheter', 'cathet', 'card', 'valv', 'oth', 'pacemak', 'defibril', 'anomali', 'unrel', 'mcv', 'face', 'tracheostomi', 'ecmo', 'trach', 'edema', 'shock', 'myocardi', 'cerebr', 'precerebr', 'cva', 'aliv', 'discharg', 'occulus', 'sepsi', 'sever', 'signific', 'head', 'dissemin', 'unspecifi', 'chronic', 'infecti', 'parasit', 'condit', 'malfunct', 'arteri', 'kidney', 'urinari', 'biliari', 'symptom', 'connect', 'medicin', 'embol', 'stupor', 'hr', 'cirrhosi', 'poison', 'toxic', 'peptic', 'gastriti', 'fusion', 'depend', 'hepatobiliari', 'pleurisi', 'simpl']\n"
     ]
    }
   ],
   "source": [
    "#determine the categorical features that have a Cramer's V coeffient above 0.95\n",
    "cat_corr_to_drop, cat_corr_dict = corr_extractor(corr_mat_cat_sorted, categorical_columns_sorted, 0.95)\n",
    "print(\"The number of redundant categorical features is \", len(cat_corr_to_drop))\n",
    "print(\"The number of remaining categorical features is \", len(categorical_columns_sorted)-len(cat_corr_to_drop))\n",
    "print(cat_corr_to_drop)"
   ]
  },
  {
   "cell_type": "code",
   "execution_count": 59,
   "metadata": {},
   "outputs": [],
   "source": [
    "df_p09_cv095_sorted = df_p09.drop(columns=cat_corr_to_drop, axis=1)\n",
    "df_p09_cv095_sorted.to_csv('../../data/processed/df_p09_cv095_sorted.csv')"
   ]
  },
  {
   "cell_type": "code",
   "execution_count": null,
   "metadata": {},
   "outputs": [],
   "source": []
  }
 ],
 "metadata": {
  "kernelspec": {
   "display_name": "MIMIC-III-readmission-prediction",
   "language": "python",
   "name": "mimic-iii-readmission-prediction"
  },
  "language_info": {
   "codemirror_mode": {
    "name": "ipython",
    "version": 3
   },
   "file_extension": ".py",
   "mimetype": "text/x-python",
   "name": "python",
   "nbconvert_exporter": "python",
   "pygments_lexer": "ipython3",
   "version": "3.7.3"
  }
 },
 "nbformat": 4,
 "nbformat_minor": 4
}
