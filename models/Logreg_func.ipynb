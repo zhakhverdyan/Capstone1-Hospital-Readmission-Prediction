{
 "cells": [
  {
   "cell_type": "code",
   "execution_count": 1,
   "metadata": {},
   "outputs": [],
   "source": [
    "import pandas as pd\n",
    "import numpy as np"
   ]
  },
  {
   "cell_type": "code",
   "execution_count": 9,
   "metadata": {},
   "outputs": [],
   "source": [
    "# Set a seed for reproducibility\n",
    "SEED = 222\n",
    "np.random.seed(SEED)\n",
    "\n",
    "# split the data into train and test sets\n",
    "from sklearn.model_selection import train_test_split\n",
    "from sklearn.preprocessing import MinMaxScaler\n",
    "import time\n",
    "from sklearn.model_selection import train_test_split\n",
    "from sklearn.linear_model import LogisticRegression\n",
    "from sklearn.metrics import confusion_matrix\n",
    "from sklearn.metrics import plot_confusion_matrix\n",
    "from sklearn.metrics import classification_report\n",
    "from sklearn.metrics import roc_auc_score"
   ]
  },
  {
   "cell_type": "code",
   "execution_count": 14,
   "metadata": {},
   "outputs": [],
   "source": [
    "def logreg_fit(csv_file):\n",
    "    df = pd.read_csv('../data/processed/{}'.format(csv_file))\n",
    "    df.drop('Unnamed: 0', axis=1, inplace=True)\n",
    "    # check if there are empty values\n",
    "    assert df.isna().sum().sum()==0, 'There are missing values'\n",
    "    y = df.OUTPUT_LABEL.values\n",
    "    X = df.drop(['OUTPUT_LABEL'], axis=1).values\n",
    "    Xtrain, Xtest, ytrain, ytest = train_test_split(X, y, test_size=0.2, shuffle=True, random_state=SEED)\n",
    "    scaler = MinMaxScaler()\n",
    "    Xtrain_scaled = scaler.fit_transform(Xtrain)\n",
    "    Xtest_scaled = scaler.transform(Xtest)\n",
    "    start_time = time.monotonic()\n",
    "    clf = LogisticRegression(C=100, solver='liblinear', random_state=SEED, class_weight='balanced', max_iter=200)\n",
    "    clf.fit(Xtrain_scaled,ytrain)\n",
    "    ypred = clf.predict(Xtest_scaled)\n",
    "    roc_auc = roc_auc_score(ytest, ypred)\n",
    "    print(\"File name:{}\".format(csv_file))\n",
    "    print(\"Confusion matrix\")\n",
    "    print(confusion_matrix(ytest, ypred))\n",
    "    print(\"Classification report\")\n",
    "    print(classification_report(ytest, ypred))\n",
    "    print(\"AUROC {}\".format(roc_auc))\n",
    "    print(\"Time elapsed {}s\".format(time.monotonic()-start_time))\n",
    "    start_time = time.monotonic()"
   ]
  },
  {
   "cell_type": "code",
   "execution_count": 15,
   "metadata": {},
   "outputs": [
    {
     "name": "stdout",
     "output_type": "stream",
     "text": [
      "File name:hosp_exp_incl_proc_excl_noselect.csv\n",
      "Confusion matrix\n",
      "[[4817 2292]\n",
      " [ 154  380]]\n",
      "Classification report\n",
      "              precision    recall  f1-score   support\n",
      "\n",
      "         0.0       0.97      0.68      0.80      7109\n",
      "         1.0       0.14      0.71      0.24       534\n",
      "\n",
      "    accuracy                           0.68      7643\n",
      "   macro avg       0.56      0.69      0.52      7643\n",
      "weighted avg       0.91      0.68      0.76      7643\n",
      "\n",
      "AUROC 0.6946011359762879\n",
      "Time elapsed 10.472655594000116s\n"
     ]
    }
   ],
   "source": [
    "logreg_fit('hosp_exp_incl_proc_excl_noselect.csv')"
   ]
  },
  {
   "cell_type": "code",
   "execution_count": 17,
   "metadata": {},
   "outputs": [
    {
     "name": "stdout",
     "output_type": "stream",
     "text": [
      "File name:hosp_exp_excl_proc_excl_noselect.csv\n",
      "Confusion matrix\n",
      "[[4251 1859]\n",
      " [ 202  336]]\n",
      "Classification report\n",
      "              precision    recall  f1-score   support\n",
      "\n",
      "         0.0       0.95      0.70      0.80      6110\n",
      "         1.0       0.15      0.62      0.25       538\n",
      "\n",
      "    accuracy                           0.69      6648\n",
      "   macro avg       0.55      0.66      0.53      6648\n",
      "weighted avg       0.89      0.69      0.76      6648\n",
      "\n",
      "AUROC 0.660139998418097\n",
      "Time elapsed 11.02093409400004s\n"
     ]
    }
   ],
   "source": [
    "logreg_fit('hosp_exp_excl_proc_excl_noselect.csv')"
   ]
  },
  {
   "cell_type": "code",
   "execution_count": null,
   "metadata": {},
   "outputs": [],
   "source": []
  }
 ],
 "metadata": {
  "kernelspec": {
   "display_name": "MIMIC-III-readmission-prediction",
   "language": "python",
   "name": "mimic-iii-readmission-prediction"
  },
  "language_info": {
   "codemirror_mode": {
    "name": "ipython",
    "version": 3
   },
   "file_extension": ".py",
   "mimetype": "text/x-python",
   "name": "python",
   "nbconvert_exporter": "python",
   "pygments_lexer": "ipython3",
   "version": "3.7.3"
  }
 },
 "nbformat": 4,
 "nbformat_minor": 4
}
