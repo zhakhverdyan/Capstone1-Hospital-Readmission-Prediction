{
 "cells": [
  {
   "cell_type": "code",
   "execution_count": 62,
   "metadata": {},
   "outputs": [
    {
     "data": {
      "text/plain": [
       "(37571, 408)"
      ]
     },
     "execution_count": 62,
     "metadata": {},
     "output_type": "execute_result"
    }
   ],
   "source": [
    "import pandas as pd\n",
    "import numpy as np\n",
    "df = pd.read_csv('../data/processed/no_feature_select.csv')\n",
    "df.values.shape"
   ]
  },
  {
   "cell_type": "code",
   "execution_count": 63,
   "metadata": {},
   "outputs": [
    {
     "data": {
      "text/plain": [
       "['Unnamed: 0',\n",
       " 'OUTPUT_LABEL',\n",
       " '1Y_PRIOR_ADM',\n",
       " 'LENGTH_OF_STAY_DAYS',\n",
       " 'AGE',\n",
       " 'CURR_SERVICE_CMED',\n",
       " 'CURR_SERVICE_CSURG',\n",
       " 'CURR_SERVICE_MED',\n",
       " 'CURR_SERVICE_NMED',\n",
       " 'CURR_SERVICE_NSURG',\n",
       " 'CURR_SERVICE_OMED',\n",
       " 'CURR_SERVICE_ORTHO',\n",
       " 'CURR_SERVICE_SURG',\n",
       " 'CURR_SERVICE_TRAUM',\n",
       " 'CURR_SERVICE_TSURG',\n",
       " 'CURR_SERVICE_VSURG',\n",
       " 'SECTIONHEADER_Anesthesia',\n",
       " 'SECTIONHEADER_Evaluation and management',\n",
       " 'SECTIONHEADER_Medicine',\n",
       " 'SECTIONHEADER_Pathology and laboratory']"
      ]
     },
     "execution_count": 63,
     "metadata": {},
     "output_type": "execute_result"
    }
   ],
   "source": [
    "df.columns.tolist()[:20]"
   ]
  },
  {
   "cell_type": "code",
   "execution_count": 64,
   "metadata": {},
   "outputs": [
    {
     "data": {
      "text/plain": [
       "0"
      ]
     },
     "execution_count": 64,
     "metadata": {},
     "output_type": "execute_result"
    }
   ],
   "source": [
    "df.drop('Unnamed: 0', axis=1, inplace=True)\n",
    "# check if there are empty values\n",
    "df.isna().sum().sum()"
   ]
  },
  {
   "cell_type": "code",
   "execution_count": 65,
   "metadata": {},
   "outputs": [
    {
     "name": "stdout",
     "output_type": "stream",
     "text": [
      "(37571,)\n",
      "(37571, 406)\n"
     ]
    }
   ],
   "source": [
    "y = df.OUTPUT_LABEL.values\n",
    "X = df.drop(['OUTPUT_LABEL'], axis=1).values\n",
    "print(y.shape)\n",
    "print(X.shape)"
   ]
  },
  {
   "cell_type": "code",
   "execution_count": 66,
   "metadata": {},
   "outputs": [],
   "source": [
    "# Set a seed for reproducibility\n",
    "SEED = 222\n",
    "np.random.seed(SEED)\n",
    "\n",
    "# split the data into train and test sets\n",
    "from sklearn.model_selection import train_test_split\n",
    "Xtrain, Xtest, ytrain, ytest = train_test_split(X, y, test_size=0.2, shuffle=True, random_state=SEED)\n",
    "\n",
    "# scaling is necessary for some algorithms, such as SVM and neural nets, scale the data to min-max 0-1\n",
    "from sklearn.preprocessing import MinMaxScaler\n",
    "scaler = MinMaxScaler()\n",
    "Xtrain_scaled = scaler.fit_transform(Xtrain)\n",
    "Xtest_scaled = scaler.transform(Xtest)"
   ]
  },
  {
   "cell_type": "code",
   "execution_count": 67,
   "metadata": {},
   "outputs": [
    {
     "name": "stdout",
     "output_type": "stream",
     "text": [
      "[[4837 2218]\n",
      " [ 170  290]]\n",
      "              precision    recall  f1-score   support\n",
      "\n",
      "         0.0       0.97      0.69      0.80      7055\n",
      "         1.0       0.12      0.63      0.20       460\n",
      "\n",
      "    accuracy                           0.68      7515\n",
      "   macro avg       0.54      0.66      0.50      7515\n",
      "weighted avg       0.91      0.68      0.76      7515\n",
      "\n",
      "18.548394928999187\n"
     ]
    }
   ],
   "source": [
    "import time\n",
    "from sklearn.model_selection import train_test_split\n",
    "from sklearn.linear_model import LogisticRegression\n",
    "from sklearn.metrics import confusion_matrix\n",
    "from sklearn.metrics import plot_confusion_matrix\n",
    "from sklearn.metrics import classification_report\n",
    "\n",
    "start_time = time.monotonic()\n",
    "clf = LogisticRegression(C=100, solver='liblinear', random_state=SEED, class_weight='balanced', max_iter=200)\n",
    "clf.fit(Xtrain_scaled,ytrain)\n",
    "ypred = clf.predict(Xtest_scaled)\n",
    "print(confusion_matrix(ytest, ypred))\n",
    "print(classification_report(ytest, ypred))\n",
    "print(time.monotonic()-start_time)\n",
    "start_time = time.monotonic()"
   ]
  },
  {
   "cell_type": "markdown",
   "metadata": {},
   "source": [
    "Using all features without selection produces poor results"
   ]
  },
  {
   "cell_type": "code",
   "execution_count": 68,
   "metadata": {},
   "outputs": [
    {
     "data": {
      "text/plain": [
       "(37571, 363)"
      ]
     },
     "execution_count": 68,
     "metadata": {},
     "output_type": "execute_result"
    }
   ],
   "source": [
    "# Let's see if droping correlated numerical features helps\n",
    "df = pd.read_csv('../data/processed/cor_num_droped.csv')\n",
    "df.values.shape"
   ]
  },
  {
   "cell_type": "code",
   "execution_count": 69,
   "metadata": {},
   "outputs": [
    {
     "data": {
      "text/plain": [
       "['Unnamed: 0',\n",
       " 'OUTPUT_LABEL',\n",
       " '1Y_PRIOR_ADM',\n",
       " 'LENGTH_OF_STAY_DAYS',\n",
       " 'AGE',\n",
       " 'CURR_SERVICE_CMED',\n",
       " 'CURR_SERVICE_CSURG',\n",
       " 'CURR_SERVICE_MED',\n",
       " 'CURR_SERVICE_NMED',\n",
       " 'CURR_SERVICE_NSURG',\n",
       " 'CURR_SERVICE_OMED',\n",
       " 'CURR_SERVICE_ORTHO',\n",
       " 'CURR_SERVICE_SURG',\n",
       " 'CURR_SERVICE_TRAUM',\n",
       " 'CURR_SERVICE_TSURG',\n",
       " 'CURR_SERVICE_VSURG',\n",
       " 'SECTIONHEADER_Anesthesia',\n",
       " 'SECTIONHEADER_Evaluation and management',\n",
       " 'SECTIONHEADER_Medicine',\n",
       " 'SECTIONHEADER_Pathology and laboratory']"
      ]
     },
     "execution_count": 69,
     "metadata": {},
     "output_type": "execute_result"
    }
   ],
   "source": [
    "df.columns.tolist()[:20]"
   ]
  },
  {
   "cell_type": "code",
   "execution_count": 70,
   "metadata": {},
   "outputs": [
    {
     "name": "stdout",
     "output_type": "stream",
     "text": [
      "(37571,)\n",
      "(37571, 361)\n"
     ]
    }
   ],
   "source": [
    "df.drop('Unnamed: 0', axis=1, inplace=True)\n",
    "y = df.OUTPUT_LABEL.values\n",
    "X = df.drop(['OUTPUT_LABEL'], axis=1).values\n",
    "print(y.shape)\n",
    "print(X.shape)"
   ]
  },
  {
   "cell_type": "code",
   "execution_count": 71,
   "metadata": {},
   "outputs": [],
   "source": [
    "Xtrain, Xtest, ytrain, ytest = train_test_split(X, y, test_size=0.2, shuffle=True, random_state=SEED)\n",
    "Xtrain_scaled = scaler.fit_transform(Xtrain)\n",
    "Xtest_scaled = scaler.transform(Xtest)"
   ]
  },
  {
   "cell_type": "code",
   "execution_count": 72,
   "metadata": {},
   "outputs": [
    {
     "name": "stdout",
     "output_type": "stream",
     "text": [
      "[[4786 2269]\n",
      " [ 174  286]]\n",
      "              precision    recall  f1-score   support\n",
      "\n",
      "         0.0       0.96      0.68      0.80      7055\n",
      "         1.0       0.11      0.62      0.19       460\n",
      "\n",
      "    accuracy                           0.67      7515\n",
      "   macro avg       0.54      0.65      0.49      7515\n",
      "weighted avg       0.91      0.67      0.76      7515\n",
      "\n",
      "10.931846082999982\n"
     ]
    }
   ],
   "source": [
    "start_time = time.monotonic()\n",
    "clf = LogisticRegression(C=100, solver='liblinear', random_state=SEED, class_weight='balanced', max_iter=200)\n",
    "clf.fit(Xtrain_scaled,ytrain)\n",
    "ypred = clf.predict(Xtest_scaled)\n",
    "print(confusion_matrix(ytest, ypred))\n",
    "print(classification_report(ytest, ypred))\n",
    "print(time.monotonic()-start_time)\n",
    "start_time = time.monotonic()"
   ]
  },
  {
   "cell_type": "code",
   "execution_count": 73,
   "metadata": {},
   "outputs": [
    {
     "data": {
      "text/plain": [
       "(37571, 200)"
      ]
     },
     "execution_count": 73,
     "metadata": {},
     "output_type": "execute_result"
    }
   ],
   "source": [
    "# doesn't help, put the numerical features back and remove categorical features (Theil's U < 0.05 dropped)\n",
    "df = pd.read_csv('../data/processed/cat_005_TU_dropped.csv')\n",
    "df.values.shape"
   ]
  },
  {
   "cell_type": "code",
   "execution_count": 74,
   "metadata": {},
   "outputs": [
    {
     "name": "stdout",
     "output_type": "stream",
     "text": [
      "(37571,)\n",
      "(37571, 198)\n"
     ]
    }
   ],
   "source": [
    "df.drop('Unnamed: 0', axis=1, inplace=True)\n",
    "y = df.OUTPUT_LABEL.values\n",
    "X = df.drop(['OUTPUT_LABEL'], axis=1).values\n",
    "print(y.shape)\n",
    "print(X.shape)"
   ]
  },
  {
   "cell_type": "code",
   "execution_count": 75,
   "metadata": {},
   "outputs": [],
   "source": [
    "Xtrain, Xtest, ytrain, ytest = train_test_split(X, y, test_size=0.2, shuffle=True, random_state=SEED)\n",
    "Xtrain_scaled = scaler.fit_transform(Xtrain)\n",
    "Xtest_scaled = scaler.transform(Xtest)"
   ]
  },
  {
   "cell_type": "code",
   "execution_count": 76,
   "metadata": {},
   "outputs": [
    {
     "name": "stdout",
     "output_type": "stream",
     "text": [
      "[[4874 2181]\n",
      " [ 176  284]]\n",
      "              precision    recall  f1-score   support\n",
      "\n",
      "         0.0       0.97      0.69      0.81      7055\n",
      "         1.0       0.12      0.62      0.19       460\n",
      "\n",
      "    accuracy                           0.69      7515\n",
      "   macro avg       0.54      0.65      0.50      7515\n",
      "weighted avg       0.91      0.69      0.77      7515\n",
      "\n",
      "12.385617429999911\n"
     ]
    }
   ],
   "source": [
    "start_time = time.monotonic()\n",
    "clf = LogisticRegression(C=100, solver='liblinear', random_state=SEED, class_weight='balanced', max_iter=200)\n",
    "clf.fit(Xtrain_scaled,ytrain)\n",
    "ypred = clf.predict(Xtest_scaled)\n",
    "print(confusion_matrix(ytest, ypred))\n",
    "print(classification_report(ytest, ypred))\n",
    "print(time.monotonic()-start_time)\n",
    "start_time = time.monotonic()"
   ]
  },
  {
   "cell_type": "code",
   "execution_count": 77,
   "metadata": {},
   "outputs": [
    {
     "data": {
      "text/plain": [
       "(37571, 246)"
      ]
     },
     "execution_count": 77,
     "metadata": {},
     "output_type": "execute_result"
    }
   ],
   "source": [
    "# Precision and recall increased a little, let's see if removing less categorical features helps\n",
    "df = pd.read_csv('../data/processed/cat_0025_TU_dropped.csv')\n",
    "df.values.shape"
   ]
  },
  {
   "cell_type": "code",
   "execution_count": 78,
   "metadata": {},
   "outputs": [
    {
     "name": "stdout",
     "output_type": "stream",
     "text": [
      "(37571,)\n",
      "(37571, 244)\n"
     ]
    }
   ],
   "source": [
    "df.drop('Unnamed: 0', axis=1, inplace=True)\n",
    "y = df.OUTPUT_LABEL.values\n",
    "X = df.drop(['OUTPUT_LABEL'], axis=1).values\n",
    "print(y.shape)\n",
    "print(X.shape)"
   ]
  },
  {
   "cell_type": "code",
   "execution_count": 79,
   "metadata": {},
   "outputs": [],
   "source": [
    "Xtrain, Xtest, ytrain, ytest = train_test_split(X, y, test_size=0.2, shuffle=True, random_state=SEED)\n",
    "Xtrain_scaled = scaler.fit_transform(Xtrain)\n",
    "Xtest_scaled = scaler.transform(Xtest)"
   ]
  },
  {
   "cell_type": "code",
   "execution_count": 80,
   "metadata": {},
   "outputs": [
    {
     "name": "stdout",
     "output_type": "stream",
     "text": [
      "[[4826 2229]\n",
      " [ 177  283]]\n",
      "              precision    recall  f1-score   support\n",
      "\n",
      "         0.0       0.96      0.68      0.80      7055\n",
      "         1.0       0.11      0.62      0.19       460\n",
      "\n",
      "    accuracy                           0.68      7515\n",
      "   macro avg       0.54      0.65      0.50      7515\n",
      "weighted avg       0.91      0.68      0.76      7515\n",
      "\n",
      "13.111595369000497\n"
     ]
    }
   ],
   "source": [
    "start_time = time.monotonic()\n",
    "clf = LogisticRegression(C=100, solver='liblinear', random_state=SEED, class_weight='balanced', max_iter=200)\n",
    "clf.fit(Xtrain_scaled,ytrain)\n",
    "ypred = clf.predict(Xtest_scaled)\n",
    "print(confusion_matrix(ytest, ypred))\n",
    "print(classification_report(ytest, ypred))\n",
    "print(time.monotonic()-start_time)\n",
    "start_time = time.monotonic()"
   ]
  },
  {
   "cell_type": "code",
   "execution_count": 81,
   "metadata": {},
   "outputs": [
    {
     "data": {
      "text/plain": [
       "(37571, 155)"
      ]
     },
     "execution_count": 81,
     "metadata": {},
     "output_type": "execute_result"
    }
   ],
   "source": [
    "# it dpes not help, let's try removing cat featured<0.05 TU and num features <0.8\n",
    "df = pd.read_csv('../data/processed/cat_005_TU_num08_dropped.csv')\n",
    "df.values.shape"
   ]
  },
  {
   "cell_type": "code",
   "execution_count": 82,
   "metadata": {},
   "outputs": [
    {
     "name": "stdout",
     "output_type": "stream",
     "text": [
      "(37571,)\n",
      "(37571, 153)\n"
     ]
    }
   ],
   "source": [
    "df.drop('Unnamed: 0', axis=1, inplace=True)\n",
    "y = df.OUTPUT_LABEL.values\n",
    "X = df.drop(['OUTPUT_LABEL'], axis=1).values\n",
    "print(y.shape)\n",
    "print(X.shape)"
   ]
  },
  {
   "cell_type": "code",
   "execution_count": 83,
   "metadata": {},
   "outputs": [],
   "source": [
    "Xtrain, Xtest, ytrain, ytest = train_test_split(X, y, test_size=0.2, shuffle=True, random_state=SEED)\n",
    "Xtrain_scaled = scaler.fit_transform(Xtrain)\n",
    "Xtest_scaled = scaler.transform(Xtest)"
   ]
  },
  {
   "cell_type": "code",
   "execution_count": 85,
   "metadata": {},
   "outputs": [
    {
     "name": "stdout",
     "output_type": "stream",
     "text": [
      "[[4803 2252]\n",
      " [ 178  282]]\n",
      "              precision    recall  f1-score   support\n",
      "\n",
      "         0.0       0.96      0.68      0.80      7055\n",
      "         1.0       0.11      0.61      0.19       460\n",
      "\n",
      "    accuracy                           0.68      7515\n",
      "   macro avg       0.54      0.65      0.49      7515\n",
      "weighted avg       0.91      0.68      0.76      7515\n",
      "\n",
      "6.036808848999499\n"
     ]
    }
   ],
   "source": [
    "start_time = time.monotonic()\n",
    "clf = LogisticRegression(C=100, solver='liblinear', random_state=SEED, class_weight='balanced', max_iter=200)\n",
    "clf.fit(Xtrain_scaled,ytrain)\n",
    "ypred = clf.predict(Xtest_scaled)\n",
    "print(confusion_matrix(ytest, ypred))\n",
    "print(classification_report(ytest, ypred))\n",
    "print(time.monotonic()-start_time)\n",
    "start_time = time.monotonic()"
   ]
  },
  {
   "cell_type": "code",
   "execution_count": 86,
   "metadata": {},
   "outputs": [
    {
     "data": {
      "text/plain": [
       "(37571, 154)"
      ]
     },
     "execution_count": 86,
     "metadata": {},
     "output_type": "execute_result"
    }
   ],
   "source": [
    "# let's see if removing more categorical features helps\n",
    "df = pd.read_csv('../data/processed/cat_01_TU_dropped.csv')\n",
    "df.values.shape"
   ]
  },
  {
   "cell_type": "code",
   "execution_count": 87,
   "metadata": {},
   "outputs": [
    {
     "name": "stdout",
     "output_type": "stream",
     "text": [
      "(37571,)\n",
      "(37571, 152)\n"
     ]
    }
   ],
   "source": [
    "df.drop('Unnamed: 0', axis=1, inplace=True)\n",
    "y = df.OUTPUT_LABEL.values\n",
    "X = df.drop(['OUTPUT_LABEL'], axis=1).values\n",
    "print(y.shape)\n",
    "print(X.shape)"
   ]
  },
  {
   "cell_type": "code",
   "execution_count": 88,
   "metadata": {},
   "outputs": [],
   "source": [
    "Xtrain, Xtest, ytrain, ytest = train_test_split(X, y, test_size=0.2, shuffle=True, random_state=SEED)\n",
    "Xtrain_scaled = scaler.fit_transform(Xtrain)\n",
    "Xtest_scaled = scaler.transform(Xtest)"
   ]
  },
  {
   "cell_type": "code",
   "execution_count": 89,
   "metadata": {},
   "outputs": [
    {
     "name": "stdout",
     "output_type": "stream",
     "text": [
      "[[4949 2106]\n",
      " [ 181  279]]\n",
      "              precision    recall  f1-score   support\n",
      "\n",
      "         0.0       0.96      0.70      0.81      7055\n",
      "         1.0       0.12      0.61      0.20       460\n",
      "\n",
      "    accuracy                           0.70      7515\n",
      "   macro avg       0.54      0.65      0.50      7515\n",
      "weighted avg       0.91      0.70      0.77      7515\n",
      "\n",
      "8.917227051999362\n"
     ]
    }
   ],
   "source": [
    "start_time = time.monotonic()\n",
    "clf = LogisticRegression(C=100, solver='liblinear', random_state=SEED, class_weight='balanced', max_iter=200)\n",
    "clf.fit(Xtrain_scaled,ytrain)\n",
    "ypred = clf.predict(Xtest_scaled)\n",
    "print(confusion_matrix(ytest, ypred))\n",
    "print(classification_report(ytest, ypred))\n",
    "print(time.monotonic()-start_time)\n",
    "start_time = time.monotonic()"
   ]
  },
  {
   "cell_type": "code",
   "execution_count": 90,
   "metadata": {},
   "outputs": [
    {
     "data": {
      "text/plain": [
       "(37571, 121)"
      ]
     },
     "execution_count": 90,
     "metadata": {},
     "output_type": "execute_result"
    }
   ],
   "source": [
    "# precision went up a little, let's remove uninformative numerical features as well\n",
    "df = pd.read_csv('../data/processed/cat_01TU_num_01cor.csv')\n",
    "df.values.shape"
   ]
  },
  {
   "cell_type": "code",
   "execution_count": 91,
   "metadata": {},
   "outputs": [
    {
     "name": "stdout",
     "output_type": "stream",
     "text": [
      "(37571,)\n",
      "(37571, 119)\n"
     ]
    }
   ],
   "source": [
    "df.drop('Unnamed: 0', axis=1, inplace=True)\n",
    "y = df.OUTPUT_LABEL.values\n",
    "X = df.drop(['OUTPUT_LABEL'], axis=1).values\n",
    "print(y.shape)\n",
    "print(X.shape)"
   ]
  },
  {
   "cell_type": "code",
   "execution_count": 92,
   "metadata": {},
   "outputs": [],
   "source": [
    "Xtrain, Xtest, ytrain, ytest = train_test_split(X, y, test_size=0.2, shuffle=True, random_state=SEED)\n",
    "Xtrain_scaled = scaler.fit_transform(Xtrain)\n",
    "Xtest_scaled = scaler.transform(Xtest)"
   ]
  },
  {
   "cell_type": "code",
   "execution_count": 93,
   "metadata": {},
   "outputs": [
    {
     "name": "stdout",
     "output_type": "stream",
     "text": [
      "[[4960 2095]\n",
      " [ 182  278]]\n",
      "              precision    recall  f1-score   support\n",
      "\n",
      "         0.0       0.96      0.70      0.81      7055\n",
      "         1.0       0.12      0.60      0.20       460\n",
      "\n",
      "    accuracy                           0.70      7515\n",
      "   macro avg       0.54      0.65      0.50      7515\n",
      "weighted avg       0.91      0.70      0.78      7515\n",
      "\n",
      "7.210472441000093\n"
     ]
    }
   ],
   "source": [
    "start_time = time.monotonic()\n",
    "clf = LogisticRegression(C=100, solver='liblinear', random_state=SEED, class_weight='balanced', max_iter=200)\n",
    "clf.fit(Xtrain_scaled,ytrain)\n",
    "ypred = clf.predict(Xtest_scaled)\n",
    "print(confusion_matrix(ytest, ypred))\n",
    "print(classification_report(ytest, ypred))\n",
    "print(time.monotonic()-start_time)\n",
    "start_time = time.monotonic()"
   ]
  },
  {
   "cell_type": "code",
   "execution_count": 94,
   "metadata": {},
   "outputs": [
    {
     "data": {
      "text/plain": [
       "(37571, 50)"
      ]
     },
     "execution_count": 94,
     "metadata": {},
     "output_type": "execute_result"
    }
   ],
   "source": [
    "# let's see how top numerical features corr_ratio>0.06 and cat features theils u > 0.015 perform\n",
    "df = pd.read_csv('../data/processed/topcat_015_topnum_006.csv')\n",
    "df.values.shape"
   ]
  },
  {
   "cell_type": "code",
   "execution_count": 95,
   "metadata": {},
   "outputs": [
    {
     "name": "stdout",
     "output_type": "stream",
     "text": [
      "(37571,)\n",
      "(37571, 48)\n"
     ]
    }
   ],
   "source": [
    "df.drop('Unnamed: 0', axis=1, inplace=True)\n",
    "y = df.OUTPUT_LABEL.values\n",
    "X = df.drop(['OUTPUT_LABEL'], axis=1).values\n",
    "print(y.shape)\n",
    "print(X.shape)"
   ]
  },
  {
   "cell_type": "code",
   "execution_count": 101,
   "metadata": {},
   "outputs": [],
   "source": [
    "Xtrain, Xtest, ytrain, ytest = train_test_split(X, y, test_size=0.2, shuffle=True, random_state=42)\n",
    "Xtrain_scaled = scaler.fit_transform(Xtrain)\n",
    "Xtest_scaled = scaler.transform(Xtest)"
   ]
  },
  {
   "cell_type": "code",
   "execution_count": 102,
   "metadata": {},
   "outputs": [
    {
     "name": "stdout",
     "output_type": "stream",
     "text": [
      "[[ 599 6450]\n",
      " [  30  436]]\n",
      "              precision    recall  f1-score   support\n",
      "\n",
      "         0.0       0.95      0.08      0.16      7049\n",
      "         1.0       0.06      0.94      0.12       466\n",
      "\n",
      "    accuracy                           0.14      7515\n",
      "   macro avg       0.51      0.51      0.14      7515\n",
      "weighted avg       0.90      0.14      0.15      7515\n",
      "\n",
      "1.7548951799981296\n"
     ]
    }
   ],
   "source": [
    "start_time = time.monotonic()\n",
    "clf = LogisticRegression(C=100, solver='liblinear', random_state=SEED, class_weight='balanced', max_iter=200)\n",
    "clf.fit(Xtrain_scaled,ytrain)\n",
    "ypred = clf.predict(Xtest)\n",
    "print(confusion_matrix(ytest, ypred))\n",
    "print(classification_report(ytest, ypred))\n",
    "print(time.monotonic()-start_time)\n",
    "start_time = time.monotonic()"
   ]
  },
  {
   "cell_type": "code",
   "execution_count": 100,
   "metadata": {},
   "outputs": [
    {
     "data": {
      "image/png": "[encoded data removed]",
      "text/plain": [
       "<Figure size 432x288 with 1 Axes>"
      ]
     },
     "metadata": {
      "needs_background": "light"
     },
     "output_type": "display_data"
    }
   ],
   "source": [
    "from sklearn.metrics import roc_curve, auc, roc_auc_score\n",
    "import matplotlib.pyplot as plt\n",
    "fpr1, tpr1, thresholds1 = roc_curve(ytest, clf.predict_proba(Xtest_scaled)[:,1])\n",
    "logit_roc_auc = roc_auc_score(ytest, clf.predict(Xtest_scaled))\n",
    "plt.figure()\n",
    "#plt.plot(fpr0, tpr0, label='Logistic Regression for label 0 (area = %0.2f)' % logit_roc_auc)\n",
    "plt.plot(fpr1, tpr1, label='Logistic Regression for label 1 (area = %0.2f)' % logit_roc_auc)\n",
    "plt.plot([0, 1], [0, 1],'r--')\n",
    "plt.xlim([0.0, 1.0])\n",
    "plt.ylim([0.0, 1.05])\n",
    "plt.xlabel('False Positive Rate')\n",
    "plt.ylabel('True Positive Rate')\n",
    "plt.title('Receiver operating characteristic')\n",
    "plt.legend(loc=\"lower right\")\n",
    "#plt.savefig('Log_ROC')\n",
    "plt.show()"
   ]
  },
  {
   "cell_type": "code",
   "execution_count": null,
   "metadata": {},
   "outputs": [],
   "source": []
  }
 ],
 "metadata": {
  "kernelspec": {
   "display_name": "MIMIC-III-readmission-prediction",
   "language": "python",
   "name": "mimic-iii-readmission-prediction"
  },
  "language_info": {
   "codemirror_mode": {
    "name": "ipython",
    "version": 3
   },
   "file_extension": ".py",
   "mimetype": "text/x-python",
   "name": "python",
   "nbconvert_exporter": "python",
   "pygments_lexer": "ipython3",
   "version": "3.7.3"
  }
 },
 "nbformat": 4,
 "nbformat_minor": 4
}
