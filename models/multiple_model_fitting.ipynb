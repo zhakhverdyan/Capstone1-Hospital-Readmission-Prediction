{
 "cells": [
  {
   "cell_type": "code",
   "execution_count": 2,
   "metadata": {},
   "outputs": [],
   "source": [
    "import matplotlib.pyplot as plt\n",
    "%matplotlib inline\n",
    "import pandas as pd\n",
    "pd.options.mode.chained_assignment = None\n",
    "import numpy as np\n",
    "# load the wrangled table\n",
    "wrangled_data = pd.read_csv('../data/processed/for_machine_learning.csv')"
   ]
  },
  {
   "cell_type": "code",
   "execution_count": 4,
   "metadata": {},
   "outputs": [
    {
     "data": {
      "text/plain": [
       "OUTPUT_LABEL\n",
       "0.0    35280\n",
       "1.0     2291\n",
       "Name: OUTPUT_LABEL, dtype: int64"
      ]
     },
     "execution_count": 4,
     "metadata": {},
     "output_type": "execute_result"
    }
   ],
   "source": [
    "# final count of labels 0 and 1\n",
    "wrangled_data.groupby('OUTPUT_LABEL')['OUTPUT_LABEL'].count()"
   ]
  },
  {
   "cell_type": "code",
   "execution_count": 5,
   "metadata": {},
   "outputs": [
    {
     "data": {
      "text/plain": [
       "0"
      ]
     },
     "execution_count": 5,
     "metadata": {},
     "output_type": "execute_result"
    }
   ],
   "source": [
    "# check if there are empty values\n",
    "wrangled_data.isna().sum().sum()"
   ]
  },
  {
   "cell_type": "code",
   "execution_count": 6,
   "metadata": {},
   "outputs": [
    {
     "data": {
      "text/plain": [
       "Index(['Unnamed: 0', 'OUTPUT_LABEL', '1Y_PRIOR_ADM', 'LENGTH_OF_STAY_DAYS',\n",
       "       'CURR_SERVICE_MED', 'SECTIONHEADER_Evaluation and management',\n",
       "       'SECTIONHEADER_Medicine', 'SUBSECTIONHEADER_Critical care services',\n",
       "       'SUBSECTIONHEADER_Dialysis',\n",
       "       'SUBSECTIONHEADER_Hospital inpatient services',\n",
       "       'SUBSECTIONHEADER_Respiratory system',\n",
       "       'Count_Alanine Aminotransferase (ALT)', 'Count_Base Excess',\n",
       "       'Count_Basophils', 'Count_Creatine Kinase (CK)', 'Count_Lactate',\n",
       "       'Count_Specific Gravity', 'Mean_Alanine Aminotransferase (ALT)',\n",
       "       'Mean_Alkaline Phosphatase', 'Mean_Anion Gap', 'Mean_Base Excess',\n",
       "       'Mean_Bicarbonate', 'Mean_Bilirubin, Total', 'Mean_Chloride',\n",
       "       'Mean_Creatine Kinase (CK)', 'Mean_Creatinine', 'Mean_Eosinophils',\n",
       "       'Mean_Glucose', 'Mean_Hematocrit', 'Mean_INR(PT)', 'Mean_Lactate',\n",
       "       'Mean_Lymphocytes', 'Mean_MCH', 'Mean_MCHC', 'Mean_Magnesium',\n",
       "       'Mean_Monocytes', 'Mean_PTT', 'Mean_Phosphate', 'Mean_Potassium',\n",
       "       'Mean_RDW', 'Mean_Urea Nitrogen', 'Mean_pO2',\n",
       "       'Var_Alkaline Phosphatase', 'Var_Anion Gap', 'Var_Bicarbonate',\n",
       "       'Var_Calculated Total CO2', 'Var_Creatinine', 'Var_Eosinophils',\n",
       "       'Var_Glucose', 'Var_Hematocrit', 'Var_INR(PT)', 'Var_Monocytes',\n",
       "       'Var_Phosphate', 'Var_Potassium', 'Var_RDW', 'Var_Red Blood Cells',\n",
       "       'Var_Sodium', 'Var_Urea Nitrogen', 'Var_pCO2', 'Var_pO2',\n",
       "       'DRG_SEVERITY', 'DRG_MORTALITY', 'acut', 'age', 'bypass', 'ccmcc',\n",
       "       'circulatori', 'devic', 'diagnos', 'diagnosi', 'ecmo', 'except',\n",
       "       'multipl', 'DISCHARGE_LOCATION_DISC-TRAN TO FEDERAL HC',\n",
       "       'DISCHARGE_LOCATION_DISCH-TRAN TO PSYCH HOSP',\n",
       "       'DISCHARGE_LOCATION_HOME', 'DISCHARGE_LOCATION_HOME HEALTH CARE',\n",
       "       'DISCHARGE_LOCATION_HOME WITH HOME IV PROVIDR',\n",
       "       'DISCHARGE_LOCATION_HOSPICE-HOME',\n",
       "       'DISCHARGE_LOCATION_HOSPICE-MEDICAL FACILITY', 'DISCHARGE_LOCATION_ICF',\n",
       "       'DISCHARGE_LOCATION_LEFT AGAINST MEDICAL ADVI',\n",
       "       'DISCHARGE_LOCATION_LONG TERM CARE HOSPITAL',\n",
       "       'DISCHARGE_LOCATION_OTHER FACILITY',\n",
       "       'DISCHARGE_LOCATION_REHAB/DISTINCT PART HOSP',\n",
       "       'DISCHARGE_LOCATION_SHORT TERM HOSPITAL', 'DISCHARGE_LOCATION_SNF',\n",
       "       'DISCHARGE_LOCATION_SNF-MEDICAID ONLY CERTIF', 'INSURANCE_Medicaid',\n",
       "       'INSURANCE_Medicare', 'INSURANCE_Private', 'INSURANCE_Self Pay',\n",
       "       'ETHNICITY_GROUPED_BLACK', 'ETHNICITY_GROUPED_HISPANIC',\n",
       "       'ETHNICITY_GROUPED_OTHER', 'ETHNICITY_GROUPED_WHITE'],\n",
       "      dtype='object')"
      ]
     },
     "execution_count": 6,
     "metadata": {},
     "output_type": "execute_result"
    }
   ],
   "source": [
    "# quick look at the columns\n",
    "wrangled_data.columns"
   ]
  },
  {
   "cell_type": "code",
   "execution_count": 7,
   "metadata": {},
   "outputs": [
    {
     "name": "stdout",
     "output_type": "stream",
     "text": [
      "(37571,)\n",
      "(37571, 94)\n"
     ]
    }
   ],
   "source": [
    "wrangled_data.drop('Unnamed: 0', axis=1, inplace=True)\n",
    "y = wrangled_data.OUTPUT_LABEL.values\n",
    "X = wrangled_data.drop(['OUTPUT_LABEL'], axis=1).values\n",
    "print(y.shape)\n",
    "print(X.shape)"
   ]
  },
  {
   "cell_type": "code",
   "execution_count": 8,
   "metadata": {},
   "outputs": [],
   "source": [
    "# Set a seed for reproducibility\n",
    "SEED = 222\n",
    "np.random.seed(SEED)\n",
    "\n",
    "# split the data into train and test sets\n",
    "from sklearn.model_selection import train_test_split\n",
    "Xtrain, Xtest, ytrain, ytest = train_test_split(X, y, test_size=0.2, shuffle=True, random_state=SEED)\n",
    "\n",
    "# scaling is necessary for some algorithms, such as SVM and neural nets, scale the data to min-max 0-1\n",
    "from sklearn.preprocessing import MinMaxScaler\n",
    "scaler = MinMaxScaler()\n",
    "Xtrain_scaled = scaler.fit_transform(Xtrain)\n",
    "Xtest_scaled = scaler.transform(Xtest)"
   ]
  },
  {
   "cell_type": "code",
   "execution_count": 13,
   "metadata": {},
   "outputs": [],
   "source": [
    "# import datetime\n",
    "from datetime import datetime\n",
    "\n",
    "# import a host of Scikit-learn models\n",
    "from sklearn.svm import SVC, LinearSVC\n",
    "from sklearn.naive_bayes import GaussianNB\n",
    "from sklearn.ensemble import RandomForestClassifier, GradientBoostingClassifier\n",
    "from sklearn.linear_model import LogisticRegression\n",
    "from sklearn.neighbors import KNeighborsClassifier\n",
    "from sklearn.neural_network import MLPClassifier\n",
    "\n",
    "# import ROC_AUC scoring, we will use area under the ROC curve for comparison\n",
    "from sklearn.metrics import roc_curve, auc, roc_auc_score, confusion_matrix, classification_report\n",
    "\n",
    "def get_models():\n",
    "    \"\"\"Generate a library of base learners.\"\"\"\n",
    "    nb = GaussianNB()\n",
    "    svc = SVC(C=100, probability=True, class_weight='balanced')\n",
    "    knn = KNeighborsClassifier(n_neighbors=3)\n",
    "    lr = LogisticRegression(C=100, random_state=SEED, solver='liblinear', class_weight='balanced')\n",
    "    nn = MLPClassifier((100, 50), early_stopping=True, random_state=SEED, max_iter=400, activation='tanh')\n",
    "    gb = GradientBoostingClassifier(n_estimators=100, random_state=SEED)\n",
    "    rf = RandomForestClassifier(n_estimators=10, max_features=3, random_state=SEED, class_weight='balanced')\n",
    "\n",
    "    models = {'svm': svc,\n",
    "              'knn': knn,\n",
    "              'naive bayes': nb,\n",
    "              'mlp-nn': nn,\n",
    "              'random forest': rf,\n",
    "              'gbm': gb,\n",
    "              'logistic': lr,\n",
    "              }\n",
    "\n",
    "    return models\n",
    "\n",
    "\n",
    "def train_predict(model_list, xtrain, ytrain, xtest):\n",
    "    \"\"\"Fit models in list on training set and return preds\"\"\"\n",
    "    P = np.zeros((ytest.shape[0], len(model_list)))\n",
    "    P = pd.DataFrame(P)\n",
    "\n",
    "    print(\"Fitting models.\")\n",
    "    cols = list()\n",
    "    for i, (name, m) in enumerate(models.items()):\n",
    "        current_time = datetime.now() \n",
    "        print(\"%s...\" % name, end=\" \", flush=False)\n",
    "        m.fit(xtrain, ytrain)\n",
    "        P.iloc[:, i] = m.predict_proba(xtest)[:, 1]\n",
    "        cols.append(name)\n",
    "        time_elapsed = datetime.now() - current_time\n",
    "        print(\"Time elapsed \", time_elapsed)\n",
    "        print(\"done\")\n",
    "\n",
    "    P.columns = cols\n",
    "    print(\"Done.\\n\")\n",
    "    return P\n",
    "\n",
    "\n",
    "def score_models(P, y):\n",
    "    \"\"\"Score model in prediction DF\"\"\"\n",
    "    print(\"Scoring models.\")\n",
    "    for m in P.columns:\n",
    "        score = roc_auc_score(y, P.loc[:, m])\n",
    "        print(\"%-26s: %.3f\" % (m, score))\n",
    "    print(\"Done.\\n\")"
   ]
  },
  {
   "cell_type": "code",
   "execution_count": 14,
   "metadata": {},
   "outputs": [
    {
     "name": "stdout",
     "output_type": "stream",
     "text": [
      "Fitting models.\n",
      "svm... Time elapsed  0:20:19.073042\n",
      "done\n",
      "knn... Time elapsed  0:00:24.402219\n",
      "done\n",
      "naive bayes... Time elapsed  0:00:00.071567\n",
      "done\n",
      "mlp-nn... Time elapsed  0:00:02.838126\n",
      "done\n",
      "random forest... Time elapsed  0:00:00.442235\n",
      "done\n",
      "gbm... Time elapsed  0:09:40.286258\n",
      "done\n",
      "logistic... Time elapsed  0:00:03.834713\n",
      "done\n",
      "Done.\n",
      "\n",
      "Scoring models.\n",
      "svm                       : 0.606\n",
      "knn                       : 0.566\n",
      "naive bayes               : 0.684\n",
      "mlp-nn                    : 0.685\n",
      "random forest             : 0.587\n",
      "gbm                       : 0.708\n",
      "logistic                  : 0.715\n",
      "Done.\n",
      "\n"
     ]
    }
   ],
   "source": [
    "models = get_models()\n",
    "P = train_predict(models, Xtrain_scaled, ytrain, Xtest_scaled)\n",
    "score_models(P, ytest)"
   ]
  },
  {
   "cell_type": "code",
   "execution_count": 9,
   "metadata": {},
   "outputs": [
    {
     "name": "stdout",
     "output_type": "stream",
     "text": [
      "[[4860 2195]\n",
      " [ 172  288]]\n",
      "              precision    recall  f1-score   support\n",
      "\n",
      "         0.0       0.97      0.69      0.80      7055\n",
      "         1.0       0.12      0.63      0.20       460\n",
      "\n",
      "    accuracy                           0.69      7515\n",
      "   macro avg       0.54      0.66      0.50      7515\n",
      "weighted avg       0.91      0.69      0.77      7515\n",
      "\n",
      "28.199261839999963\n"
     ]
    }
   ],
   "source": [
    "#import warnings\n",
    "#warnings.filterwarnings(\"ignore\")\n",
    "import time\n",
    "from sklearn.model_selection import train_test_split\n",
    "from sklearn.linear_model import LogisticRegression\n",
    "from sklearn.metrics import confusion_matrix\n",
    "from sklearn.metrics import plot_confusion_matrix\n",
    "from sklearn.metrics import classification_report\n",
    "\n",
    "start_time = time.monotonic()\n",
    "clf = LogisticRegression(solver='liblinear', random_state=SEED, class_weight='balanced', max_iter=200)\n",
    "clf.fit(Xtrain,ytrain)\n",
    "ypred = clf.predict(Xtest)\n",
    "print(confusion_matrix(ytest, ypred))\n",
    "print(classification_report(ytest, ypred))\n",
    "print(time.monotonic()-start_time)\n",
    "start_time = time.monotonic()"
   ]
  },
  {
   "cell_type": "code",
   "execution_count": 12,
   "metadata": {},
   "outputs": [
    {
     "name": "stdout",
     "output_type": "stream",
     "text": [
      "Scoring models.\n",
      "0.0001                    : 0.663\n",
      "0.001                     : 0.680\n",
      "0.01                      : 0.699\n",
      "0.1                       : 0.710\n",
      "1.0                       : 0.714\n",
      "10.0                      : 0.715\n",
      "100.0                     : 0.715\n",
      "1000.0                    : 0.715\n",
      "10000.0                   : 0.715\n",
      "Done.\n",
      "\n"
     ]
    }
   ],
   "source": [
    "from sklearn.metrics import roc_curve, auc, roc_auc_score, confusion_matrix, classification_report\n",
    "\n",
    "def score_models(P, y):\n",
    "    \"\"\"Score model in prediction DF\"\"\"\n",
    "    print(\"Scoring models.\")\n",
    "    for m in P.columns:\n",
    "        score = roc_auc_score(y, P.loc[:, m])\n",
    "        print(\"%-26s: %.3f\" % (m, score))\n",
    "    print(\"Done.\\n\")\n",
    "\n",
    "start_time = time.monotonic()\n",
    "\n",
    "Cs = np.logspace(-4, 4, 9)\n",
    "PL = np.zeros((ytest.shape[0], len(Cs)))\n",
    "PL = pd.DataFrame(PL)\n",
    "\n",
    "\n",
    "Cs = np.logspace(-4, 4, 9)\n",
    "ave_train_scores=[]\n",
    "test_scores=[]\n",
    "\n",
    "logreg_models = {}\n",
    "cols = list()\n",
    "for i in range(len(Cs)):\n",
    "    clf = LogisticRegression(C=Cs[i], random_state=SEED, solver='liblinear', class_weight='balanced')\n",
    "    clf.fit(Xtrain_scaled, ytrain)\n",
    "    PL.iloc[:, i] = clf.predict_proba(Xtest_scaled)[:, 1]\n",
    "    cols.append(Cs[i])\n",
    "    logreg_models[Cs[i]] = clf\n",
    "\n",
    "PL.columns = cols\n",
    "score_models(PL, ytest) "
   ]
  },
  {
   "cell_type": "code",
   "execution_count": 15,
   "metadata": {},
   "outputs": [
    {
     "data": {
      "image/png": "[encoded data removed]",
      "text/plain": [
       "<Figure size 432x288 with 1 Axes>"
      ]
     },
     "metadata": {
      "needs_background": "light"
     },
     "output_type": "display_data"
    }
   ],
   "source": [
    "logit_roc_auc_001 = roc_auc_score(ytest, PL[0.01])\n",
    "logit_roc_auc_100 = roc_auc_score(ytest, PL[100])\n",
    "\n",
    "fpr_001, tpr_001, _001 = roc_curve(ytest, PL[0.01])\n",
    "fpr_100, tpr_100, _100 = roc_curve(ytest, PL[100])\n",
    "plt.figure()\n",
    "plt.plot(fpr_001, tpr_001, label='Logistic Regression for C=0.01 (area = %0.3f)' % logit_roc_auc_001)\n",
    "plt.plot(fpr_100, tpr_100, label='Logistic Regression for C=100 (area = %0.3f)' % logit_roc_auc_100)\n",
    "plt.plot([0, 1], [0, 1],'r--')\n",
    "plt.xlim([0.0, 1.0])\n",
    "plt.ylim([0.0, 1.05])\n",
    "plt.xlabel('False Positive Rate')\n",
    "plt.ylabel('True Positive Rate')\n",
    "plt.title('Receiver operating characteristic')\n",
    "plt.legend(loc=\"lower right\")\n",
    "plt.savefig('Log_ROC')\n",
    "plt.show()"
   ]
  },
  {
   "cell_type": "code",
   "execution_count": 17,
   "metadata": {},
   "outputs": [
    {
     "name": "stdout",
     "output_type": "stream",
     "text": [
      "[[4848 2207]\n",
      " [ 174  286]]\n",
      "              precision    recall  f1-score   support\n",
      "\n",
      "         0.0       0.97      0.69      0.80      7055\n",
      "         1.0       0.11      0.62      0.19       460\n",
      "\n",
      "    accuracy                           0.68      7515\n",
      "   macro avg       0.54      0.65      0.50      7515\n",
      "weighted avg       0.91      0.68      0.77      7515\n",
      "\n",
      "10.78173574199991\n"
     ]
    }
   ],
   "source": [
    "start_time = time.monotonic()\n",
    "clf = LogisticRegression(penalty='l1', C=100, solver='liblinear', random_state=SEED, class_weight='balanced', max_iter=200)\n",
    "clf.fit(Xtrain,ytrain)\n",
    "ypred = clf.predict(Xtest)\n",
    "print(confusion_matrix(ytest, ypred))\n",
    "print(classification_report(ytest, ypred))\n",
    "print(time.monotonic()-start_time)\n",
    "start_time = time.monotonic()"
   ]
  },
  {
   "cell_type": "code",
   "execution_count": null,
   "metadata": {},
   "outputs": [],
   "source": []
  }
 ],
 "metadata": {
  "kernelspec": {
   "display_name": "MIMIC-III-readmission-prediction",
   "language": "python",
   "name": "mimic-iii-readmission-prediction"
  },
  "language_info": {
   "codemirror_mode": {
    "name": "ipython",
    "version": 3
   },
   "file_extension": ".py",
   "mimetype": "text/x-python",
   "name": "python",
   "nbconvert_exporter": "python",
   "pygments_lexer": "ipython3",
   "version": "3.7.3"
  }
 },
 "nbformat": 4,
 "nbformat_minor": 4
}
